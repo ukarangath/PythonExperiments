{
 "cells": [
  {
   "cell_type": "markdown",
   "metadata": {},
   "source": [
    "# Self play book"
   ]
  },
  {
   "cell_type": "code",
   "execution_count": 1,
   "metadata": {},
   "outputs": [
    {
     "name": "stdout",
     "output_type": "stream",
     "text": [
      "[]\n"
     ]
    }
   ],
   "source": [
    "#empty\n",
    "initial_list = []\n",
    "print(initial_list)"
   ]
  },
  {
   "cell_type": "code",
   "execution_count": 2,
   "metadata": {},
   "outputs": [
    {
     "name": "stdout",
     "output_type": "stream",
     "text": [
      "['R', 'Python', 'SAS', 'Scala', 42]\n",
      "[345, 'anything gets stored here', ['R', 'Python', 'SAS', 'Scala', 42], 'test']\n"
     ]
    }
   ],
   "source": [
    "DA_languages = ['R','Python', 'SAS', 'Scala', 42]\n",
    "print(DA_languages)\n",
    "str = \"test\"\n",
    "store = [345,'anything gets stored here', DA_languages, str]\n",
    "print(store)"
   ]
  },
  {
   "cell_type": "code",
   "execution_count": 3,
   "metadata": {},
   "outputs": [
    {
     "name": "stdout",
     "output_type": "stream",
     "text": [
      "R\n"
     ]
    }
   ],
   "source": [
    "#indexing is same like string\n",
    "print(DA_languages[0])"
   ]
  },
  {
   "cell_type": "code",
   "execution_count": 4,
   "metadata": {},
   "outputs": [
    {
     "name": "stdout",
     "output_type": "stream",
     "text": [
      "['Python', 'SAS']\n"
     ]
    }
   ],
   "source": [
    "#excluding 4th element\n",
    "print(DA_languages[1:3])\n"
   ]
  },
  {
   "cell_type": "code",
   "execution_count": 5,
   "metadata": {},
   "outputs": [
    {
     "name": "stdout",
     "output_type": "stream",
     "text": [
      "['R', 'Python']\n"
     ]
    }
   ],
   "source": [
    "print(DA_languages[0:2])"
   ]
  },
  {
   "cell_type": "code",
   "execution_count": 6,
   "metadata": {},
   "outputs": [
    {
     "name": "stdout",
     "output_type": "stream",
     "text": [
      "42\n"
     ]
    }
   ],
   "source": [
    "print(DA_languages[-1])"
   ]
  },
  {
   "cell_type": "code",
   "execution_count": 7,
   "metadata": {},
   "outputs": [
    {
     "name": "stdout",
     "output_type": "stream",
     "text": [
      "['SAS', 'Scala', 42]\n"
     ]
    }
   ],
   "source": [
    "print(DA_languages[2:])"
   ]
  },
  {
   "cell_type": "code",
   "execution_count": 8,
   "metadata": {},
   "outputs": [
    {
     "name": "stdout",
     "output_type": "stream",
     "text": [
      "['R', 'Python']\n"
     ]
    }
   ],
   "source": [
    "#[VM]same like [0 : -3], does not print (-3)rd element, only till (-3-1 i.e -4th)nd element\n",
    "print(DA_languages[ : -3])"
   ]
  },
  {
   "cell_type": "code",
   "execution_count": 9,
   "metadata": {},
   "outputs": [
    {
     "name": "stdout",
     "output_type": "stream",
     "text": [
      "['R', 'Python', 'SAS', 'Scala', 42, 'Java']\n"
     ]
    }
   ],
   "source": [
    "DA_languages = ['R','Python', 'SAS', 'Scala', 42]\n",
    "DA_languages.append('Java')\n",
    "print(DA_languages)"
   ]
  },
  {
   "cell_type": "code",
   "execution_count": 10,
   "metadata": {},
   "outputs": [
    {
     "name": "stdout",
     "output_type": "stream",
     "text": [
      "['R', 'Python', 'SAS', 'Scala', 42]\n"
     ]
    }
   ],
   "source": [
    "#removes from the end - queue related functionality. Once the ist is empty and you are trying to pop then \n",
    "#it gives error: IndexError: pop from empty list\n",
    "DA_languages.pop()\n",
    "print(DA_languages)"
   ]
  },
  {
   "cell_type": "code",
   "execution_count": 11,
   "metadata": {},
   "outputs": [
    {
     "name": "stdout",
     "output_type": "stream",
     "text": [
      "['Python', 'SAS', 'Scala', 42]\n"
     ]
    }
   ],
   "source": [
    "#pop(0) removes from begining of the list\n",
    "DA_languages.pop(0) \n",
    "print(DA_languages)"
   ]
  },
  {
   "cell_type": "code",
   "execution_count": 12,
   "metadata": {},
   "outputs": [
    {
     "name": "stdout",
     "output_type": "stream",
     "text": [
      "['Python', 'Scala', 42]\n"
     ]
    }
   ],
   "source": [
    "DA_languages.pop(1)\n",
    "print(DA_languages)"
   ]
  },
  {
   "cell_type": "code",
   "execution_count": 13,
   "metadata": {},
   "outputs": [
    {
     "name": "stdout",
     "output_type": "stream",
     "text": [
      "['Python', 'Scala', 42, 'R']\n"
     ]
    }
   ],
   "source": [
    "#Element gets added at right end side\n",
    "#Note: Here we need to pass the elements to append and remove function\n",
    "DA_languages.append('R')\n",
    "DA_languages.remove('R')\n",
    "#can append same list also\n",
    "DA_languages.append(DA_languages)\n",
    "DA_languages.remove(DA_languages)\n",
    "tstlst = ['sfsdfsfds']\n",
    "DA_languages.append(tstlst)\n",
    "DA_languages.remove(tstlst)\n",
    "DA_languages.append('R')\n",
    "print(DA_languages)"
   ]
  },
  {
   "cell_type": "code",
   "execution_count": 14,
   "metadata": {},
   "outputs": [
    {
     "name": "stdout",
     "output_type": "stream",
     "text": [
      "None\n"
     ]
    }
   ],
   "source": [
    "#append() method only modifies the original list. It doesn't return any value.\n",
    "#If we get to the end of any function and we have not explicitly executed any return statement, \n",
    "#Python automatically returns the value 'None'.\n",
    "print(DA_languages.append('R'))\n"
   ]
  },
  {
   "cell_type": "code",
   "execution_count": 15,
   "metadata": {},
   "outputs": [
    {
     "name": "stdout",
     "output_type": "stream",
     "text": [
      "['Python', 'Scala', 42, 'R', 'R', 'Java']\n"
     ]
    }
   ],
   "source": [
    "#With new_list = DA_languages, you don't actually have two lists. The assignment just copies \n",
    "#the reference to the list, not the actual list, so both new_list & DA_languages refer to \n",
    "#the same list after the assignment.\n",
    "new_list = DA_languages\n",
    "DA_languages.append('Java')\n",
    "print(new_list)\n"
   ]
  },
  {
   "cell_type": "code",
   "execution_count": 16,
   "metadata": {},
   "outputs": [
    {
     "name": "stdout",
     "output_type": "stream",
     "text": [
      "84429512\n"
     ]
    }
   ],
   "source": [
    "#Python id() function returns the “identity” of the object. The identity of an object is an integer, \n",
    "#which is guaranteed to be unique and constant for this object during its lifetime. Two objects with \n",
    "#non-overlapping lifetimes may have the same id() value.\n",
    "print(id(DA_languages))"
   ]
  },
  {
   "cell_type": "code",
   "execution_count": 17,
   "metadata": {},
   "outputs": [
    {
     "name": "stdout",
     "output_type": "stream",
     "text": [
      "84429512\n"
     ]
    }
   ],
   "source": [
    "print(id(new_list))"
   ]
  },
  {
   "cell_type": "code",
   "execution_count": 18,
   "metadata": {},
   "outputs": [
    {
     "name": "stdout",
     "output_type": "stream",
     "text": [
      "79416520\n"
     ]
    }
   ],
   "source": [
    "#another way to clone the list with different id using [:]\n",
    "new_list = DA_languages[:]\n",
    "print(id(new_list))"
   ]
  },
  {
   "cell_type": "code",
   "execution_count": 19,
   "metadata": {},
   "outputs": [
    {
     "name": "stdout",
     "output_type": "stream",
     "text": [
      "81630344\n"
     ]
    }
   ],
   "source": [
    "#another way to clone the list with different id using function copy()\n",
    "another_list = DA_languages.copy()\n",
    "print(id(another_list))"
   ]
  },
  {
   "cell_type": "code",
   "execution_count": 20,
   "metadata": {},
   "outputs": [],
   "source": [
    "a_sentence = \"Hi Saif, this is to inform you that I'm not well  today.\""
   ]
  },
  {
   "cell_type": "code",
   "execution_count": 21,
   "metadata": {},
   "outputs": [
    {
     "name": "stdout",
     "output_type": "stream",
     "text": [
      "['Hi', 'Saif,', 'this', 'is', 'to', 'inform', 'you', 'that', \"I'm\", 'not', 'well', 'today.']\n",
      "Hi & Saif, & this & is & to & inform & you & that & I'm & not & well & today.\n"
     ]
    }
   ],
   "source": [
    "#by default splits at white space/spaces\n",
    "words_in_sentence = a_sentence.split() \n",
    "print(words_in_sentence)\n",
    "#testing\n",
    "joined_words = \" & \".join(words_in_sentence)\n",
    "print(joined_words)"
   ]
  },
  {
   "cell_type": "code",
   "execution_count": 22,
   "metadata": {},
   "outputs": [],
   "source": [
    "a_mail = \"Hi Saif, this is to inform you that I'm not well today. I won't be coming to office, but I'm available on call. Thanks.\""
   ]
  },
  {
   "cell_type": "code",
   "execution_count": 23,
   "metadata": {},
   "outputs": [
    {
     "name": "stdout",
     "output_type": "stream",
     "text": [
      "[\"Hi Saif, this is to inform you that I'm not well today\", \" I won't be coming to office, but I'm available on call\", ' Thanks', '']\n"
     ]
    }
   ],
   "source": [
    "#splits only at '.'\n",
    "sentences_in_mail = a_mail.split('.')\n",
    "print(sentences_in_mail)"
   ]
  },
  {
   "cell_type": "code",
   "execution_count": 24,
   "metadata": {},
   "outputs": [
    {
     "name": "stdout",
     "output_type": "stream",
     "text": [
      "Hi Saif, this is to inform you that I'm not well today  I won't be coming to office, but I'm available on call  Thanks \n"
     ]
    }
   ],
   "source": [
    "#joins the items in list with a space as delimiter\n",
    "mail = \" \".join(sentences_in_mail)\n",
    "print(mail)"
   ]
  },
  {
   "cell_type": "markdown",
   "metadata": {},
   "source": [
    "#### Note: In the string a_mail, the last part is  \"call. Thanks.\", once we did \"sentences_in_mail = a_mail.split('.')\" then the last part of sentences_in_mail splits like [\"Hi Saif, this is to inform you that I'm not well today\", \" I won't be coming to office, but I'm available on call\", ' Thanks', ''], this is due to the dot present after Thanks. Once you join it by running \"mail_new = \" & \".join(sentences_in_mail)\", the final sentence main_new will be like \"Hi Saif, this is to inform you that I'm not well today &  I won't be coming to office, but I'm available on call &  Thanks & \""
   ]
  },
  {
   "cell_type": "code",
   "execution_count": 25,
   "metadata": {},
   "outputs": [
    {
     "name": "stdout",
     "output_type": "stream",
     "text": [
      "[\"Hi Saif, this is to inform you that I'm not well today\", \" I won't be coming to office, but I'm available on call\", ' Thanks', '']\n",
      "Hi Saif, this is to inform you that I'm not well today &  I won't be coming to office, but I'm available on call &  Thanks & \n"
     ]
    }
   ],
   "source": [
    "#joins the items in list with \" & \" as delimiter\n",
    "mail_new = \" & \".join(sentences_in_mail)\n",
    "print(sentences_in_mail)\n",
    "print(mail_new)"
   ]
  },
  {
   "cell_type": "code",
   "execution_count": 26,
   "metadata": {},
   "outputs": [
    {
     "ename": "NameError",
     "evalue": "name 'my_list' is not defined",
     "output_type": "error",
     "traceback": [
      "\u001b[1;31m---------------------------------------------------------------------------\u001b[0m",
      "\u001b[1;31mNameError\u001b[0m                                 Traceback (most recent call last)",
      "\u001b[1;32m<ipython-input-26-90c638620a24>\u001b[0m in \u001b[0;36m<module>\u001b[1;34m\u001b[0m\n\u001b[0;32m      1\u001b[0m \u001b[1;31m#natural interpretation of arithmetic operators in list domain\u001b[0m\u001b[1;33m\u001b[0m\u001b[1;33m\u001b[0m\u001b[1;33m\u001b[0m\u001b[0m\n\u001b[1;32m----> 2\u001b[1;33m \u001b[0mprint\u001b[0m\u001b[1;33m(\u001b[0m\u001b[0mmy_list\u001b[0m \u001b[1;33m+\u001b[0m \u001b[0mmy_list\u001b[0m\u001b[1;33m)\u001b[0m\u001b[1;33m\u001b[0m\u001b[1;33m\u001b[0m\u001b[0m\n\u001b[0m",
      "\u001b[1;31mNameError\u001b[0m: name 'my_list' is not defined"
     ]
    }
   ],
   "source": [
    "#natural interpretation of arithmetic operators in list domain\n",
    "print(my_list + my_list)"
   ]
  },
  {
   "cell_type": "code",
   "execution_count": null,
   "metadata": {},
   "outputs": [],
   "source": [
    "#querying length of the list\n",
    "nums = [2,6,9,3,2,1]\n",
    "print(len(nums))"
   ]
  },
  {
   "cell_type": "code",
   "execution_count": null,
   "metadata": {},
   "outputs": [],
   "source": [
    "print(sorted(nums))"
   ]
  },
  {
   "cell_type": "code",
   "execution_count": null,
   "metadata": {},
   "outputs": [],
   "source": [
    "print(max(nums))"
   ]
  },
  {
   "cell_type": "code",
   "execution_count": null,
   "metadata": {},
   "outputs": [],
   "source": [
    "#list with elements as other lists\n",
    "print(min(nums))"
   ]
  },
  {
   "cell_type": "code",
   "execution_count": null,
   "metadata": {},
   "outputs": [],
   "source": [
    "nest = [[1, 2, 3, 4], [ 5, 6, 7], [8, 9, 10]]\n",
    "#prints the lists inside the list\n",
    "print(nest[1])\n"
   ]
  },
  {
   "cell_type": "code",
   "execution_count": null,
   "metadata": {},
   "outputs": [],
   "source": [
    "#prints 2nd element of 1st list\n",
    "print(nest[0][1])"
   ]
  },
  {
   "cell_type": "code",
   "execution_count": null,
   "metadata": {},
   "outputs": [],
   "source": [
    "#prints 1st and 2nd element of list\n",
    "print(nest[0:2])"
   ]
  },
  {
   "cell_type": "code",
   "execution_count": null,
   "metadata": {},
   "outputs": [],
   "source": [
    "#quiz snippets\n",
    "word = ['1','2','3','4']\n",
    "#to empty an existing list\n",
    "#word[ : ] = [ ] OR\n",
    "word = []\n",
    "print(word)"
   ]
  },
  {
   "cell_type": "markdown",
   "metadata": {},
   "source": [
    "### Practice from additional references"
   ]
  },
  {
   "cell_type": "code",
   "execution_count": null,
   "metadata": {},
   "outputs": [],
   "source": [
    "word = ['1sd','2fsd','3sd','4']\n",
    "print(word.index('4'))\n",
    "word.pop\n",
    "#del word[:] #deleted OR\n",
    "word.clear()\n",
    "print(word)"
   ]
  },
  {
   "cell_type": "code",
   "execution_count": null,
   "metadata": {},
   "outputs": [],
   "source": [
    "#creating a long list with a small list and list of lists\n",
    "my_list = [\"Hi\", \"Hello\"]\n",
    "#big list with 5 times my_list elements merged\n",
    "store = my_list*5 \n",
    "#list of lists\n",
    "store_list = [my_list]*5 \n",
    "print(store)\n",
    "print(store_list)"
   ]
  }
 ],
 "metadata": {
  "anaconda-cloud": {},
  "kernelspec": {
   "display_name": "Python 3",
   "language": "python",
   "name": "python3"
  },
  "language_info": {
   "codemirror_mode": {
    "name": "ipython",
    "version": 3
   },
   "file_extension": ".py",
   "mimetype": "text/x-python",
   "name": "python",
   "nbconvert_exporter": "python",
   "pygments_lexer": "ipython3",
   "version": "3.7.3"
  }
 },
 "nbformat": 4,
 "nbformat_minor": 1
}
