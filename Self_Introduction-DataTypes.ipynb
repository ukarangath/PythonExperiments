{
 "cells": [
  {
   "cell_type": "markdown",
   "metadata": {},
   "source": [
    "# Self play book"
   ]
  },
  {
   "cell_type": "code",
   "execution_count": 1,
   "metadata": {
    "scrolled": true
   },
   "outputs": [
    {
     "name": "stdout",
     "output_type": "stream",
     "text": [
      "This is my first line of code in python\n"
     ]
    }
   ],
   "source": [
    "print(\"This is my first line of code in python\")"
   ]
  },
  {
   "cell_type": "code",
   "execution_count": null,
   "metadata": {
    "collapsed": true
   },
   "outputs": [],
   "source": []
  },
  {
   "cell_type": "code",
   "execution_count": 2,
   "metadata": {
    "scrolled": true
   },
   "outputs": [
    {
     "name": "stdout",
     "output_type": "stream",
     "text": [
      "Hello\n",
      "This is in the next line\n"
     ]
    }
   ],
   "source": [
    "print(\"Hello\\nThis is in the next line\")"
   ]
  },
  {
   "cell_type": "code",
   "execution_count": 3,
   "metadata": {},
   "outputs": [
    {
     "name": "stdout",
     "output_type": "stream",
     "text": [
      "14\n",
      "2\n",
      "48\n",
      "1.3333333333333333\n",
      "1\n",
      "2\n",
      "262144\n"
     ]
    }
   ],
   "source": [
    "a = 8\n",
    "b = 6\n",
    "print(a + b)  \n",
    "\n",
    "print(a - b) \n",
    "print(a * b) \n",
    "# a single slash character for classic division\n",
    "print(a / b)\n",
    "#double-slash for “floor” division (rounds down to nearest whole number)\n",
    "print(a // b)\n",
    "print(a % b) \n",
    "#(a^b)\n",
    "print(a ** b)"
   ]
  },
  {
   "cell_type": "code",
   "execution_count": 4,
   "metadata": {},
   "outputs": [
    {
     "name": "stdout",
     "output_type": "stream",
     "text": [
      "18.0\n",
      "17.0\n",
      "17\n"
     ]
    }
   ],
   "source": [
    "#BEDMAS - BEDMAS tells us that brackets are the highest priority, then exponents, \n",
    "#then both division and multiplication, and finally addition and subtraction. \n",
    "#This means that we evaluate exponents before we multiply, divide before we subtract, etc.\n",
    "print(4 * 5 - (10 + 4) / 7)\n",
    "print(4 * 2**2 - 4 + 10 / 2)\n",
    "print(16 - 4 + 5) #an expression of AS(addition and substraction) evaluate from left to right,similar for DM(/ & *)"
   ]
  },
  {
   "cell_type": "code",
   "execution_count": 5,
   "metadata": {},
   "outputs": [
    {
     "name": "stdout",
     "output_type": "stream",
     "text": [
      "10\n",
      "9\n",
      "-1\n"
     ]
    }
   ],
   "source": [
    "inc = 9\n",
    "inc += 1\n",
    "print(inc)\n",
    "inc -= 1\n",
    "print(inc)\n",
    "inc1 = 9\n",
    "inc1 =- 1 #this means inc1 is negative one, no operator like this\n",
    "print(inc1)"
   ]
  },
  {
   "cell_type": "code",
   "execution_count": 6,
   "metadata": {},
   "outputs": [
    {
     "name": "stdout",
     "output_type": "stream",
     "text": [
      "True\n",
      "False\n",
      "True\n",
      "True\n",
      "True\n"
     ]
    }
   ],
   "source": [
    "#Logical\n",
    "a = 9\n",
    "b = 4\n",
    "print(3 < 4)\n",
    "print(True and False) \n",
    "print(True or False)\n",
    "print(a!=b)#prints True is a is not equal to b,if not prints false\n",
    "print(True and not False)"
   ]
  },
  {
   "cell_type": "code",
   "execution_count": 7,
   "metadata": {},
   "outputs": [
    {
     "name": "stdout",
     "output_type": "stream",
     "text": [
      "I AM UPPER CASED\n",
      "i am lower cased\n"
     ]
    }
   ],
   "source": [
    "small = \"i am upper cased\"\n",
    "print(small.upper())\n",
    "\n",
    "large = \"I AM LOWER CASED\"\n",
    "print(large.lower())\n"
   ]
  },
  {
   "cell_type": "code",
   "execution_count": 8,
   "metadata": {},
   "outputs": [
    {
     "name": "stdout",
     "output_type": "stream",
     "text": [
      "There is a space at the en d    \n",
      "There is a space at the en d\n",
      "Geeks   for Geeks \n",
      "geeks for g\n",
      "\n"
     ]
    }
   ],
   "source": [
    "some_sentence = \"There is a space at the en d    \"\n",
    "print(some_sentence)\n",
    "#rstrip() method returns a copy of the string with trailing characters removed \n",
    "#(based on the string argument passed). If no argument is passed, it removes trailing spaces.\n",
    "print(some_sentence.rstrip())\n",
    "#Another demo\n",
    "# string which is to be stripped \n",
    "string = \"   for    \"\n",
    "  \n",
    "# End whitespaces are removed from string\n",
    "# '+' is for joining strings\n",
    "print(\"Geeks\" + string.rstrip() + \" Geeks \")  \n",
    "#rstrip with arguments\n",
    "# string which is to be stripped \n",
    "string = \"geeks for geeks\"\n",
    "  \n",
    "# Removes given set of characters from right if any one occures at end till control encounters \n",
    "# a character which does not belong to 'ske', which is g\n",
    "print(string.rstrip('ske'))\n",
    "#below string removes all characters from the string, REMEMBER space is also a character due to which\n",
    "#'print(string.rstrip('geksfor'))' without space prints 'Geeks   for ', as control encounters space \n",
    "#after for which is not present in rstrip('geksfor')\n",
    "print(string.rstrip('skegrof '))"
   ]
  },
  {
   "cell_type": "code",
   "execution_count": 9,
   "metadata": {},
   "outputs": [
    {
     "name": "stdout",
     "output_type": "stream",
     "text": [
      "4\n"
     ]
    }
   ],
   "source": [
    "increment = '4%'\n",
    "print(increment.rstrip('%')) "
   ]
  },
  {
   "cell_type": "code",
   "execution_count": 10,
   "metadata": {},
   "outputs": [
    {
     "name": "stdout",
     "output_type": "stream",
     "text": [
      "   There is space at the start\n",
      "   8888$888this is string example....wow!!!8888888\n"
     ]
    }
   ],
   "source": [
    "#Python string method lstrip() returns a copy of the string in which all chars have been \n",
    "#stripped from the beginning of the string (default whitespace characters).\n",
    "start = \"   There is space at the start\"\n",
    "print(start)\n",
    "  \n",
    "str = \"$   8888$888this is string example....wow!!!8888888\"\n",
    "print (str.lstrip('$'))"
   ]
  },
  {
   "cell_type": "code",
   "execution_count": 11,
   "metadata": {},
   "outputs": [
    {
     "name": "stdout",
     "output_type": "stream",
     "text": [
      "   Trim whitespaces  \n",
      "Trim whitespaces\n",
      "###  $ Trim whitespaces $ ####\n",
      "  $ Trim whitespaces $ \n",
      "###  $ Trim whitespaces $ ####\n"
     ]
    }
   ],
   "source": [
    "#Python string method strip() returns a copy of the string in which all chars have been \n",
    "#stripped from the beginning and the end of the string (default whitespace characters).\n",
    "spaces = \"   Trim whitespaces  \"\n",
    "print(spaces)\n",
    "print(spaces.strip())\n",
    "spaces = \"###  $ Trim whitespaces $ ####\"\n",
    "print(spaces)\n",
    "print(spaces.strip('#'))\n",
    "print(spaces.strip('$'))"
   ]
  },
  {
   "cell_type": "code",
   "execution_count": 12,
   "metadata": {},
   "outputs": [
    {
     "name": "stdout",
     "output_type": "stream",
     "text": [
      "444\n",
      "444\n"
     ]
    }
   ],
   "source": [
    "num_with_chars = '*444#'\n",
    "#combined usage for removing different characters at begining and end\n",
    "print(num_with_chars.rstrip('#').lstrip('*'))\n",
    "num_with_chars = '$$$$$$444      '\n",
    "#by default rstrip removes whitespaces, same for lstrip and strip\n",
    "print(num_with_chars.rstrip().lstrip('$'))"
   ]
  },
  {
   "cell_type": "code",
   "execution_count": 13,
   "metadata": {},
   "outputs": [
    {
     "name": "stdout",
     "output_type": "stream",
     "text": [
      "number of apples is 2\n",
      "last character:  s\n",
      "Name of fruit:  apples\n"
     ]
    }
   ],
   "source": [
    "val = \"2 apples\"\n",
    "no_of_apples = val[0] \n",
    "print('number of apples is', no_of_apples)\n",
    "print('last character: ', val[7])\n",
    "print('Name of fruit: ', val[2:])"
   ]
  },
  {
   "cell_type": "code",
   "execution_count": 14,
   "metadata": {},
   "outputs": [
    {
     "name": "stdout",
     "output_type": "stream",
     "text": [
      "apples\n"
     ]
    }
   ],
   "source": [
    "what = val[2:]\n",
    "print(what)"
   ]
  },
  {
   "cell_type": "code",
   "execution_count": 15,
   "metadata": {},
   "outputs": [
    {
     "name": "stdout",
     "output_type": "stream",
     "text": [
      "app\n"
     ]
    }
   ],
   "source": [
    "#slicing by specifying start and end index\n",
    "#[VM]string[a:b] prints from string[a] to string[b-1], not including the character at string[b]. \n",
    "#The same applies if a and b are of any signs.\n",
    "#[VM]prints val[2] till val[4], not including val[5]\n",
    "val = \"2 apples\"\n",
    "print(val[2:5])\n"
   ]
  },
  {
   "cell_type": "code",
   "execution_count": 16,
   "metadata": {},
   "outputs": [
    {
     "name": "stdout",
     "output_type": "stream",
     "text": [
      "5 oranges\n"
     ]
    }
   ],
   "source": [
    "batch = \"5 oranges 3 monkeys n\"\n",
    "fruits = batch[ :9]\n",
    "print(fruits)"
   ]
  },
  {
   "cell_type": "code",
   "execution_count": 17,
   "metadata": {},
   "outputs": [
    {
     "name": "stdout",
     "output_type": "stream",
     "text": [
      "n   s\n",
      "5 oranges 3 monkeys\n",
      "key\n",
      "orange\n"
     ]
    }
   ],
   "source": [
    "#Negative indexing starts as (-1)th index as the last character of the string and backwards\n",
    "#[VM]string[a:b] prints from string[a] to string[b-1], not including the character at string[b]. \n",
    "#The same applies if a and b are of any signs.\n",
    "print(batch[-1],batch[-2],batch[-3])\n",
    "print(batch[ :-2])\n",
    "batch = \"5 oranges 3 monkeys n\"\n",
    "print(batch[-6:-3])#to print 'key'\n",
    "print(batch[-19:-13])#to print orange"
   ]
  },
  {
   "cell_type": "code",
   "execution_count": 18,
   "metadata": {},
   "outputs": [
    {
     "name": "stdout",
     "output_type": "stream",
     "text": [
      "3\n",
      "$\n",
      "3 monkeys\n"
     ]
    }
   ],
   "source": [
    "#[VM]string[a:b] prints from string[a] to string[b-1], not including the character at string[b]. \n",
    "#The same applies if a and b are of any signs.\n",
    "batch = \"5 oranges 3 monkeys$n\" #'$'kept for understanding\n",
    "animals = batch[10:-2]\n",
    "print(batch[10])\n",
    "print(batch[-2])\n",
    "print(animals)"
   ]
  },
  {
   "cell_type": "code",
   "execution_count": 19,
   "metadata": {
    "scrolled": true
   },
   "outputs": [
    {
     "name": "stdout",
     "output_type": "stream",
     "text": [
      "2468\n",
      "2468\n"
     ]
    }
   ],
   "source": [
    "nums = '123456789'\n",
    "#Python sequence slice addresses can be written as a[start:end:step] and any of start, stop or end can be dropped.  \n",
    "#For example str[::3] is every third element of the str.In below case 2nd character prints first then end is empty \n",
    "#means till end of the given string, step is every alternate character from 2nd character, so next is 4th and then\n",
    "#6th and son on till end of the string\n",
    "even_nums = nums[1::2] #equivalent to even_nums = nums[1:8:2]\n",
    "print(even_nums)\n",
    "even_nums = nums[1:8:2]\n",
    "print(even_nums)"
   ]
  },
  {
   "cell_type": "code",
   "execution_count": 20,
   "metadata": {},
   "outputs": [
    {
     "name": "stdout",
     "output_type": "stream",
     "text": [
      "13579\n",
      "9\n",
      "13579\n"
     ]
    }
   ],
   "source": [
    "#Similarly to print all odd numbers from above string\n",
    "odd_nums = nums[0::2] #same as odd_nums = nums[0:8:2]\n",
    "print(odd_nums)\n",
    "odd_nums = nums[0:9:2]\n",
    "print(len(nums))\n",
    "#print(nums[9]) #gives IndexError: string index out of range\n",
    "print(odd_nums)"
   ]
  },
  {
   "cell_type": "code",
   "execution_count": 21,
   "metadata": {},
   "outputs": [
    {
     "name": "stdout",
     "output_type": "stream",
     "text": [
      "13579\n"
     ]
    }
   ],
   "source": [
    "odd_nums_again = nums[ :: 2]#default start value is 0 if not mentioned\n",
    "print(odd_nums_again)"
   ]
  },
  {
   "cell_type": "code",
   "execution_count": 22,
   "metadata": {
    "scrolled": true
   },
   "outputs": [
    {
     "name": "stdout",
     "output_type": "stream",
     "text": [
      "Monty Python\n"
     ]
    }
   ],
   "source": [
    "first_name = \"Monty\"\n",
    "last_name = 'Python'\n",
    "#joins the string with '+'\n",
    "name = first_name + \" \" + last_name \n",
    "print(name)"
   ]
  },
  {
   "cell_type": "code",
   "execution_count": 23,
   "metadata": {},
   "outputs": [
    {
     "name": "stdout",
     "output_type": "stream",
     "text": [
      "I am 30 years old\n",
      "I am 30 years old\n",
      "I am 30 years old and now am 30\n"
     ]
    }
   ],
   "source": [
    "age = 30\n",
    "my_age = (\"I am \"+ format(age) + \" years old\")\n",
    "print(my_age)\n",
    "#OR\n",
    "print(\"I am {} years old\".format(age))\n",
    "My_age = \"I am {0} years old and now am {1}\".format(age,age) \n",
    "print(My_age)\n"
   ]
  },
  {
   "cell_type": "code",
   "execution_count": 24,
   "metadata": {},
   "outputs": [
    {
     "name": "stdout",
     "output_type": "stream",
     "text": [
      "Data Analysis using Pandas\n",
      "Pandas Analysis using Data\n",
      "Data Data using Data\n",
      "Data Analysis using Data\n"
     ]
    }
   ],
   "source": [
    "A = \"Data\"\n",
    "B = \"Analysis\"\n",
    "C = \"Pandas\"\n",
    "\n",
    "print(\"{0} {1} using {2}\".format(A,B,C))\n",
    "print(\"{2} {1} using {0}\".format(A,B,C))\n",
    "print(\"{0} {0} using {0}\".format(A,B,C))\n",
    "print(\"{2} {1} using {2}\".format(C,B,A))"
   ]
  },
  {
   "cell_type": "code",
   "execution_count": 25,
   "metadata": {
    "scrolled": true
   },
   "outputs": [
    {
     "name": "stdout",
     "output_type": "stream",
     "text": [
      "Monty Python I am 30 years old\n"
     ]
    }
   ],
   "source": [
    "#concat and update, name is Monty Python and my_age is I am 30 years old\n",
    "#Here it is like name = name + my_age\n",
    "#consequtive runs would increase the length of the string\n",
    "name = \"Monty Python\"\n",
    "my_age = \"I am 30 years old\"\n",
    "name += ' ' + my_age\n",
    "print(name)"
   ]
  },
  {
   "cell_type": "code",
   "execution_count": 26,
   "metadata": {
    "scrolled": true
   },
   "outputs": [
    {
     "name": "stdout",
     "output_type": "stream",
     "text": [
      "Who is hungry: I am\n",
      "How much hunger you have: so much\n",
      "so much\n"
     ]
    }
   ],
   "source": [
    "#Extraction of string parts - special case\n",
    "testStr = \"I am hungry so much\"\n",
    "print(\"Who is hungry: \" + testStr[:4]) #Here you can put either testStr[0:4], not required though\n",
    "#Here you can put either testStr[12:19], not required though. \n",
    "#The second limit can be anything like testStr[12:20 or 25 or 100], python does not throw any error\n",
    "#testStr[12:] or any higher index than 19 is equivalent to testStr[12:len(testStr)]\n",
    "print(\"How much hunger you have: \" + testStr[12:]) \n",
    "print( testStr[12:len(testStr)])"
   ]
  },
  {
   "cell_type": "code",
   "execution_count": 27,
   "metadata": {
    "scrolled": true
   },
   "outputs": [
    {
     "data": {
      "text/plain": [
       "6"
      ]
     },
     "execution_count": 27,
     "metadata": {},
     "output_type": "execute_result"
    }
   ],
   "source": [
    "#As far as language syntax is concerned, there is no difference in single or double quoted string. \n",
    "#Both representations can be used interchangeably. However, if either single or double quote is a \n",
    "#part of the string itself, then the string must be placed in double or single quotes respectively.\n",
    "len('Python')\n"
   ]
  },
  {
   "cell_type": "code",
   "execution_count": 28,
   "metadata": {},
   "outputs": [
    {
     "data": {
      "text/plain": [
       "6"
      ]
     },
     "execution_count": 28,
     "metadata": {},
     "output_type": "execute_result"
    }
   ],
   "source": [
    "len(\"Python\")"
   ]
  }
 ],
 "metadata": {
  "anaconda-cloud": {},
  "kernelspec": {
   "display_name": "Python 3",
   "language": "python",
   "name": "python3"
  },
  "language_info": {
   "codemirror_mode": {
    "name": "ipython",
    "version": 3
   },
   "file_extension": ".py",
   "mimetype": "text/x-python",
   "name": "python",
   "nbconvert_exporter": "python",
   "pygments_lexer": "ipython3",
   "version": "3.7.3"
  }
 },
 "nbformat": 4,
 "nbformat_minor": 1
}
