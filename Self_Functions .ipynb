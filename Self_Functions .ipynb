{
 "cells": [
  {
   "cell_type": "markdown",
   "metadata": {},
   "source": [
    "## Self Play Book"
   ]
  },
  {
   "cell_type": "code",
   "execution_count": 1,
   "metadata": {},
   "outputs": [
    {
     "name": "stdout",
     "output_type": "stream",
     "text": [
      "Hello World\n"
     ]
    }
   ],
   "source": [
    "def scream():\n",
    "    print('Hello World')\n",
    "scream()\n"
   ]
  },
  {
   "cell_type": "code",
   "execution_count": 2,
   "metadata": {},
   "outputs": [],
   "source": [
    "def square(num):\n",
    "    out = num**2\n",
    "    return(out)\n"
   ]
  },
  {
   "cell_type": "code",
   "execution_count": null,
   "metadata": {},
   "outputs": [],
   "source": [
    "sq_3 = square(3)\n",
    "print(sq_3)"
   ]
  },
  {
   "cell_type": "code",
   "execution_count": null,
   "metadata": {
    "collapsed": true
   },
   "outputs": [],
   "source": [
    "def square(num):\n",
    "    out = num**2\n",
    "    print(out)\n"
   ]
  },
  {
   "cell_type": "code",
   "execution_count": null,
   "metadata": {},
   "outputs": [],
   "source": [
    "q = square(4)\n",
    "print(\"Q is\"+str(q))\n"
   ]
  },
  {
   "cell_type": "code",
   "execution_count": null,
   "metadata": {},
   "outputs": [],
   "source": [
    "def factorial(n):\n",
    "    if n>1:\n",
    "        return n*factorial(n-1)\n",
    "    else:\n",
    "        return n\n",
    "\n",
    "fact = factorial(5)\n",
    "print(fact)\n"
   ]
  },
  {
   "cell_type": "code",
   "execution_count": null,
   "metadata": {
    "collapsed": true
   },
   "outputs": [],
   "source": [
    "def addition(*args):\n",
    "    print(args)\n",
    "    return(sum(args))\n"
   ]
  },
  {
   "cell_type": "code",
   "execution_count": null,
   "metadata": {},
   "outputs": [],
   "source": [
    "print(addition(4,5,6,7,8,9))\n",
    "print(addition(1,2))"
   ]
  },
  {
   "cell_type": "code",
   "execution_count": null,
   "metadata": {},
   "outputs": [],
   "source": [
    "def proper(some_text):\n",
    "    some_text = some_text.strip()\n",
    "    some_text = \" \".join([word[0].upper() + word[1:] for word in some_text.split()])\n",
    "    return some_text\n",
    "\n",
    "captain = proper(\"mahendra singh dhoni\")\n",
    "print(captain)\n"
   ]
  },
  {
   "cell_type": "code",
   "execution_count": null,
   "metadata": {},
   "outputs": [],
   "source": [
    "string_to_list = lambda x: x.split()\n",
    "print(string_to_list(captain))\n",
    "print(type(string_to_list))\n"
   ]
  },
  {
   "cell_type": "code",
   "execution_count": null,
   "metadata": {},
   "outputs": [],
   "source": [
    "product = lambda x, y : x*y\n",
    "print(product(3,4))\n"
   ]
  },
  {
   "cell_type": "markdown",
   "metadata": {
    "collapsed": true
   },
   "source": [
    "#### Programming assignments tips"
   ]
  },
  {
   "cell_type": "code",
   "execution_count": 2,
   "metadata": {},
   "outputs": [
    {
     "name": "stdout",
     "output_type": "stream",
     "text": [
      "Hello\n",
      "WorldWorldWorldWorldWorld\n"
     ]
    }
   ],
   "source": [
    "\"\"\"For some functions, you may want to make some parameters optional and \n",
    "use default values in case the user does not want to provide values for them. \n",
    "This is done with the help of default argument values. You can specify default \n",
    "argument values for parameters by appending to the parameter name in the \n",
    "function definition of the assignment operator (=), followed by the default \n",
    "value. The function 'say' is used to print a string as many times as specified. \n",
    "If you don’t supply a value, then by default, the string is printed just once. \n",
    "You achieve this by specifying a default argument value of 1 to the parameter \n",
    "‘times’. In the first usage of ‘say’, you supply only the string, and it prints \n",
    "the string once. In the second usage of ‘say’, you supply both the string and an \n",
    "argument 5, stating that you want to say the string message five times.\"\"\"\n",
    "\n",
    "def say(message, times = 1):\n",
    "    print(message * times)\n",
    "\n",
    "say('Hello')\n",
    "say('World', 5)"
   ]
  },
  {
   "cell_type": "code",
   "execution_count": 13,
   "metadata": {},
   "outputs": [
    {
     "name": "stdout",
     "output_type": "stream",
     "text": [
      "Hello\n",
      "HaiHaiHaiHai\n",
      "WorldWorldWorldWorldWorldWorld\n"
     ]
    }
   ],
   "source": [
    "\"\"\"NOTE[VM] : Only those parameters which are at the end of the parameter list can be given default \n",
    "argument values i.e. you cannot have a parameter with a default argument value preceding a parameter \n",
    "without a default argument value in the function's parameter list.\n",
    "\n",
    "This is because the values are assigned to the parameters by position. For example,\n",
    "def func(a, b=5) is valid, but def func(a=5, b) is not valid.\"\"\"\n",
    "\n",
    "def say(message, times = 1, time = 1):\n",
    "    print(message * time * times )\n",
    "\n",
    "say('Hello')\n",
    "say('Hai', 2, 2)\n",
    "say('World', 2, 3)"
   ]
  },
  {
   "cell_type": "code",
   "execution_count": 14,
   "metadata": {},
   "outputs": [
    {
     "data": {
      "text/plain": [
       "9996"
      ]
     },
     "execution_count": 14,
     "metadata": {},
     "output_type": "execute_result"
    }
   ],
   "source": [
    "min = (lambda x, y: x if x < y else y)\n",
    "min(101*99, 102*98)"
   ]
  },
  {
   "cell_type": "code",
   "execution_count": 15,
   "metadata": {},
   "outputs": [
    {
     "data": {
      "text/plain": [
       "9999"
      ]
     },
     "execution_count": 15,
     "metadata": {},
     "output_type": "execute_result"
    }
   ],
   "source": [
    "101*99"
   ]
  },
  {
   "cell_type": "code",
   "execution_count": 16,
   "metadata": {},
   "outputs": [
    {
     "data": {
      "text/plain": [
       "9996"
      ]
     },
     "execution_count": 16,
     "metadata": {},
     "output_type": "execute_result"
    }
   ],
   "source": [
    "102*98"
   ]
  },
  {
   "cell_type": "markdown",
   "metadata": {},
   "source": [
    "#### From additional reading"
   ]
  },
  {
   "cell_type": "code",
   "execution_count": 22,
   "metadata": {},
   "outputs": [
    {
     "name": "stdout",
     "output_type": "stream",
     "text": [
      "4 is equal to 4\n"
     ]
    }
   ],
   "source": [
    "#function with parameters\n",
    "def print_max(a, b):\n",
    "    if a > b:\n",
    "        print(a, 'is maximum')\n",
    "    elif a == b:\n",
    "        #two ways of showing integer \n",
    "        print(str(a) + ' is equal to', b)\n",
    "    else:\n",
    "        print(b, 'is maximum')\n",
    "\n",
    "# directly pass literal values\n",
    "print_max(4, 4)"
   ]
  },
  {
   "cell_type": "code",
   "execution_count": 24,
   "metadata": {},
   "outputs": [
    {
     "name": "stdout",
     "output_type": "stream",
     "text": [
      "x is 50\n",
      "Changed local x to 2\n",
      "x is still 50\n"
     ]
    }
   ],
   "source": [
    "#local variables\n",
    "x = 50\n",
    "def func(x):\n",
    "    print('x is', x)\n",
    "    x = 2\n",
    "    print('Changed local x to', x)\n",
    "func(x)\n",
    "print('x is still', x)"
   ]
  },
  {
   "cell_type": "code",
   "execution_count": 25,
   "metadata": {},
   "outputs": [
    {
     "name": "stdout",
     "output_type": "stream",
     "text": [
      "x is 50\n",
      "Changed global x to 2\n",
      "Value of x is 2\n"
     ]
    }
   ],
   "source": [
    "\"\"\"If you want to assign a value to a name defined at the top level of the \n",
    "program (i.e. not inside any kind of scope such as functions or classes), \n",
    "then you have to tell Python that the name is not local, but it is global. \n",
    "We do this using the global statement. It is impossible to assign a value to\n",
    "a variable defined outside a function without the global statement.\"\"\"\n",
    "x = 50\n",
    "def func():\n",
    "    global x\n",
    "\n",
    "    print('x is', x)\n",
    "    x = 2\n",
    "    print('Changed global x to', x)\n",
    "func()\n",
    "print('Value of x is', x)"
   ]
  },
  {
   "cell_type": "code",
   "execution_count": 1,
   "metadata": {},
   "outputs": [
    {
     "name": "stdout",
     "output_type": "stream",
     "text": [
      "a is 3 and b is 7 and c is 10\n",
      "a is 25 and b is 5 and c is 24\n",
      "a is 100 and b is 5 and c is 50\n"
     ]
    }
   ],
   "source": [
    "\"\"\"If you have some functions with many parameters and you want to specify only some of them, \n",
    "then you can give values for such parameters by naming them - this is called keyword arguments - \n",
    "we use the name (keyword) instead of the position (which we have been using all along) to specify \n",
    "the arguments to the function.\n",
    "\n",
    "There are two advantages - one, using the function is easier since we do not need to worry \n",
    "about the order of the arguments. Two, we can give values to only those parameters to which we \n",
    "want to, provided that the other parameters have default argument values.\"\"\"\n",
    "\n",
    "def func(a, b=5, c=10):\n",
    "    print('a is', a, 'and b is', b, 'and c is', c)\n",
    "\n",
    "func(3, 7)\n",
    "func(25, c=24)\n",
    "func(c=50, a=100)"
   ]
  },
  {
   "cell_type": "code",
   "execution_count": 5,
   "metadata": {},
   "outputs": [
    {
     "name": "stdout",
     "output_type": "stream",
     "text": [
      "a 10\n",
      "<class 'tuple'>\n",
      "<class 'dict'>\n",
      "numbers:  (1, 2, 3)\n",
      "numbers:  (1, 2, 3)\n",
      "numbers:  {'Jack': 1123, 'John': 2231, 'Inge': 1560}\n"
     ]
    }
   ],
   "source": [
    "\"\"\"When we declare a starred parameter such as *param, then all the positional \n",
    "arguments from that point till the end are collected as a tuple called 'param'.\n",
    "\n",
    "Similarly, when we declare a double-starred parameter such as **param, then all \n",
    "the keyword arguments from that point till the end are collected as a dictionary called 'param'.\"\"\"\n",
    "\n",
    "def total(a=5, *numbers, **phonebook):\n",
    "    print('a', a)\n",
    "\n",
    "    #prints the variables\n",
    "    print(type(numbers))\n",
    "    print(type(phonebook))\n",
    "    print(\"numbers: \",numbers)\n",
    "    print(\"numbers: \",numbers)\n",
    "    print(\"numbers: \",phonebook)\n",
    "    \n",
    "    \"\"\"\n",
    "    #iterate through all the items in tuple\n",
    "    for single_item in numbers:\n",
    "        print('single_item', single_item)\n",
    "\n",
    "    #iterate through all the items in dictionary    \n",
    "    for first_part, second_part in phonebook.items():\n",
    "        print(first_part,second_part)\n",
    "    \"\"\"\n",
    "    \n",
    "total(10,1,2,3,Jack=1123,John=2231,Inge=1560)"
   ]
  }
 ],
 "metadata": {
  "anaconda-cloud": {},
  "kernelspec": {
   "display_name": "Python 3",
   "language": "python",
   "name": "python3"
  },
  "language_info": {
   "codemirror_mode": {
    "name": "ipython",
    "version": 3
   },
   "file_extension": ".py",
   "mimetype": "text/x-python",
   "name": "python",
   "nbconvert_exporter": "python",
   "pygments_lexer": "ipython3",
   "version": "3.7.3"
  }
 },
 "nbformat": 4,
 "nbformat_minor": 1
}
