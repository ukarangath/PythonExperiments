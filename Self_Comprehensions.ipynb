{
 "cells": [
  {
   "cell_type": "markdown",
   "metadata": {},
   "source": [
    "## Self Play Book"
   ]
  },
  {
   "cell_type": "code",
   "execution_count": 2,
   "metadata": {},
   "outputs": [
    {
     "name": "stdout",
     "output_type": "stream",
     "text": [
      "[1, 4, 9, 16, 25, 36, 49, 64, 81]\n"
     ]
    }
   ],
   "source": [
    "squares_list= []\n",
    "#Loop through all numbers from 1, including 9\n",
    "for x in range(1,10):\n",
    "    squares_list.append(x**2)\n",
    "print(squares_list)\n"
   ]
  },
  {
   "cell_type": "code",
   "execution_count": 1,
   "metadata": {},
   "outputs": [
    {
     "name": "stdout",
     "output_type": "stream",
     "text": [
      "[1, 4, 9, 16, 25, 36, 49, 64, 81]\n"
     ]
    }
   ],
   "source": [
    "\"\"\"What you did above cell is done here via list comprehensions, below giving a generic expressions of \n",
    "what will be elements of the cell squares_list.\n",
    "Generation rule : Every element is square of some number(x), then it is said what is each of those numbers(x).\n",
    "=> For every x in 1 to 9, find the square and make it part of the list, squares_list.\n",
    "Outer square brackets indicate that we are constructing a list\"\"\"\n",
    "\n",
    "squares_list = [x**2 for x in range(1,10)]\n",
    "print(squares_list)"
   ]
  },
  {
   "cell_type": "code",
   "execution_count": null,
   "metadata": {
    "collapsed": true
   },
   "outputs": [],
   "source": [
    "paragraph = [\"There was a fox.\" , 'It was brown in color.', \"It was seen near that farm sometime back\"]"
   ]
  },
  {
   "cell_type": "code",
   "execution_count": null,
   "metadata": {
    "collapsed": true
   },
   "outputs": [],
   "source": [
    "# ['There', 'was', 'a', 'fox.', 'It', 'was', 'brown', 'in', 'color.', 'It', 'was', 'seen', 'near', 'that', 'farm', 'sometime', 'back']"
   ]
  },
  {
   "cell_type": "code",
   "execution_count": null,
   "metadata": {},
   "outputs": [],
   "source": [
    "single_word_list =[]\n",
    "\n",
    "for sentence in paragraph:\n",
    "    for word in sentence.split():\n",
    "        single_word_list.append(word)\n",
    "\n",
    "print(single_word_list)"
   ]
  },
  {
   "cell_type": "code",
   "execution_count": null,
   "metadata": {},
   "outputs": [],
   "source": [
    "single_word_list  = [word for sentence in paragraph for word in sentence.split()]\n",
    "print(single_word_list)"
   ]
  },
  {
   "cell_type": "code",
   "execution_count": null,
   "metadata": {},
   "outputs": [],
   "source": [
    "#list comp with if statement\n",
    "vowels = ['a','e','i','o','u']\n",
    "vowels_from_sentence =[]\n",
    "for sentence in paragraph:\n",
    "    for word in sentence.split():\n",
    "        if word[0].lower() in vowels:\n",
    "            vowels_from_sentence.append(word)\n",
    "\n",
    "print(vowels_from_sentence)\n"
   ]
  },
  {
   "cell_type": "code",
   "execution_count": null,
   "metadata": {
    "collapsed": true
   },
   "outputs": [],
   "source": [
    "#[ for sentence in paragraph]\n",
    "#[ for sentence in paragraph for word in sentence.split()]\n"
   ]
  },
  {
   "cell_type": "code",
   "execution_count": null,
   "metadata": {},
   "outputs": [],
   "source": [
    "vowels_comp = [word for sentence in paragraph for word in sentence.split() if word[0].lower() in vowels]\n",
    "print(vowels_comp)"
   ]
  },
  {
   "cell_type": "code",
   "execution_count": null,
   "metadata": {},
   "outputs": [],
   "source": [
    "squared_dictionary = {num : num**2 for num in range(0, 25)}\n",
    "print(squared_dictionary)"
   ]
  },
  {
   "cell_type": "code",
   "execution_count": null,
   "metadata": {
    "collapsed": true
   },
   "outputs": [],
   "source": [
    "students_data = {1:['Shivam Bansal', 24] , 2:['Udit Bansal',25], 3:['Sonam Gupta', 26], 4:['Saif Ansari',24], 5:['Huzefa Calcuttawala',27]}\n"
   ]
  },
  {
   "cell_type": "code",
   "execution_count": null,
   "metadata": {},
   "outputs": [],
   "source": [
    "names_dict ={}\n",
    "\n",
    "#iterate over each key, val pair\n",
    "for roll_num,details in students_data.items():\n",
    "    if roll_num%2==0:\n",
    "        names_dict[roll_num]= details[0]\n",
    "print(names_dict)"
   ]
  },
  {
   "cell_type": "code",
   "execution_count": null,
   "metadata": {},
   "outputs": [],
   "source": [
    "names_comp = {roll_num:details[0] for roll_num,details in students_data.items() if roll_num%2==0}\n",
    "print(names_comp)"
   ]
  },
  {
   "cell_type": "markdown",
   "metadata": {},
   "source": [
    "#### In-slide works"
   ]
  },
  {
   "cell_type": "code",
   "execution_count": 3,
   "metadata": {
    "scrolled": true
   },
   "outputs": [
    {
     "name": "stdout",
     "output_type": "stream",
     "text": [
      "range(0, 10)\n"
     ]
    }
   ],
   "source": [
    "print(range(10)) #same as range(0,10)"
   ]
  },
  {
   "cell_type": "code",
   "execution_count": 5,
   "metadata": {},
   "outputs": [
    {
     "name": "stdout",
     "output_type": "stream",
     "text": [
      "[0, 0, 0, 0, 0, 0, 0, 0, 0, 0, 10, 11, 12, 13, 14, 15, 16, 17, 18, 19, 20, 22, 24, 26, 28, 30, 32, 34, 36, 38, 30, 33, 36, 39, 42, 45, 48, 51, 54, 57, 40, 44, 48, 52, 56, 60, 64, 68, 72, 76, 50, 55, 60, 65, 70, 75, 80, 85, 90, 95, 60, 66, 72, 78, 84, 90, 96, 102, 108, 114, 70, 77, 84, 91, 98, 105, 112, 119, 126, 133, 80, 88, 96, 104, 112, 120, 128, 136, 144, 152, 90, 99, 108, 117, 126, 135, 144, 153, 162, 171]\n"
     ]
    }
   ],
   "source": [
    "# using a for loop\n",
    "\n",
    "product_list = []\n",
    "for i in range(10):\n",
    "    for j in range(10,20):\n",
    "        product_list.append(i*j)\n",
    "print(product_listt_list)"
   ]
  },
  {
   "cell_type": "code",
   "execution_count": 7,
   "metadata": {},
   "outputs": [
    {
     "name": "stdout",
     "output_type": "stream",
     "text": [
      "[0, 0, 0, 0, 0, 0, 0, 0, 0, 0, 10, 11, 12, 13, 14, 15, 16, 17, 18, 19, 20, 22, 24, 26, 28, 30, 32, 34, 36, 38, 30, 33, 36, 39, 42, 45, 48, 51, 54, 57, 40, 44, 48, 52, 56, 60, 64, 68, 72, 76, 50, 55, 60, 65, 70, 75, 80, 85, 90, 95, 60, 66, 72, 78, 84, 90, 96, 102, 108, 114, 70, 77, 84, 91, 98, 105, 112, 119, 126, 133, 80, 88, 96, 104, 112, 120, 128, 136, 144, 152, 90, 99, 108, 117, 126, 135, 144, 153, 162, 171]\n"
     ]
    }
   ],
   "source": [
    "# using list comprehension\n",
    "product_list = [ i*j for i in range(10) for j in range(10,20) ]\n",
    "print(product_list)"
   ]
  },
  {
   "cell_type": "markdown",
   "metadata": {},
   "source": [
    "#### Quiz tips"
   ]
  },
  {
   "cell_type": "code",
   "execution_count": 8,
   "metadata": {},
   "outputs": [
    {
     "name": "stdout",
     "output_type": "stream",
     "text": [
      "['ad', 'ae', 'af', 'bd', 'be', 'bf', 'cd', 'ce', 'cf']\n"
     ]
    }
   ],
   "source": [
    "print([i+j for i in \"abc\" for j in \"def\"])"
   ]
  },
  {
   "cell_type": "code",
   "execution_count": 10,
   "metadata": {},
   "outputs": [
    {
     "name": "stdout",
     "output_type": "stream",
     "text": [
      "{'A': 'aaa', 'C': 'ccc', 'B': 'bbb', 'D': 'ddd'}\n",
      "aaa\n"
     ]
    }
   ],
   "source": [
    "d = {x.upper(): x*3 for x in 'acbd'}\n",
    "print(d)\n",
    "#testing\n",
    "print('a'*3)"
   ]
  },
  {
   "cell_type": "markdown",
   "metadata": {},
   "source": [
    "#### [VM] From Additional explanation documents on list comprehensions"
   ]
  },
  {
   "cell_type": "code",
   "execution_count": 12,
   "metadata": {},
   "outputs": [
    {
     "name": "stdout",
     "output_type": "stream",
     "text": [
      "[6, 12, 18, 24, 30, 36, 42, 48, 54, 60]\n",
      "[6, 12, 18, 24, 30, 36, 42, 48, 54, 60]\n"
     ]
    }
   ],
   "source": [
    "#Normal For loop\n",
    "list1 =[]\n",
    "for n in range(1,11):\n",
    "    list1.append(n*6)\n",
    "print(list1)\n",
    "#using list comprehensions\n",
    "\"\"\"In general list comprehension\n",
    "[<the_expression> for <the_element> in <the_iterable>]\n",
    "Comparing this with our example n*6 is the expression, n is the element, range(1,11) is the\n",
    "iterable.\"\"\"\n",
    "list2 = [n*6 for n in range(1,11)]\n",
    "print(list2)"
   ]
  },
  {
   "cell_type": "code",
   "execution_count": 16,
   "metadata": {},
   "outputs": [
    {
     "name": "stdout",
     "output_type": "stream",
     "text": [
      "[12, 24, 36, 48, 60]\n",
      "[12, 24, 36, 48, 60]\n"
     ]
    }
   ],
   "source": [
    "#Applying list comprehension with a condition\n",
    "list1 =[]\n",
    "for n in range(1,11):\n",
    "    if n%2==0:\n",
    "        list1.append(n*6)\n",
    "print(list1)\n",
    "#using list comprehensions\n",
    "\"\"\"In general list comprehension\n",
    "[<the_expression> for <the_element> in <the_iterable> if <the_condition>]\n",
    "Comparing this with our example n*6 is the expression, n is the element, range(1,11) is the\n",
    "iterable and n%2==0 is the condition.\n",
    "\"\"\"\n",
    "list2 = [n*6  for n in range(1,11) if n%2 == 0]\n",
    "print(list2)"
   ]
  },
  {
   "cell_type": "code",
   "execution_count": 18,
   "metadata": {},
   "outputs": [
    {
     "name": "stdout",
     "output_type": "stream",
     "text": [
      "[5, 12, 15, 24, 25, 36, 35, 48, 45, 60]\n",
      "[5, 12, 15, 24, 25, 36, 35, 48, 45, 60]\n"
     ]
    }
   ],
   "source": [
    "#Applying list comprehension with if-else condition\n",
    "list1 =[]\n",
    "for n in range(1,11):\n",
    "    if n%2==0:\n",
    "        list1.append(n*6)\n",
    "    else:\n",
    "        list1.append(n*5)\n",
    "print(list1)\n",
    "#using list comprehensions\n",
    "\"\"\"In general list comprehension\n",
    "[<the_expression> if <the_condition> else <other_expression> for <the_element> in\n",
    "<the_iterable>]\n",
    "Comparing this with our example n*6 is the expression, n%2==0 is the condition, n*5 is the\n",
    "other expression, n is the element and range(1,11) is the iterable.\"\"\"\n",
    "list2 = [n*6 if n%2==0 else n*5 for n in range(1,11)]\n",
    "print(list2)"
   ]
  },
  {
   "cell_type": "code",
   "execution_count": 21,
   "metadata": {},
   "outputs": [
    {
     "name": "stdout",
     "output_type": "stream",
     "text": [
      "[1, 2, 3, 4, 5, 6, 7, 8, 9, 10, 2, 4, 6, 8, 10, 12, 14, 16, 18, 20, 3, 6, 9, 12, 15, 18, 21, 24, 27, 30]\n",
      "[1, 2, 3, 4, 5, 6, 7, 8, 9, 10, 2, 4, 6, 8, 10, 12, 14, 16, 18, 20, 3, 6, 9, 12, 15, 18, 21, 24, 27, 30]\n"
     ]
    }
   ],
   "source": [
    "#Applying list comprehension with Nested loops\n",
    "list1 =[]\n",
    "for i in range(1,4):\n",
    "    for j in range(1,11):\n",
    "        list1.append(i*j)\n",
    "print(list1)\n",
    "#using list comprehensions\n",
    "\"\"\"In general list comprehension\n",
    "[ <the_expression> for <element_a> in <iterable_a> (optional if <condition_a>)\n",
    "for <element_b> in <iterable_b> (optional if <condition_b>)\n",
    "for <element_c> in <iterable_c> (optional if <condition_c>)\n",
    "... and so on ...]\n",
    "Comparing this with our example i*j is the expression, i is the element_a, j is the element_b,\n",
    "range(1,4) is the iterable_a and range(1,11) is the iterable_b.\"\"\"\n",
    "list2 = [i*j for i in range(1,4) for j in range(1,11)]\n",
    "print(list2)"
   ]
  },
  {
   "cell_type": "markdown",
   "metadata": {},
   "source": [
    "#### Additional reading exercises"
   ]
  },
  {
   "cell_type": "code",
   "execution_count": 7,
   "metadata": {},
   "outputs": [
    {
     "data": {
      "text/plain": [
       "[[1, 0, 0, 0], [0, 1, 0, 0], [0, 0, 1, 0], [0, 0, 0, 1]]"
      ]
     },
     "execution_count": 7,
     "metadata": {},
     "output_type": "execute_result"
    }
   ],
   "source": [
    "\"\"\"Generating identity matrix(like list of lists) using list comprehensions\n",
    "[ 1 if item_idx == row_idx else 0 for item_idx in range(0, 4) ] => rule for generating content of rows,\n",
    "for row_idx in range(0, 4)  => rule for generating number of rows\"\"\"\n",
    "[ [ 1 if item_idx == row_idx else 0 for item_idx in range(0, 4) ] for row_idx in range(0, 4) ]"
   ]
  },
  {
   "cell_type": "code",
   "execution_count": 8,
   "metadata": {},
   "outputs": [
    {
     "data": {
      "text/plain": [
       "{'Alice', 'Bob', 'John'}"
      ]
     },
     "execution_count": 8,
     "metadata": {},
     "output_type": "execute_result"
    }
   ],
   "source": [
    "\"\"\"We require the set: { 'Bob', 'John', 'Alice' }\"\"\"\n",
    "names = [ 'Bob', 'JOHN', 'alice', 'bob', 'ALICE', 'J', 'Bob' ]\n",
    "{ name[0].upper() + name[1:].lower() for name in names if len(name) > 1 }"
   ]
  },
  {
   "cell_type": "code",
   "execution_count": null,
   "metadata": {},
   "outputs": [],
   "source": []
  }
 ],
 "metadata": {
  "anaconda-cloud": {},
  "kernelspec": {
   "display_name": "Python 3",
   "language": "python",
   "name": "python3"
  },
  "language_info": {
   "codemirror_mode": {
    "name": "ipython",
    "version": 3
   },
   "file_extension": ".py",
   "mimetype": "text/x-python",
   "name": "python",
   "nbconvert_exporter": "python",
   "pygments_lexer": "ipython3",
   "version": "3.7.3"
  }
 },
 "nbformat": 4,
 "nbformat_minor": 1
}
