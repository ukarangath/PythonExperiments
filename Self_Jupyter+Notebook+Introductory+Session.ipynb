{
 "cells": [
  {
   "cell_type": "markdown",
   "metadata": {},
   "source": [
    "# Self play book"
   ]
  },
  {
   "cell_type": "markdown",
   "metadata": {},
   "source": [
    "# Testing markdown cell \n",
    "# Testing markdown cell \n",
    "## Testing markdown cell \n",
    "## Testing markdown cell "
   ]
  },
  {
   "cell_type": "markdown",
   "metadata": {},
   "source": [
    "Testing markdown cell "
   ]
  },
  {
   "cell_type": "markdown",
   "metadata": {},
   "source": [
    "__Testing bold and line breaks__<br>\n",
    "**Testing bold\"**"
   ]
  },
  {
   "cell_type": "markdown",
   "metadata": {},
   "source": [
    "_testing italics_<br>\n",
    "*italics*<br>\n",
    "***italics and bold***"
   ]
  },
  {
   "cell_type": "markdown",
   "metadata": {},
   "source": [
    "`Testing monospace fonts`"
   ]
  },
  {
   "cell_type": "markdown",
   "metadata": {},
   "source": [
    "# indenting\n",
    ">one indent\n",
    ">>two indent\n",
    ">>>three indent"
   ]
  },
  {
   "cell_type": "markdown",
   "metadata": {},
   "source": [
    "# bullets\n",
    "- one\n",
    "- two\n",
    "    - sub bullet\n"
   ]
  },
  {
   "cell_type": "markdown",
   "metadata": {},
   "source": [
    "1. one\n",
    "2. two \n"
   ]
  },
  {
   "cell_type": "markdown",
   "metadata": {},
   "source": [
    "# Testing color\n",
    "<font color = blue> testing color </font>\n",
    "<font color = red> testing color </font>\n",
    "<font color = green> testing color </font>"
   ]
  },
  {
   "cell_type": "markdown",
   "metadata": {},
   "source": [
    "# Testing latex equations in jupyter notebook\n",
    "## *Need to put dollar sign both sides of latex equation*\n",
    "$\\frac{\\partial}{\\partial t}\\left(\\widetilde{c}_{\\text{s}}\\left(r,z,t\\right)+c_{\\text{s,0}}\\right)=\\frac{D_{\\text{s}}}{r^{2}}\\frac{\\partial}{\\partial r}\\left(r^{2}\\frac{\\partial \\left(\\widetilde{c}_{\\text{s}}\\left(r,z,t\\right)+c_{\\text{s,0}}\\right)}{\\partial r}\\right)$"
   ]
  },
  {
   "cell_type": "code",
   "execution_count": 4,
   "metadata": {},
   "outputs": [],
   "source": [
    "# TESTing cell splits\n",
    "# TESTing cell splits\n",
    "\n",
    "# TESTing cell splits\n",
    "# TESTing cell splits\n",
    "# TESTing cell splits\n",
    "\n"
   ]
  },
  {
   "cell_type": "code",
   "execution_count": null,
   "metadata": {},
   "outputs": [],
   "source": [
    "# TESTing cell splits"
   ]
  },
  {
   "cell_type": "code",
   "execution_count": 8,
   "metadata": {},
   "outputs": [],
   "source": [
    "# TESTing cell splits\n",
    "# TESTing cell splits"
   ]
  },
  {
   "cell_type": "code",
   "execution_count": null,
   "metadata": {},
   "outputs": [],
   "source": [
    "name = input(\"Please enter your name\")\n",
    "print(\"Hello\", name)"
   ]
  },
  {
   "cell_type": "markdown",
   "metadata": {},
   "source": [
    "### Adding an Image\n",
    "\n",
    "You can add an image from the web by using `<img src = \"image_path\">`\n",
    "\n",
    "Example:\n",
    "<img src = \"https://i.ytimg.com/vi/j22DmsZEv30/maxresdefault.jpg\">"
   ]
  },
  {
   "cell_type": "code",
   "execution_count": null,
   "metadata": {},
   "outputs": [],
   "source": []
  }
 ],
 "metadata": {
  "kernelspec": {
   "display_name": "Python 3",
   "language": "python",
   "name": "python3"
  },
  "language_info": {
   "codemirror_mode": {
    "name": "ipython",
    "version": 3
   },
   "file_extension": ".py",
   "mimetype": "text/x-python",
   "name": "python",
   "nbconvert_exporter": "python",
   "pygments_lexer": "ipython3",
   "version": "3.7.3"
  }
 },
 "nbformat": 4,
 "nbformat_minor": 4
}
