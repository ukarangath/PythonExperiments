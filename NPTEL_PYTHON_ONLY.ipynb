{
 "cells": [
  {
   "cell_type": "markdown",
   "metadata": {},
   "source": [
    "## ONLY Python practice sheet\n",
    "### Link : https://nptel.ac.in/courses/106/106/106106145/#"
   ]
  },
  {
   "cell_type": "code",
   "execution_count": null,
   "metadata": {},
   "outputs": [],
   "source": [
    "m = 2\n",
    "n = 3\n",
    "# python simultaneous assignment - VM\n",
    "(m,n) = (n,m)\n",
    "m"
   ]
  },
  {
   "cell_type": "code",
   "execution_count": null,
   "metadata": {},
   "outputs": [],
   "source": [
    "n"
   ]
  },
  {
   "cell_type": "code",
   "execution_count": null,
   "metadata": {},
   "outputs": [],
   "source": [
    "# No need of brackets \n",
    "m,n = n,m"
   ]
  },
  {
   "cell_type": "code",
   "execution_count": null,
   "metadata": {},
   "outputs": [],
   "source": [
    "m"
   ]
  },
  {
   "cell_type": "code",
   "execution_count": null,
   "metadata": {},
   "outputs": [],
   "source": [
    "n"
   ]
  },
  {
   "cell_type": "code",
   "execution_count": null,
   "metadata": {},
   "outputs": [],
   "source": [
    "5/2"
   ]
  },
  {
   "cell_type": "code",
   "execution_count": null,
   "metadata": {},
   "outputs": [],
   "source": [
    "4/2"
   ]
  },
  {
   "cell_type": "code",
   "execution_count": null,
   "metadata": {},
   "outputs": [],
   "source": [
    "# How many times of 2 is exactly constitutues 5 \n",
    "5//2"
   ]
  },
  {
   "cell_type": "code",
   "execution_count": null,
   "metadata": {},
   "outputs": [],
   "source": [
    "3**4"
   ]
  },
  {
   "cell_type": "code",
   "execution_count": null,
   "metadata": {},
   "outputs": [],
   "source": [
    "5 < 3"
   ]
  },
  {
   "cell_type": "code",
   "execution_count": null,
   "metadata": {},
   "outputs": [],
   "source": [
    "3 < 5"
   ]
  },
  {
   "cell_type": "code",
   "execution_count": null,
   "metadata": {},
   "outputs": [],
   "source": [
    "3 <= 5"
   ]
  },
  {
   "cell_type": "code",
   "execution_count": null,
   "metadata": {},
   "outputs": [],
   "source": [
    "5 >= 3"
   ]
  },
  {
   "cell_type": "code",
   "execution_count": null,
   "metadata": {},
   "outputs": [],
   "source": [
    "# d is boolean here \n",
    "d = (5%2 == 0)"
   ]
  },
  {
   "cell_type": "code",
   "execution_count": null,
   "metadata": {},
   "outputs": [],
   "source": [
    "d"
   ]
  },
  {
   "cell_type": "code",
   "execution_count": null,
   "metadata": {},
   "outputs": [],
   "source": [
    "def divides(m,n):\n",
    "    if m%n == 0:\n",
    "        return(True)\n",
    "    else:\n",
    "        return(False)\n",
    "def is_even(m):\n",
    "    return(divides(m,2))\n",
    "def is_odd(m):\n",
    "    return(not divides(m,2))"
   ]
  },
  {
   "cell_type": "code",
   "execution_count": null,
   "metadata": {},
   "outputs": [],
   "source": [
    "print(is_odd(3))"
   ]
  },
  {
   "cell_type": "code",
   "execution_count": null,
   "metadata": {},
   "outputs": [],
   "source": [
    "print(is_even(3))"
   ]
  },
  {
   "cell_type": "code",
   "execution_count": null,
   "metadata": {},
   "outputs": [],
   "source": [
    "p = \"sddsdsdfsfd'sdfsdf\"\n",
    "p = 'adsdad\\'sasdas'\n",
    "p = 34\n",
    "p = '''sdasdasda\"sda'sdadsd'''\n",
    "type(p)"
   ]
  },
  {
   "cell_type": "code",
   "execution_count": null,
   "metadata": {},
   "outputs": [],
   "source": [
    "p = '''sdada\n",
    "sdasd\n",
    "asdas\n",
    "asasd'''\n",
    "print(p)"
   ]
  },
  {
   "cell_type": "code",
   "execution_count": null,
   "metadata": {},
   "outputs": [],
   "source": [
    "s = \"asdasdasd\\t\" + \"asdasdasda\"\n",
    "s"
   ]
  },
  {
   "cell_type": "code",
   "execution_count": null,
   "metadata": {},
   "outputs": [],
   "source": [
    "len(s)"
   ]
  },
  {
   "cell_type": "code",
   "execution_count": null,
   "metadata": {},
   "outputs": [],
   "source": [
    "s = \"\"\"hello\"\"\"\n",
    "s[1:]"
   ]
  },
  {
   "cell_type": "code",
   "execution_count": null,
   "metadata": {},
   "outputs": [],
   "source": [
    "s = 'hello'\n",
    "s[:3]"
   ]
  },
  {
   "cell_type": "code",
   "execution_count": null,
   "metadata": {},
   "outputs": [],
   "source": [
    "#Does not give error\n",
    "s[3:1]"
   ]
  },
  {
   "cell_type": "code",
   "execution_count": null,
   "metadata": {},
   "outputs": [],
   "source": [
    "#Does not give error\n",
    "s[:19]"
   ]
  },
  {
   "cell_type": "code",
   "execution_count": null,
   "metadata": {},
   "outputs": [],
   "source": [
    "print(s[0:3] + 'p!')"
   ]
  },
  {
   "cell_type": "code",
   "execution_count": null,
   "metadata": {},
   "outputs": [],
   "source": [
    "s = \"help\""
   ]
  },
  {
   "cell_type": "code",
   "execution_count": null,
   "metadata": {},
   "outputs": [],
   "source": [
    "s"
   ]
  },
  {
   "cell_type": "code",
   "execution_count": null,
   "metadata": {},
   "outputs": [],
   "source": [
    "s[0:1]"
   ]
  },
  {
   "cell_type": "code",
   "execution_count": null,
   "metadata": {},
   "outputs": [],
   "source": [
    "s[0]"
   ]
  },
  {
   "cell_type": "code",
   "execution_count": null,
   "metadata": {},
   "outputs": [],
   "source": [
    "lst = [[34,[\"tough\"]],'a','hello',1245,[\"hello\",3423]]"
   ]
  },
  {
   "cell_type": "code",
   "execution_count": null,
   "metadata": {},
   "outputs": [],
   "source": [
    "# This is a normal output\n",
    "lst[0]"
   ]
  },
  {
   "cell_type": "code",
   "execution_count": null,
   "metadata": {},
   "outputs": [],
   "source": [
    "# This is a list output\n",
    "lst[0:1]"
   ]
  },
  {
   "cell_type": "code",
   "execution_count": null,
   "metadata": {},
   "outputs": [],
   "source": [
    "# 4th element in the list\n",
    "lst[4]"
   ]
  },
  {
   "cell_type": "code",
   "execution_count": null,
   "metadata": {},
   "outputs": [],
   "source": [
    "#First element of the list, which is the 4th element in the lst\n",
    "lst[4][0]"
   ]
  },
  {
   "cell_type": "code",
   "execution_count": null,
   "metadata": {},
   "outputs": [],
   "source": [
    "# 3rd element of the first element of the list which is the 4th element of the list named lst\n",
    "lst[4][0][2]"
   ]
  },
  {
   "cell_type": "code",
   "execution_count": null,
   "metadata": {},
   "outputs": [],
   "source": [
    "lst[4][1]"
   ]
  },
  {
   "cell_type": "code",
   "execution_count": null,
   "metadata": {},
   "outputs": [],
   "source": [
    "lst[0]"
   ]
  },
  {
   "cell_type": "code",
   "execution_count": null,
   "metadata": {},
   "outputs": [],
   "source": [
    "lst[0][0]"
   ]
  },
  {
   "cell_type": "code",
   "execution_count": null,
   "metadata": {},
   "outputs": [],
   "source": [
    "lst[0][1]"
   ]
  },
  {
   "cell_type": "code",
   "execution_count": null,
   "metadata": {},
   "outputs": [],
   "source": [
    "lst[0][1][0]"
   ]
  },
  {
   "cell_type": "code",
   "execution_count": null,
   "metadata": {},
   "outputs": [],
   "source": [
    "# Very important - string \"tough is the first element of the list inside list inside list\"\n",
    "lst[0][1][0][0:4]"
   ]
  },
  {
   "cell_type": "code",
   "execution_count": null,
   "metadata": {},
   "outputs": [],
   "source": [
    "list_1 = [[0,1,[3,\"hello\"]]]"
   ]
  },
  {
   "cell_type": "code",
   "execution_count": null,
   "metadata": {},
   "outputs": [],
   "source": [
    "list_1[0]"
   ]
  },
  {
   "cell_type": "code",
   "execution_count": null,
   "metadata": {},
   "outputs": [],
   "source": [
    "list_1[0][1:2]"
   ]
  },
  {
   "cell_type": "code",
   "execution_count": null,
   "metadata": {},
   "outputs": [],
   "source": [
    "list_1[0][1]"
   ]
  },
  {
   "cell_type": "code",
   "execution_count": null,
   "metadata": {},
   "outputs": [],
   "source": [
    "list_1[0][2]"
   ]
  },
  {
   "cell_type": "code",
   "execution_count": null,
   "metadata": {},
   "outputs": [],
   "source": [
    "list_1[0][2][1:]"
   ]
  },
  {
   "cell_type": "code",
   "execution_count": null,
   "metadata": {},
   "outputs": [],
   "source": [
    "list_1[0][2][1]"
   ]
  },
  {
   "cell_type": "code",
   "execution_count": null,
   "metadata": {},
   "outputs": [],
   "source": [
    "# VM\n",
    "list_1[0][2][1][1:4]"
   ]
  },
  {
   "cell_type": "code",
   "execution_count": null,
   "metadata": {},
   "outputs": [],
   "source": [
    "list_1[0][2][1:]"
   ]
  },
  {
   "cell_type": "code",
   "execution_count": null,
   "metadata": {},
   "outputs": [],
   "source": [
    "list_1[0][2][1:][0][2:4]"
   ]
  },
  {
   "cell_type": "code",
   "execution_count": null,
   "metadata": {},
   "outputs": [],
   "source": [
    "list_1[0][2][1:][0:2]"
   ]
  },
  {
   "cell_type": "code",
   "execution_count": null,
   "metadata": {},
   "outputs": [],
   "source": [
    "list_1[0][2][1]"
   ]
  },
  {
   "cell_type": "code",
   "execution_count": null,
   "metadata": {},
   "outputs": [],
   "source": [
    "list_2 = [[3,[45]]]"
   ]
  },
  {
   "cell_type": "code",
   "execution_count": null,
   "metadata": {},
   "outputs": [],
   "source": [
    "list_2[0][1:]"
   ]
  },
  {
   "cell_type": "code",
   "execution_count": null,
   "metadata": {},
   "outputs": [],
   "source": [
    "list_2[0][1]"
   ]
  },
  {
   "cell_type": "code",
   "execution_count": null,
   "metadata": {},
   "outputs": [],
   "source": [
    "# VM - if we slice the list then we get a list in return\n",
    "list_2[0][1:2]"
   ]
  },
  {
   "cell_type": "code",
   "execution_count": null,
   "metadata": {},
   "outputs": [],
   "source": [
    "nested = [[2,[37], 4, [\"\"\"hello\"\"\", 34]]]"
   ]
  },
  {
   "cell_type": "code",
   "execution_count": null,
   "metadata": {},
   "outputs": [],
   "source": [
    "nested"
   ]
  },
  {
   "cell_type": "code",
   "execution_count": null,
   "metadata": {},
   "outputs": [],
   "source": [
    "nested[0][1][0] = 19"
   ]
  },
  {
   "cell_type": "code",
   "execution_count": null,
   "metadata": {},
   "outputs": [],
   "source": [
    "nested"
   ]
  },
  {
   "cell_type": "code",
   "execution_count": null,
   "metadata": {},
   "outputs": [],
   "source": [
    "x = 9"
   ]
  },
  {
   "cell_type": "code",
   "execution_count": null,
   "metadata": {},
   "outputs": [],
   "source": [
    "y = x"
   ]
  },
  {
   "cell_type": "code",
   "execution_count": null,
   "metadata": {},
   "outputs": [],
   "source": [
    "x = 40"
   ]
  },
  {
   "cell_type": "code",
   "execution_count": null,
   "metadata": {},
   "outputs": [],
   "source": [
    "y"
   ]
  },
  {
   "cell_type": "code",
   "execution_count": null,
   "metadata": {},
   "outputs": [],
   "source": [
    "# list is immutable \n",
    "list1 = [1,2,3,4]\n",
    "#both lists points to same list\n",
    "list2 = list1\n",
    "list1[1] = 1234\n",
    "list2"
   ]
  },
  {
   "cell_type": "code",
   "execution_count": null,
   "metadata": {},
   "outputs": [],
   "source": [
    "#VM - full slice creates disjoint lists\n",
    "#full copy of the list - list3 made a fresh copy of list rather than pointing to same list1\n",
    "list3 = list1[:]\n",
    "list1[1] = 545455\n",
    "list3"
   ]
  },
  {
   "cell_type": "code",
   "execution_count": null,
   "metadata": {},
   "outputs": [],
   "source": [
    "list1"
   ]
  },
  {
   "cell_type": "code",
   "execution_count": null,
   "metadata": {},
   "outputs": [],
   "source": [
    "l1 = [1,2,3,4]\n",
    "l2 = [1,2,3,4]\n",
    "l3 = l2"
   ]
  },
  {
   "cell_type": "code",
   "execution_count": null,
   "metadata": {},
   "outputs": [],
   "source": [
    "#checks values inside which is same\n",
    "l1 == l2"
   ]
  },
  {
   "cell_type": "code",
   "execution_count": null,
   "metadata": {},
   "outputs": [],
   "source": [
    "l2 == l3"
   ]
  },
  {
   "cell_type": "code",
   "execution_count": null,
   "metadata": {},
   "outputs": [],
   "source": [
    "#checks memory location same, it is not\n",
    "l1 is l2"
   ]
  },
  {
   "cell_type": "code",
   "execution_count": null,
   "metadata": {},
   "outputs": [],
   "source": [
    "l2 is l3"
   ]
  },
  {
   "cell_type": "code",
   "execution_count": null,
   "metadata": {},
   "outputs": [],
   "source": [
    "l2[3] = 41"
   ]
  },
  {
   "cell_type": "code",
   "execution_count": null,
   "metadata": {},
   "outputs": [],
   "source": [
    "l2 == l1"
   ]
  },
  {
   "cell_type": "code",
   "execution_count": null,
   "metadata": {},
   "outputs": [],
   "source": [
    "l2 == l3"
   ]
  },
  {
   "cell_type": "code",
   "execution_count": null,
   "metadata": {},
   "outputs": [],
   "source": [
    "l2 is l3"
   ]
  },
  {
   "cell_type": "code",
   "execution_count": null,
   "metadata": {},
   "outputs": [],
   "source": [
    "#concatenation decouple previously pointed similar lists\n",
    "l1 = [1,2,3,4]\n",
    "l2 = l1"
   ]
  },
  {
   "cell_type": "code",
   "execution_count": null,
   "metadata": {},
   "outputs": [],
   "source": [
    "l1 is l2"
   ]
  },
  {
   "cell_type": "code",
   "execution_count": null,
   "metadata": {},
   "outputs": [],
   "source": [
    "l1 = l1 + [9,8,6,0]"
   ]
  },
  {
   "cell_type": "code",
   "execution_count": null,
   "metadata": {},
   "outputs": [],
   "source": [
    "l1"
   ]
  },
  {
   "cell_type": "code",
   "execution_count": null,
   "metadata": {},
   "outputs": [],
   "source": [
    "l1 is l2"
   ]
  },
  {
   "cell_type": "code",
   "execution_count": null,
   "metadata": {},
   "outputs": [],
   "source": [
    "x = int(input(\"Enter a number: \"))\n",
    "if x == 0:\n",
    "    print('0 value')\n",
    "elif x == 1:\n",
    "    print('1 value')\n",
    "elif x == 1:\n",
    "    print('1 value')\n",
    "elif x == 2:\n",
    "    print('2 value')\n",
    "else:\n",
    "    print('Can not recognize the value')"
   ]
  },
  {
   "cell_type": "code",
   "execution_count": null,
   "metadata": {},
   "outputs": [],
   "source": [
    "for i in [1,2,3,4]:\n",
    "    print(i)"
   ]
  },
  {
   "cell_type": "code",
   "execution_count": null,
   "metadata": {},
   "outputs": [],
   "source": [
    "for i in range(23,100):# 23 till 99\n",
    "    print(i)"
   ]
  },
  {
   "cell_type": "code",
   "execution_count": null,
   "metadata": {},
   "outputs": [],
   "source": [
    "def factors(n):\n",
    "    list=[]\n",
    "    # should start from 1, as divide by 0 is not defined\n",
    "    for i in range(1,n+1):\n",
    "        if n%i == 0:\n",
    "            list = list + [i]\n",
    "    return(list)\n",
    "print(factors(1568))"
   ]
  },
  {
   "cell_type": "code",
   "execution_count": null,
   "metadata": {},
   "outputs": [],
   "source": [
    "def power(x,n):\n",
    "    ans = 1\n",
    "    for i in range(0,n):\n",
    "        ans = ans*x\n",
    "    return(ans)\n",
    "print(power(2,5))"
   ]
  },
  {
   "cell_type": "code",
   "execution_count": null,
   "metadata": {},
   "outputs": [],
   "source": [
    "def test(a,b,lst):\n",
    "    a = 15\n",
    "    print('a inside = ',a)\n",
    "    b = 34\n",
    "    lst[3] = 234\n",
    "a = 5\n",
    "b = 14\n",
    "lst = [1,2,3,4,5,6,7]\n",
    "test(a,b,lst)\n",
    "print('a outside = ',a)\n",
    "print('b outside = ',b)\n",
    "#only mutable datatypes are changed insde function, not immuatable types like int, float etc\n",
    "print('lst outside = ',lst)"
   ]
  },
  {
   "cell_type": "code",
   "execution_count": null,
   "metadata": {},
   "outputs": [],
   "source": [
    "#order of function defnision\n",
    "def g(x):\n",
    "    return(f(x))\n",
    "def f(x):\n",
    "    return(x+10)\n",
    "z = g(12) # this works as we defined f and g before a call is made => g(12)\n",
    "print(z)"
   ]
  },
  {
   "cell_type": "code",
   "execution_count": null,
   "metadata": {},
   "outputs": [],
   "source": [
    "#order of function defnision - below code does not work\n",
    "def k(x):\n",
    "    return(l(x))\n",
    "z = k(12) # this does not work as function named l is defined after the call\n",
    "print(z)\n",
    "def l(x):\n",
    "    return(x+10)"
   ]
  },
  {
   "cell_type": "code",
   "execution_count": null,
   "metadata": {},
   "outputs": [],
   "source": [
    "#recursion - factorial\n",
    "def factorial(n):\n",
    "    if n<= 0:\n",
    "        return(1)\n",
    "    else:\n",
    "        return(n*factorial(n-1))\n",
    "print(factorial(10))"
   ]
  },
  {
   "cell_type": "code",
   "execution_count": null,
   "metadata": {},
   "outputs": [],
   "source": [
    "# Nested functions\n",
    "def factors(n):\n",
    "    factList = []\n",
    "    for i in range(1,n+1):\n",
    "        if n%i == 0:\n",
    "            factList = factList + [i]\n",
    "    return(factList)\n",
    "#print(factors(100))\n",
    "def isPrime(n):\n",
    "    factList = factors(n)\n",
    "    #smart way of comparing lists\n",
    "    if factList == [1,n]:\n",
    "        return(True)\n",
    "    else:\n",
    "        return(False)\n",
    "print(isPrime(4))"
   ]
  },
  {
   "cell_type": "code",
   "execution_count": null,
   "metadata": {},
   "outputs": [],
   "source": [
    "#List first n primes - usage of while loop\n",
    "def nPrimes(n):\n",
    "    #Simultaneous assignment  - VM in python\n",
    "    (count,i,pList) = (0,1,[])\n",
    "    while count<n:\n",
    "        if isPrime(i):\n",
    "            #simultaneous assignment again, without bracket also ok\n",
    "            count, pList = count+1, pList+[i]\n",
    "        i = i + 1\n",
    "    return(pList)\n",
    "print(nPrimes(5))"
   ]
  },
  {
   "cell_type": "code",
   "execution_count": null,
   "metadata": {},
   "outputs": [],
   "source": [
    "#Use of for and while loop interchangingly\n",
    "lst = [1,2,3,4,5,6,7,8,9,0]\n",
    "for i in range(10,100):\n",
    "    print(i)\n",
    "for i in lst:\n",
    "    print(i)"
   ]
  },
  {
   "cell_type": "code",
   "execution_count": null,
   "metadata": {},
   "outputs": [],
   "source": [
    "#Same with while loop\n",
    "i = 10\n",
    "#while or for can be with brackets alsos\n",
    "while(i<100):\n",
    "    print(i)\n",
    "    i = i + 1\n",
    "i = 0\n",
    "while i<len(lst):\n",
    "    print(lst[i])\n",
    "    i = i + 1"
   ]
  },
  {
   "cell_type": "code",
   "execution_count": null,
   "metadata": {},
   "outputs": [],
   "source": [
    "for i in range(12):#first argument by default is 0\n",
    "    print(i)"
   ]
  },
  {
   "cell_type": "code",
   "execution_count": null,
   "metadata": {},
   "outputs": [],
   "source": [
    "for i in range(1,10,2):\n",
    "    print(i)"
   ]
  },
  {
   "cell_type": "code",
   "execution_count": null,
   "metadata": {},
   "outputs": [],
   "source": [
    "for i in range(100,20,-5):\n",
    "    print(i)"
   ]
  },
  {
   "cell_type": "code",
   "execution_count": null,
   "metadata": {},
   "outputs": [],
   "source": [
    "for i in range(200,190,-5):\n",
    "    print(i)"
   ]
  },
  {
   "cell_type": "code",
   "execution_count": null,
   "metadata": {},
   "outputs": [],
   "source": [
    "list = [1,2,3,4,5,6,7,8,9,0]\n",
    "for i in range(len(list)): #or range(0,len(list))\n",
    "    print(i)\n",
    "#OR\n",
    "for i in list:\n",
    "    print(i)"
   ]
  },
  {
   "cell_type": "code",
   "execution_count": null,
   "metadata": {},
   "outputs": [],
   "source": [
    "#in python 3.5 onwards to convert a range to list,\n",
    "r = range(20)\n",
    "l = [*r]\n",
    "print(l)"
   ]
  },
  {
   "cell_type": "code",
   "execution_count": null,
   "metadata": {},
   "outputs": [],
   "source": [
    "print(str(345))"
   ]
  },
  {
   "cell_type": "code",
   "execution_count": null,
   "metadata": {},
   "outputs": [],
   "source": [
    "print(int('345'))"
   ]
  },
  {
   "cell_type": "code",
   "execution_count": null,
   "metadata": {},
   "outputs": [],
   "source": [
    "print(int('345dfg')) #error as it can not convert string with alphabets to integer"
   ]
  },
  {
   "cell_type": "code",
   "execution_count": null,
   "metadata": {},
   "outputs": [],
   "source": [
    "#concatenation produces a new list\n",
    "list1 = [*range(15)]\n",
    "list2 = list1\n",
    "#list1 is changed as we did concatenation, but list2 is same still\n",
    "list1 = list1 + [100] + list1[-1:]"
   ]
  },
  {
   "cell_type": "code",
   "execution_count": null,
   "metadata": {},
   "outputs": [],
   "source": [
    "list1"
   ]
  },
  {
   "cell_type": "code",
   "execution_count": null,
   "metadata": {},
   "outputs": [],
   "source": [
    "list2"
   ]
  },
  {
   "cell_type": "code",
   "execution_count": null,
   "metadata": {},
   "outputs": [],
   "source": [
    "#append does not create a new list, but + operator does it\n",
    "l1 = [1,2,3]\n",
    "l2 = l1"
   ]
  },
  {
   "cell_type": "code",
   "execution_count": null,
   "metadata": {},
   "outputs": [],
   "source": [
    "l1.append(12)"
   ]
  },
  {
   "cell_type": "code",
   "execution_count": null,
   "metadata": {},
   "outputs": [],
   "source": [
    "print(l2)"
   ]
  },
  {
   "cell_type": "code",
   "execution_count": null,
   "metadata": {},
   "outputs": [],
   "source": [
    "l1 = l1 + [22]"
   ]
  },
  {
   "cell_type": "code",
   "execution_count": null,
   "metadata": {},
   "outputs": [],
   "source": [
    "print(l1)"
   ]
  },
  {
   "cell_type": "code",
   "execution_count": null,
   "metadata": {},
   "outputs": [],
   "source": [
    "print(l2)"
   ]
  },
  {
   "cell_type": "code",
   "execution_count": null,
   "metadata": {},
   "outputs": [],
   "source": [
    "l1 = [1,2,3,4,5,6,7,8,8,8]"
   ]
  },
  {
   "cell_type": "code",
   "execution_count": null,
   "metadata": {},
   "outputs": [],
   "source": [
    "l2 = l1"
   ]
  },
  {
   "cell_type": "code",
   "execution_count": null,
   "metadata": {},
   "outputs": [],
   "source": [
    "l2"
   ]
  },
  {
   "cell_type": "code",
   "execution_count": null,
   "metadata": {},
   "outputs": [],
   "source": [
    "l1"
   ]
  },
  {
   "cell_type": "code",
   "execution_count": null,
   "metadata": {},
   "outputs": [],
   "source": [
    "l1.append(23)"
   ]
  },
  {
   "cell_type": "code",
   "execution_count": null,
   "metadata": {},
   "outputs": [],
   "source": [
    "l1"
   ]
  },
  {
   "cell_type": "code",
   "execution_count": null,
   "metadata": {},
   "outputs": [],
   "source": [
    "l2"
   ]
  },
  {
   "cell_type": "code",
   "execution_count": null,
   "metadata": {},
   "outputs": [],
   "source": [
    "l2.remove(23)"
   ]
  },
  {
   "cell_type": "code",
   "execution_count": null,
   "metadata": {},
   "outputs": [],
   "source": [
    "l2"
   ]
  },
  {
   "cell_type": "code",
   "execution_count": null,
   "metadata": {},
   "outputs": [],
   "source": [
    "l1"
   ]
  },
  {
   "cell_type": "code",
   "execution_count": null,
   "metadata": {},
   "outputs": [],
   "source": [
    "l1.extend([34,45,67,78])"
   ]
  },
  {
   "cell_type": "code",
   "execution_count": null,
   "metadata": {},
   "outputs": [],
   "source": [
    "l2"
   ]
  },
  {
   "cell_type": "code",
   "execution_count": null,
   "metadata": {},
   "outputs": [],
   "source": [
    "#remove will remove first copy of the duplicate element in the list\n",
    "l2.remove(8)"
   ]
  },
  {
   "cell_type": "code",
   "execution_count": null,
   "metadata": {},
   "outputs": [],
   "source": [
    "l1"
   ]
  },
  {
   "cell_type": "code",
   "execution_count": null,
   "metadata": {},
   "outputs": [],
   "source": [
    "#slicing and updating list\n",
    "l = [1,2,3,4,5,6,7,8]\n",
    "l1 = l\n",
    "l[:2] = [678]\n",
    "l1[6:] = [0,0,0]\n",
    "l1"
   ]
  },
  {
   "cell_type": "code",
   "execution_count": null,
   "metadata": {},
   "outputs": [],
   "source": [
    "if 678 in l1:\n",
    "    l1.remove(678)\n",
    "l"
   ]
  },
  {
   "cell_type": "code",
   "execution_count": null,
   "metadata": {},
   "outputs": [],
   "source": [
    "l"
   ]
  },
  {
   "cell_type": "code",
   "execution_count": null,
   "metadata": {},
   "outputs": [],
   "source": [
    "#removes all elements in l\n",
    "for x in l:\n",
    "    l.remove(x)\n",
    "l1    "
   ]
  },
  {
   "cell_type": "code",
   "execution_count": null,
   "metadata": {},
   "outputs": [],
   "source": [
    "l"
   ]
  },
  {
   "cell_type": "code",
   "execution_count": null,
   "metadata": {},
   "outputs": [],
   "source": [
    "l = [1,2,3,4,5,6,7,8]\n",
    "l.index(8)"
   ]
  },
  {
   "cell_type": "code",
   "execution_count": null,
   "metadata": {},
   "outputs": [],
   "source": [
    "found = True\n",
    "#Note this syntax\n",
    "not found"
   ]
  },
  {
   "cell_type": "code",
   "execution_count": null,
   "metadata": {},
   "outputs": [],
   "source": [
    "#Idea of having break for for loop and while loop if it terminates normally\n",
    "def findPos(list, val):\n",
    "    for i in range(len(list)):\n",
    "        if list[i] == val:\n",
    "            print('Breaks from loop')\n",
    "            break;\n",
    "    #exited normally - not with break - same works for while loop too\n",
    "    else:\n",
    "        print('Normal exiting from for loop')\n",
    "        return(-1)\n",
    "    return(i)\n",
    "list = [*range(100,1,-1)]           \n",
    "print(findPos(list,30))\n",
    "print(findPos(list,-20))"
   ]
  },
  {
   "cell_type": "code",
   "execution_count": 4,
   "metadata": {},
   "outputs": [
    {
     "name": "stdout",
     "output_type": "stream",
     "text": [
      "6\n"
     ]
    }
   ],
   "source": [
    "def factorial(n):\n",
    "    if n==0:\n",
    "        return(1)\n",
    "    else:\n",
    "        return(n*factorial(n-1))\n",
    "print(factorial(3))"
   ]
  },
  {
   "cell_type": "code",
   "execution_count": 13,
   "metadata": {},
   "outputs": [
    {
     "name": "stdout",
     "output_type": "stream",
     "text": [
      "56\n"
     ]
    }
   ],
   "source": [
    "#multiplication recursively\n",
    "def multiply(m,n):\n",
    "    if n == 1:\n",
    "        return(m)\n",
    "    else:\n",
    "        return(m+multiply(m,n-1))\n",
    "print(multiply(7,8))"
   ]
  },
  {
   "cell_type": "code",
   "execution_count": 14,
   "metadata": {},
   "outputs": [
    {
     "name": "stdout",
     "output_type": "stream",
     "text": [
      "50\n"
     ]
    }
   ],
   "source": [
    "#length of list by recursion\n",
    "def lenList(l):\n",
    "    if l==[]:\n",
    "        return 0\n",
    "    else:\n",
    "        return(1 + lenList(l[1:]))\n",
    "print(lenList([*range(0,100,2)]))"
   ]
  },
  {
   "cell_type": "code",
   "execution_count": null,
   "metadata": {},
   "outputs": [],
   "source": [
    "#sum of list by recursion\n",
    "def sumList(l):\n",
    "    if l==[]:\n",
    "        return 0\n",
    "    else:\n",
    "        return(l[0] + sumList(l[1:]))\n",
    "print(sumList([*range(0,10000,1)]))"
   ]
  },
  {
   "cell_type": "code",
   "execution_count": 21,
   "metadata": {},
   "outputs": [],
   "source": [
    "#setting recursion on hold function limit, which is around 1000 by default in python\n",
    "import sys\n",
    "sys.setrecursionlimit(10000)"
   ]
  },
  {
   "cell_type": "code",
   "execution_count": 1,
   "metadata": {},
   "outputs": [],
   "source": [
    "(age, name, primes) = (23, 'Kamal', [2,3,5])"
   ]
  },
  {
   "cell_type": "code",
   "execution_count": 2,
   "metadata": {},
   "outputs": [
    {
     "data": {
      "text/plain": [
       "23"
      ]
     },
     "execution_count": 2,
     "metadata": {},
     "output_type": "execute_result"
    }
   ],
   "source": [
    "age"
   ]
  },
  {
   "cell_type": "code",
   "execution_count": 3,
   "metadata": {},
   "outputs": [
    {
     "data": {
      "text/plain": [
       "'Kamal'"
      ]
     },
     "execution_count": 3,
     "metadata": {},
     "output_type": "execute_result"
    }
   ],
   "source": [
    "name"
   ]
  },
  {
   "cell_type": "code",
   "execution_count": 4,
   "metadata": {},
   "outputs": [
    {
     "data": {
      "text/plain": [
       "[2, 3, 5]"
      ]
     },
     "execution_count": 4,
     "metadata": {},
     "output_type": "execute_result"
    }
   ],
   "source": [
    "primes"
   ]
  },
  {
   "cell_type": "code",
   "execution_count": 5,
   "metadata": {},
   "outputs": [],
   "source": [
    "date = (12, 2, 2020)"
   ]
  },
  {
   "cell_type": "code",
   "execution_count": 6,
   "metadata": {},
   "outputs": [
    {
     "data": {
      "text/plain": [
       "(12, 2, 2020)"
      ]
     },
     "execution_count": 6,
     "metadata": {},
     "output_type": "execute_result"
    }
   ],
   "source": [
    "date"
   ]
  },
  {
   "cell_type": "code",
   "execution_count": 7,
   "metadata": {},
   "outputs": [],
   "source": [
    "test = {}\n",
    "test['a'] = {23: \"hello\"}\n",
    "test['b'] = 24\n",
    "test['c'] = ()\n",
    "test[456] = 24"
   ]
  },
  {
   "cell_type": "code",
   "execution_count": 8,
   "metadata": {},
   "outputs": [
    {
     "data": {
      "text/plain": [
       "{'a': {23: 'hello'}, 'b': 24, 'c': (), 456: 24}"
      ]
     },
     "execution_count": 8,
     "metadata": {},
     "output_type": "execute_result"
    }
   ],
   "source": [
    "test"
   ]
  },
  {
   "cell_type": "code",
   "execution_count": 9,
   "metadata": {},
   "outputs": [
    {
     "data": {
      "text/plain": [
       "'hello'"
      ]
     },
     "execution_count": 9,
     "metadata": {},
     "output_type": "execute_result"
    }
   ],
   "source": [
    "test['a'][23]"
   ]
  },
  {
   "cell_type": "code",
   "execution_count": 10,
   "metadata": {},
   "outputs": [
    {
     "data": {
      "text/plain": [
       "dict_keys(['a', 'b', 'c', 456])"
      ]
     },
     "execution_count": 10,
     "metadata": {},
     "output_type": "execute_result"
    }
   ],
   "source": [
    "test.keys()"
   ]
  },
  {
   "cell_type": "code",
   "execution_count": 11,
   "metadata": {},
   "outputs": [
    {
     "name": "stdout",
     "output_type": "stream",
     "text": [
      "a\n",
      "b\n",
      "c\n",
      "456\n"
     ]
    }
   ],
   "source": [
    "for key in test.keys():\n",
    "    print(key)"
   ]
  },
  {
   "cell_type": "code",
   "execution_count": 13,
   "metadata": {},
   "outputs": [
    {
     "name": "stdout",
     "output_type": "stream",
     "text": [
      "{23: 'hello'}\n",
      "24\n",
      "()\n",
      "24\n"
     ]
    }
   ],
   "source": [
    "for value in test.values():\n",
    "    print(value)"
   ]
  },
  {
   "cell_type": "code",
   "execution_count": 12,
   "metadata": {},
   "outputs": [],
   "source": [
    "score = {}\n",
    "score['Test1'] = {'Kohli':120, 'Dhavan': 50, 'Sachin':250}\n",
    "score['Test2'] = {'Kohli':150,  'Sachin':250}\n",
    "score['Test3'] = {'Dhravid':100, 'Dhavan': 80, 'Ganguly':150}"
   ]
  },
  {
   "cell_type": "code",
   "execution_count": 13,
   "metadata": {},
   "outputs": [
    {
     "data": {
      "text/plain": [
       "{'Test1': {'Kohli': 120, 'Dhavan': 50, 'Sachin': 250},\n",
       " 'Test2': {'Kohli': 150, 'Sachin': 250},\n",
       " 'Test3': {'Dhravid': 100, 'Dhavan': 80, 'Ganguly': 150}}"
      ]
     },
     "execution_count": 13,
     "metadata": {},
     "output_type": "execute_result"
    }
   ],
   "source": [
    "score"
   ]
  },
  {
   "cell_type": "code",
   "execution_count": 14,
   "metadata": {},
   "outputs": [
    {
     "data": {
      "text/plain": [
       "{'Kohli': 120, 'Dhavan': 50, 'Sachin': 250}"
      ]
     },
     "execution_count": 14,
     "metadata": {},
     "output_type": "execute_result"
    }
   ],
   "source": [
    "score['Test1']"
   ]
  },
  {
   "cell_type": "code",
   "execution_count": 15,
   "metadata": {},
   "outputs": [
    {
     "name": "stdout",
     "output_type": "stream",
     "text": [
      "Dhavan\n",
      "Test1\n",
      "dict_keys(['Kohli', 'Dhavan', 'Sachin'])\n",
      "Test3\n",
      "dict_keys(['Dhravid', 'Dhavan', 'Ganguly'])\n",
      "Kohli\n",
      "Test1\n",
      "dict_keys(['Kohli', 'Dhavan', 'Sachin'])\n",
      "Test2\n",
      "dict_keys(['Kohli', 'Sachin'])\n",
      "400\n"
     ]
    }
   ],
   "source": [
    "total = 0\n",
    "for n in ['Dhavan', 'Kohli']:\n",
    "    print(n)\n",
    "    for match in score.keys():\n",
    "        if n in score[match].keys():\n",
    "            print(match)\n",
    "            print(score[match].keys())\n",
    "            total = total + score[match][n]\n",
    "print(total)"
   ]
  },
  {
   "cell_type": "code",
   "execution_count": 16,
   "metadata": {},
   "outputs": [],
   "source": [
    "d = {}"
   ]
  },
  {
   "cell_type": "code",
   "execution_count": 25,
   "metadata": {},
   "outputs": [],
   "source": [
    "d[10] = 33"
   ]
  },
  {
   "cell_type": "code",
   "execution_count": 18,
   "metadata": {},
   "outputs": [
    {
     "data": {
      "text/plain": [
       "{2: 3}"
      ]
     },
     "execution_count": 18,
     "metadata": {},
     "output_type": "execute_result"
    }
   ],
   "source": [
    "d"
   ]
  },
  {
   "cell_type": "code",
   "execution_count": 26,
   "metadata": {},
   "outputs": [
    {
     "data": {
      "text/plain": [
       "[1, 2, 10]"
      ]
     },
     "execution_count": 26,
     "metadata": {},
     "output_type": "execute_result"
    }
   ],
   "source": [
    "sorted(d.keys())"
   ]
  },
  {
   "cell_type": "code",
   "execution_count": 27,
   "metadata": {},
   "outputs": [
    {
     "data": {
      "text/plain": [
       "[3, 3, 33]"
      ]
     },
     "execution_count": 27,
     "metadata": {},
     "output_type": "execute_result"
    }
   ],
   "source": [
    "sorted(d.values())"
   ]
  },
  {
   "cell_type": "code",
   "execution_count": 23,
   "metadata": {},
   "outputs": [
    {
     "data": {
      "text/plain": [
       "dict_values([{'Kohli': 120, 'Dhavan': 50, 'Sachin': 250}, {'Kohli': 150, 'Sachin': 250}, {'Dhravid': 100, 'Dhavan': 80, 'Ganguly': 150}])"
      ]
     },
     "execution_count": 23,
     "metadata": {},
     "output_type": "execute_result"
    }
   ],
   "source": [
    "score.values()"
   ]
  },
  {
   "cell_type": "code",
   "execution_count": 31,
   "metadata": {},
   "outputs": [
    {
     "name": "stdout",
     "output_type": "stream",
     "text": [
      "3\n",
      "4\n",
      "5\n",
      "6\n",
      "7\n",
      "8\n",
      "9\n",
      "10\n",
      "11\n",
      "12\n",
      "13\n",
      "14\n",
      "15\n",
      "16\n",
      "17\n",
      "18\n",
      "19\n",
      "20\n",
      "21\n",
      "22\n"
     ]
    }
   ],
   "source": [
    "for i in range(3,23):\n",
    "    print(i)"
   ]
  },
  {
   "cell_type": "code",
   "execution_count": 42,
   "metadata": {},
   "outputs": [
    {
     "name": "stdout",
     "output_type": "stream",
     "text": [
      "32\n",
      "25\n"
     ]
    }
   ],
   "source": [
    "def power(x, n):# x to the power of n\n",
    "    ans = 1\n",
    "    for i in range(0,n):\n",
    "        ans = ans*x\n",
    "    return(ans)\n",
    "print(power(2, 5))\n",
    "print(power(n=2, x=5))"
   ]
  },
  {
   "cell_type": "code",
   "execution_count": 55,
   "metadata": {},
   "outputs": [],
   "source": [
    "#default values must be assigned at the end\n",
    "def func(a, b=45, c=3, d=2):\n",
    "    print(a,b,c,d)\n",
    "gf = func"
   ]
  },
  {
   "cell_type": "code",
   "execution_count": 51,
   "metadata": {},
   "outputs": [
    {
     "name": "stdout",
     "output_type": "stream",
     "text": [
      "12 13 14 15\n"
     ]
    }
   ],
   "source": [
    "func(12,13,14,15)"
   ]
  },
  {
   "cell_type": "code",
   "execution_count": 52,
   "metadata": {},
   "outputs": [
    {
     "name": "stdout",
     "output_type": "stream",
     "text": [
      "12 13 3 2\n"
     ]
    }
   ],
   "source": [
    "func(12,13)"
   ]
  },
  {
   "cell_type": "code",
   "execution_count": 53,
   "metadata": {},
   "outputs": [
    {
     "name": "stdout",
     "output_type": "stream",
     "text": [
      "12 13 45 2\n"
     ]
    }
   ],
   "source": [
    "func(12,13,45)"
   ]
  },
  {
   "cell_type": "code",
   "execution_count": 54,
   "metadata": {},
   "outputs": [
    {
     "name": "stdout",
     "output_type": "stream",
     "text": [
      "12 45 3 2\n"
     ]
    }
   ],
   "source": [
    "func(12)"
   ]
  },
  {
   "cell_type": "code",
   "execution_count": 57,
   "metadata": {},
   "outputs": [
    {
     "name": "stdout",
     "output_type": "stream",
     "text": [
      "12 67 3 2\n"
     ]
    }
   ],
   "source": [
    "gf(12,67)"
   ]
  },
  {
   "cell_type": "code",
   "execution_count": 61,
   "metadata": {},
   "outputs": [
    {
     "name": "stdout",
     "output_type": "stream",
     "text": [
      "128\n"
     ]
    }
   ],
   "source": [
    "def apply(power, x, n, k): # (Apply power of x to n times)*k\n",
    "    res = 0\n",
    "    for i in range(k):\n",
    "        res = res + power(x, n)\n",
    "    return res\n",
    "print(apply(power, x=2, n=5, k=4))"
   ]
  },
  {
   "cell_type": "code",
   "execution_count": 59,
   "metadata": {},
   "outputs": [
    {
     "data": {
      "text/plain": [
       "128"
      ]
     },
     "execution_count": 59,
     "metadata": {},
     "output_type": "execute_result"
    }
   ],
   "source": [
    "32*4"
   ]
  },
  {
   "cell_type": "code",
   "execution_count": 62,
   "metadata": {},
   "outputs": [],
   "source": [
    "def comp(x, y):\n",
    "    if x<y:\n",
    "        return (-1)\n",
    "    elif x>y:\n",
    "        return (1)\n",
    "    else:\n",
    "        return (0)"
   ]
  },
  {
   "cell_type": "code",
   "execution_count": 63,
   "metadata": {},
   "outputs": [
    {
     "data": {
      "text/plain": [
       "-1"
      ]
     },
     "execution_count": 63,
     "metadata": {},
     "output_type": "execute_result"
    }
   ],
   "source": [
    "comp('1','2')"
   ]
  },
  {
   "cell_type": "code",
   "execution_count": 64,
   "metadata": {},
   "outputs": [
    {
     "data": {
      "text/plain": [
       "-1"
      ]
     },
     "execution_count": 64,
     "metadata": {},
     "output_type": "execute_result"
    }
   ],
   "source": [
    "comp('12131','2qew')"
   ]
  },
  {
   "cell_type": "code",
   "execution_count": 65,
   "metadata": {},
   "outputs": [
    {
     "ename": "TypeError",
     "evalue": "'<' not supported between instances of 'int' and 'str'",
     "output_type": "error",
     "traceback": [
      "\u001b[1;31m---------------------------------------------------------------------------\u001b[0m",
      "\u001b[1;31mTypeError\u001b[0m                                 Traceback (most recent call last)",
      "\u001b[1;32m<ipython-input-65-6d8abc4ec150>\u001b[0m in \u001b[0;36m<module>\u001b[1;34m\u001b[0m\n\u001b[1;32m----> 1\u001b[1;33m \u001b[0mcomp\u001b[0m\u001b[1;33m(\u001b[0m\u001b[1;36m12131\u001b[0m\u001b[1;33m,\u001b[0m\u001b[1;34m'2qew'\u001b[0m\u001b[1;33m)\u001b[0m\u001b[1;33m\u001b[0m\u001b[1;33m\u001b[0m\u001b[0m\n\u001b[0m",
      "\u001b[1;32m<ipython-input-62-b1dea806fb0e>\u001b[0m in \u001b[0;36mcomp\u001b[1;34m(x, y)\u001b[0m\n\u001b[0;32m      1\u001b[0m \u001b[1;32mdef\u001b[0m \u001b[0mcomp\u001b[0m\u001b[1;33m(\u001b[0m\u001b[0mx\u001b[0m\u001b[1;33m,\u001b[0m \u001b[0my\u001b[0m\u001b[1;33m)\u001b[0m\u001b[1;33m:\u001b[0m\u001b[1;33m\u001b[0m\u001b[1;33m\u001b[0m\u001b[0m\n\u001b[1;32m----> 2\u001b[1;33m     \u001b[1;32mif\u001b[0m \u001b[0mx\u001b[0m\u001b[1;33m<\u001b[0m\u001b[0my\u001b[0m\u001b[1;33m:\u001b[0m\u001b[1;33m\u001b[0m\u001b[1;33m\u001b[0m\u001b[0m\n\u001b[0m\u001b[0;32m      3\u001b[0m         \u001b[1;32mreturn\u001b[0m \u001b[1;33m(\u001b[0m\u001b[1;33m-\u001b[0m\u001b[1;36m1\u001b[0m\u001b[1;33m)\u001b[0m\u001b[1;33m\u001b[0m\u001b[1;33m\u001b[0m\u001b[0m\n\u001b[0;32m      4\u001b[0m     \u001b[1;32melif\u001b[0m \u001b[0mx\u001b[0m\u001b[1;33m>\u001b[0m\u001b[0my\u001b[0m\u001b[1;33m:\u001b[0m\u001b[1;33m\u001b[0m\u001b[1;33m\u001b[0m\u001b[0m\n\u001b[0;32m      5\u001b[0m         \u001b[1;32mreturn\u001b[0m \u001b[1;33m(\u001b[0m\u001b[1;36m1\u001b[0m\u001b[1;33m)\u001b[0m\u001b[1;33m\u001b[0m\u001b[1;33m\u001b[0m\u001b[0m\n",
      "\u001b[1;31mTypeError\u001b[0m: '<' not supported between instances of 'int' and 'str'"
     ]
    }
   ],
   "source": [
    "comp(12131,'2qew')"
   ]
  },
  {
   "cell_type": "code",
   "execution_count": 66,
   "metadata": {},
   "outputs": [
    {
     "ename": "ValueError",
     "evalue": "invalid literal for int() with base 10: '2qew'",
     "output_type": "error",
     "traceback": [
      "\u001b[1;31m---------------------------------------------------------------------------\u001b[0m",
      "\u001b[1;31mValueError\u001b[0m                                Traceback (most recent call last)",
      "\u001b[1;32m<ipython-input-66-178398ad7a03>\u001b[0m in \u001b[0;36m<module>\u001b[1;34m\u001b[0m\n\u001b[1;32m----> 1\u001b[1;33m \u001b[0mint\u001b[0m\u001b[1;33m(\u001b[0m\u001b[1;34m'2qew'\u001b[0m\u001b[1;33m)\u001b[0m\u001b[1;33m\u001b[0m\u001b[1;33m\u001b[0m\u001b[0m\n\u001b[0m",
      "\u001b[1;31mValueError\u001b[0m: invalid literal for int() with base 10: '2qew'"
     ]
    }
   ],
   "source": [
    "int('2qew')"
   ]
  },
  {
   "cell_type": "code",
   "execution_count": 78,
   "metadata": {},
   "outputs": [
    {
     "data": {
      "text/plain": [
       "1"
      ]
     },
     "execution_count": 78,
     "metadata": {},
     "output_type": "execute_result"
    }
   ],
   "source": [
    "comp('a','10000232332323233')"
   ]
  },
  {
   "cell_type": "code",
   "execution_count": 84,
   "metadata": {},
   "outputs": [
    {
     "name": "stdout",
     "output_type": "stream",
     "text": [
      "False\n",
      "True\n"
     ]
    },
    {
     "ename": "TypeError",
     "evalue": "ord() expected a character, but string of length 2 found",
     "output_type": "error",
     "traceback": [
      "\u001b[1;31m---------------------------------------------------------------------------\u001b[0m",
      "\u001b[1;31mTypeError\u001b[0m                                 Traceback (most recent call last)",
      "\u001b[1;32m<ipython-input-84-30a6bd7e67bb>\u001b[0m in \u001b[0;36m<module>\u001b[1;34m\u001b[0m\n\u001b[0;32m      1\u001b[0m \u001b[0mprint\u001b[0m\u001b[1;33m(\u001b[0m\u001b[1;34m'apple'\u001b[0m \u001b[1;33m==\u001b[0m \u001b[1;34m'Apple'\u001b[0m\u001b[1;33m)\u001b[0m\u001b[1;33m\u001b[0m\u001b[1;33m\u001b[0m\u001b[0m\n\u001b[0;32m      2\u001b[0m \u001b[0mprint\u001b[0m\u001b[1;33m(\u001b[0m\u001b[1;34m'apple'\u001b[0m \u001b[1;33m>\u001b[0m \u001b[1;34m'Apple'\u001b[0m\u001b[1;33m)\u001b[0m\u001b[1;33m\u001b[0m\u001b[1;33m\u001b[0m\u001b[0m\n\u001b[1;32m----> 3\u001b[1;33m \u001b[0mprint\u001b[0m\u001b[1;33m(\u001b[0m\u001b[1;34m'A unicode is'\u001b[0m\u001b[1;33m,\u001b[0m \u001b[0mord\u001b[0m\u001b[1;33m(\u001b[0m\u001b[1;34m'10'\u001b[0m\u001b[1;33m)\u001b[0m\u001b[1;33m,\u001b[0m \u001b[1;34m',a unicode is'\u001b[0m\u001b[1;33m,\u001b[0m \u001b[0mord\u001b[0m\u001b[1;33m(\u001b[0m\u001b[1;34m'a'\u001b[0m\u001b[1;33m)\u001b[0m\u001b[1;33m)\u001b[0m\u001b[1;33m\u001b[0m\u001b[1;33m\u001b[0m\u001b[0m\n\u001b[0m",
      "\u001b[1;31mTypeError\u001b[0m: ord() expected a character, but string of length 2 found"
     ]
    }
   ],
   "source": [
    "print('apple' == 'Apple')\n",
    "print('apple' > 'Apple')\n",
    "print('A unicode is', ord('1'), ',a unicode is', ord('a'))"
   ]
  },
  {
   "cell_type": "code",
   "execution_count": 87,
   "metadata": {},
   "outputs": [],
   "source": [
    "list = [*range(30, 2, -2)]"
   ]
  },
  {
   "cell_type": "code",
   "execution_count": 98,
   "metadata": {},
   "outputs": [
    {
     "data": {
      "text/plain": [
       "[30, 28, 26, 24, 22, 20, 18, 16, 14, 12, 10, 8, 6, 4]"
      ]
     },
     "execution_count": 98,
     "metadata": {},
     "output_type": "execute_result"
    }
   ],
   "source": [
    "list"
   ]
  },
  {
   "cell_type": "code",
   "execution_count": 99,
   "metadata": {},
   "outputs": [],
   "source": [
    "def double(n):\n",
    "    return(2*n)"
   ]
  },
  {
   "cell_type": "code",
   "execution_count": 111,
   "metadata": {},
   "outputs": [],
   "source": [
    "def applyList(f, list):\n",
    "    i = 0\n",
    "    for i in range(len(list)):\n",
    "        list[i] = double(list[i]) "
   ]
  },
  {
   "cell_type": "code",
   "execution_count": 122,
   "metadata": {},
   "outputs": [
    {
     "data": {
      "text/plain": [
       "[983040,\n",
       " 917504,\n",
       " 851968,\n",
       " 786432,\n",
       " 720896,\n",
       " 655360,\n",
       " 589824,\n",
       " 524288,\n",
       " 458752,\n",
       " 393216,\n",
       " 327680,\n",
       " 262144,\n",
       " 196608,\n",
       " 131072]"
      ]
     },
     "execution_count": 122,
     "metadata": {},
     "output_type": "execute_result"
    }
   ],
   "source": [
    "applyList(double, list)\n",
    "list"
   ]
  },
  {
   "cell_type": "code",
   "execution_count": 145,
   "metadata": {},
   "outputs": [
    {
     "name": "stdout",
     "output_type": "stream",
     "text": [
      "1966080\n",
      "1835008\n",
      "1703936\n",
      "1572864\n",
      "1441792\n",
      "1310720\n",
      "1179648\n",
      "1048576\n",
      "917504\n",
      "786432\n",
      "655360\n",
      "524288\n",
      "393216\n",
      "262144\n"
     ]
    }
   ],
   "source": [
    "for i in map(double, list):\n",
    "    print(i)"
   ]
  },
  {
   "cell_type": "code",
   "execution_count": 139,
   "metadata": {},
   "outputs": [
    {
     "data": {
      "text/plain": [
       "[31457280,\n",
       " 29360128,\n",
       " 27262976,\n",
       " 25165824,\n",
       " 23068672,\n",
       " 20971520,\n",
       " 18874368,\n",
       " 16777216,\n",
       " 14680064,\n",
       " 12582912,\n",
       " 10485760,\n",
       " 8388608,\n",
       " 6291456,\n",
       " 4194304]"
      ]
     },
     "execution_count": 139,
     "metadata": {},
     "output_type": "execute_result"
    }
   ],
   "source": [
    "k = [*map(double,k)]\n",
    "k"
   ]
  },
  {
   "cell_type": "code",
   "execution_count": 153,
   "metadata": {},
   "outputs": [
    {
     "data": {
      "text/plain": [
       "False"
      ]
     },
     "execution_count": 153,
     "metadata": {},
     "output_type": "execute_result"
    }
   ],
   "source": [
    "5%2 == 0"
   ]
  },
  {
   "cell_type": "code",
   "execution_count": 154,
   "metadata": {},
   "outputs": [
    {
     "data": {
      "text/plain": [
       "True"
      ]
     },
     "execution_count": 154,
     "metadata": {},
     "output_type": "execute_result"
    }
   ],
   "source": [
    "444%2 == 0"
   ]
  },
  {
   "cell_type": "code",
   "execution_count": 155,
   "metadata": {},
   "outputs": [
    {
     "data": {
      "text/plain": [
       "True"
      ]
     },
     "execution_count": 155,
     "metadata": {},
     "output_type": "execute_result"
    }
   ],
   "source": [
    "443%2 != 0"
   ]
  },
  {
   "cell_type": "code",
   "execution_count": 147,
   "metadata": {},
   "outputs": [],
   "source": [
    "def even(n):\n",
    "    return(n%2 == 0)"
   ]
  },
  {
   "cell_type": "code",
   "execution_count": 146,
   "metadata": {},
   "outputs": [],
   "source": [
    "lst = [*range(30, 5, -1)]"
   ]
  },
  {
   "cell_type": "code",
   "execution_count": 149,
   "metadata": {},
   "outputs": [
    {
     "data": {
      "text/plain": [
       "[30,\n",
       " 29,\n",
       " 28,\n",
       " 27,\n",
       " 26,\n",
       " 25,\n",
       " 24,\n",
       " 23,\n",
       " 22,\n",
       " 21,\n",
       " 20,\n",
       " 19,\n",
       " 18,\n",
       " 17,\n",
       " 16,\n",
       " 15,\n",
       " 14,\n",
       " 13,\n",
       " 12,\n",
       " 11,\n",
       " 10,\n",
       " 9,\n",
       " 8,\n",
       " 7,\n",
       " 6]"
      ]
     },
     "execution_count": 149,
     "metadata": {},
     "output_type": "execute_result"
    }
   ],
   "source": [
    "lst"
   ]
  },
  {
   "cell_type": "code",
   "execution_count": 148,
   "metadata": {},
   "outputs": [],
   "source": [
    "def subList(func, list):\n",
    "    subList = []\n",
    "    for i in list:\n",
    "        if func(i):\n",
    "            subList.append(i)\n",
    "    return(subList)"
   ]
  },
  {
   "cell_type": "code",
   "execution_count": 150,
   "metadata": {},
   "outputs": [
    {
     "data": {
      "text/plain": [
       "[30, 28, 26, 24, 22, 20, 18, 16, 14, 12, 10, 8, 6]"
      ]
     },
     "execution_count": 150,
     "metadata": {},
     "output_type": "execute_result"
    }
   ],
   "source": [
    "subList(even, lst)"
   ]
  },
  {
   "cell_type": "code",
   "execution_count": 151,
   "metadata": {},
   "outputs": [
    {
     "data": {
      "text/plain": [
       "[30, 28, 26, 24, 22, 20, 18, 16, 14, 12, 10, 8, 6]"
      ]
     },
     "execution_count": 151,
     "metadata": {},
     "output_type": "execute_result"
    }
   ],
   "source": [
    "[*filter(even,lst)]"
   ]
  },
  {
   "cell_type": "code",
   "execution_count": 152,
   "metadata": {},
   "outputs": [
    {
     "data": {
      "text/plain": [
       "False"
      ]
     },
     "execution_count": 152,
     "metadata": {},
     "output_type": "execute_result"
    }
   ],
   "source": []
  },
  {
   "cell_type": "code",
   "execution_count": 156,
   "metadata": {},
   "outputs": [
    {
     "data": {
      "text/plain": [
       "[28, 24, 20, 16, 12, 8, 4]"
      ]
     },
     "execution_count": 156,
     "metadata": {},
     "output_type": "execute_result"
    }
   ],
   "source": [
    "[*map(double, [*filter(even,[*range(15, 1, -1)])])]"
   ]
  },
  {
   "cell_type": "code",
   "execution_count": 157,
   "metadata": {},
   "outputs": [
    {
     "data": {
      "text/plain": [
       "[14, 12, 10, 8, 6, 4, 2]"
      ]
     },
     "execution_count": 157,
     "metadata": {},
     "output_type": "execute_result"
    }
   ],
   "source": [
    "[*filter(even,[*range(15, 1, -1)])]"
   ]
  },
  {
   "cell_type": "code",
   "execution_count": 166,
   "metadata": {},
   "outputs": [
    {
     "data": {
      "text/plain": [
       "[25, 24, 23, 22, 21, 20, 19, 18, 17, 16, 15, 14, 13, 12, 11, 10, 9, 8, 7, 6]"
      ]
     },
     "execution_count": 166,
     "metadata": {},
     "output_type": "execute_result"
    }
   ],
   "source": [
    "# MAP(x//2) - GENERATOR(for x in range(50, 10, -1)) - FILTER(if even(x))\n",
    "[x//2 for x in range(50, 10, -1) if even(x)]"
   ]
  },
  {
   "cell_type": "code",
   "execution_count": 164,
   "metadata": {},
   "outputs": [
    {
     "data": {
      "text/plain": [
       "[45, 43, 41, 39, 37, 35, 33, 31, 29, 27, 25, 23, 21, 19, 17, 15, 13, 11, 9, 7]"
      ]
     },
     "execution_count": 164,
     "metadata": {},
     "output_type": "execute_result"
    }
   ],
   "source": [
    "[(x - 4) for x in range(50, 10, -1) if not even(x)]"
   ]
  },
  {
   "cell_type": "code",
   "execution_count": 173,
   "metadata": {},
   "outputs": [
    {
     "data": {
      "text/plain": [
       "1"
      ]
     },
     "execution_count": 173,
     "metadata": {},
     "output_type": "execute_result"
    }
   ],
   "source": [
    "2^3"
   ]
  },
  {
   "cell_type": "code",
   "execution_count": 176,
   "metadata": {},
   "outputs": [
    {
     "data": {
      "text/plain": [
       "[(0, 0, 0),\n",
       " (0, 1, 1),\n",
       " (0, 2, 2),\n",
       " (0, 3, 3),\n",
       " (0, 4, 4),\n",
       " (0, 5, 5),\n",
       " (0, 6, 6),\n",
       " (0, 7, 7),\n",
       " (0, 8, 8),\n",
       " (0, 9, 9),\n",
       " (0, 10, 10),\n",
       " (0, 11, 11),\n",
       " (0, 12, 12),\n",
       " (0, 13, 13),\n",
       " (0, 14, 14),\n",
       " (0, 15, 15),\n",
       " (0, 16, 16),\n",
       " (0, 17, 17),\n",
       " (0, 18, 18),\n",
       " (0, 19, 19),\n",
       " (1, 0, 1),\n",
       " (2, 0, 2),\n",
       " (3, 0, 3),\n",
       " (3, 4, 5),\n",
       " (4, 0, 4),\n",
       " (4, 3, 5),\n",
       " (5, 0, 5),\n",
       " (5, 12, 13),\n",
       " (6, 0, 6),\n",
       " (6, 8, 10),\n",
       " (7, 0, 7),\n",
       " (8, 0, 8),\n",
       " (8, 6, 10),\n",
       " (8, 15, 17),\n",
       " (9, 0, 9),\n",
       " (9, 12, 15),\n",
       " (10, 0, 10),\n",
       " (11, 0, 11),\n",
       " (12, 0, 12),\n",
       " (12, 5, 13),\n",
       " (12, 9, 15),\n",
       " (13, 0, 13),\n",
       " (14, 0, 14),\n",
       " (15, 0, 15),\n",
       " (15, 8, 17),\n",
       " (16, 0, 16),\n",
       " (17, 0, 17),\n",
       " (18, 0, 18),\n",
       " (19, 0, 19)]"
      ]
     },
     "execution_count": 176,
     "metadata": {},
     "output_type": "execute_result"
    }
   ],
   "source": [
    "# Pythagorean triples\n",
    "[(x, y, z) for x in range(20) for y in range(20) for z in range(20) if x*x+y*y == z*z]"
   ]
  },
  {
   "cell_type": "code",
   "execution_count": 179,
   "metadata": {},
   "outputs": [
    {
     "name": "stdout",
     "output_type": "stream",
     "text": [
      "4\n",
      "5\n",
      "6\n",
      "7\n"
     ]
    }
   ],
   "source": [
    "for i in range(4,8):\n",
    "    print(i)"
   ]
  },
  {
   "cell_type": "code",
   "execution_count": 187,
   "metadata": {},
   "outputs": [
    {
     "data": {
      "text/plain": [
       "[(3, 4, 5), (5, 12, 13), (6, 8, 10), (8, 15, 17), (9, 12, 15)]"
      ]
     },
     "execution_count": 187,
     "metadata": {},
     "output_type": "execute_result"
    }
   ],
   "source": [
    "# Pythagorean triples without repetition\n",
    "[(x, y, z) for x in range(20) for y in range(x,20) for z in range(y,20) if x*x+y*y == z*z and x!=y!=z]"
   ]
  },
  {
   "cell_type": "code",
   "execution_count": 207,
   "metadata": {},
   "outputs": [],
   "source": [
    "# Initialize a 3X4 matrix by list comprehension\n",
    "rows = 4\n",
    "columns = 3\n",
    "a = [[1 for x in range(columns)] for y in range(rows)]"
   ]
  },
  {
   "cell_type": "code",
   "execution_count": 208,
   "metadata": {},
   "outputs": [
    {
     "data": {
      "text/plain": [
       "[[1, 1, 1], [1, 1, 1], [1, 1, 1], [1, 1, 1]]"
      ]
     },
     "execution_count": 208,
     "metadata": {},
     "output_type": "execute_result"
    }
   ],
   "source": [
    "a"
   ]
  },
  {
   "cell_type": "code",
   "execution_count": 209,
   "metadata": {},
   "outputs": [],
   "source": [
    "zerolist = [0 for i in range(5)]"
   ]
  },
  {
   "cell_type": "code",
   "execution_count": 210,
   "metadata": {},
   "outputs": [],
   "source": [
    "matrix = [zerolist for j in range(6)]"
   ]
  },
  {
   "cell_type": "code",
   "execution_count": 212,
   "metadata": {},
   "outputs": [
    {
     "data": {
      "text/plain": [
       "[[0, 0, 0, 0, 0],\n",
       " [0, 0, 0, 0, 0],\n",
       " [0, 0, 0, 0, 0],\n",
       " [0, 0, 0, 0, 0],\n",
       " [0, 0, 0, 0, 0],\n",
       " [0, 0, 0, 0, 0]]"
      ]
     },
     "execution_count": 212,
     "metadata": {},
     "output_type": "execute_result"
    }
   ],
   "source": [
    "matrix # 5x6 matrix"
   ]
  },
  {
   "cell_type": "code",
   "execution_count": 214,
   "metadata": {},
   "outputs": [
    {
     "data": {
      "text/plain": [
       "0"
      ]
     },
     "execution_count": 214,
     "metadata": {},
     "output_type": "execute_result"
    }
   ],
   "source": [
    "matrix[3][4]"
   ]
  },
  {
   "cell_type": "code",
   "execution_count": 217,
   "metadata": {},
   "outputs": [],
   "source": [
    "matrix[3][4] = 67 # it changes all values of zerolist"
   ]
  },
  {
   "cell_type": "code",
   "execution_count": 216,
   "metadata": {},
   "outputs": [
    {
     "data": {
      "text/plain": [
       "[[0, 0, 0, 0, 67],\n",
       " [0, 0, 0, 0, 67],\n",
       " [0, 0, 0, 0, 67],\n",
       " [0, 0, 0, 0, 67],\n",
       " [0, 0, 0, 0, 67],\n",
       " [0, 0, 0, 0, 67]]"
      ]
     },
     "execution_count": 216,
     "metadata": {},
     "output_type": "execute_result"
    }
   ],
   "source": [
    "matrix"
   ]
  },
  {
   "cell_type": "code",
   "execution_count": 227,
   "metadata": {},
   "outputs": [],
   "source": [
    "matrix = [[4 for i in range(15)] for j in range(26)] #26x15 matrix"
   ]
  },
  {
   "cell_type": "code",
   "execution_count": 228,
   "metadata": {},
   "outputs": [],
   "source": [
    "matrix[3][4] = 5645"
   ]
  },
  {
   "cell_type": "code",
   "execution_count": 229,
   "metadata": {},
   "outputs": [
    {
     "data": {
      "text/plain": [
       "[[4, 4, 4, 4, 4, 4, 4, 4, 4, 4, 4, 4, 4, 4, 4],\n",
       " [4, 4, 4, 4, 4, 4, 4, 4, 4, 4, 4, 4, 4, 4, 4],\n",
       " [4, 4, 4, 4, 4, 4, 4, 4, 4, 4, 4, 4, 4, 4, 4],\n",
       " [4, 4, 4, 4, 5645, 4, 4, 4, 4, 4, 4, 4, 4, 4, 4],\n",
       " [4, 4, 4, 4, 4, 4, 4, 4, 4, 4, 4, 4, 4, 4, 4],\n",
       " [4, 4, 4, 4, 4, 4, 4, 4, 4, 4, 4, 4, 4, 4, 4],\n",
       " [4, 4, 4, 4, 4, 4, 4, 4, 4, 4, 4, 4, 4, 4, 4],\n",
       " [4, 4, 4, 4, 4, 4, 4, 4, 4, 4, 4, 4, 4, 4, 4],\n",
       " [4, 4, 4, 4, 4, 4, 4, 4, 4, 4, 4, 4, 4, 4, 4],\n",
       " [4, 4, 4, 4, 4, 4, 4, 4, 4, 4, 4, 4, 4, 4, 4],\n",
       " [4, 4, 4, 4, 4, 4, 4, 4, 4, 4, 4, 4, 4, 4, 4],\n",
       " [4, 4, 4, 4, 4, 4, 4, 4, 4, 4, 4, 4, 4, 4, 4],\n",
       " [4, 4, 4, 4, 4, 4, 4, 4, 4, 4, 4, 4, 4, 4, 4],\n",
       " [4, 4, 4, 4, 4, 4, 4, 4, 4, 4, 4, 4, 4, 4, 4],\n",
       " [4, 4, 4, 4, 4, 4, 4, 4, 4, 4, 4, 4, 4, 4, 4],\n",
       " [4, 4, 4, 4, 4, 4, 4, 4, 4, 4, 4, 4, 4, 4, 4],\n",
       " [4, 4, 4, 4, 4, 4, 4, 4, 4, 4, 4, 4, 4, 4, 4],\n",
       " [4, 4, 4, 4, 4, 4, 4, 4, 4, 4, 4, 4, 4, 4, 4],\n",
       " [4, 4, 4, 4, 4, 4, 4, 4, 4, 4, 4, 4, 4, 4, 4],\n",
       " [4, 4, 4, 4, 4, 4, 4, 4, 4, 4, 4, 4, 4, 4, 4],\n",
       " [4, 4, 4, 4, 4, 4, 4, 4, 4, 4, 4, 4, 4, 4, 4],\n",
       " [4, 4, 4, 4, 4, 4, 4, 4, 4, 4, 4, 4, 4, 4, 4],\n",
       " [4, 4, 4, 4, 4, 4, 4, 4, 4, 4, 4, 4, 4, 4, 4],\n",
       " [4, 4, 4, 4, 4, 4, 4, 4, 4, 4, 4, 4, 4, 4, 4],\n",
       " [4, 4, 4, 4, 4, 4, 4, 4, 4, 4, 4, 4, 4, 4, 4],\n",
       " [4, 4, 4, 4, 4, 4, 4, 4, 4, 4, 4, 4, 4, 4, 4]]"
      ]
     },
     "execution_count": 229,
     "metadata": {},
     "output_type": "execute_result"
    }
   ],
   "source": [
    "matrix #here updation happens only at that position not everywhere"
   ]
  },
  {
   "cell_type": "code",
   "execution_count": 234,
   "metadata": {},
   "outputs": [
    {
     "name": "stdout",
     "output_type": "stream",
     "text": [
      "General error, check your code\n"
     ]
    }
   ],
   "source": [
    "# Python code to illustrate \n",
    "# working of try()  \n",
    "def divide(x, y): \n",
    "    try: \n",
    "        # Floor Division : Gives only Fractional Part as Answer \n",
    "        result = x // z \n",
    "        print(\"Yeah ! Your answer is :\", result) \n",
    "    except ZeroDivisionError: \n",
    "        print(\"Sorry ! You are dividing by zero \") \n",
    "    except:\n",
    "        print('General error, check your code')\n",
    "    else:\n",
    "        print('Normal exit')\n",
    "# Look at parameters and note the working of Program \n",
    "divide(3, 10) "
   ]
  },
  {
   "cell_type": "code",
   "execution_count": 236,
   "metadata": {},
   "outputs": [
    {
     "name": "stdout",
     "output_type": "stream",
     "text": [
      "Sorry ! You are dividing by zero \n"
     ]
    }
   ],
   "source": [
    "# Python code to illustrate \n",
    "# working of try()  \n",
    "def divide(x, y): \n",
    "    try: \n",
    "        # Floor Division : Gives only Fractional Part as Answer \n",
    "        result = x // y \n",
    "        print(\"Yeah ! Your answer is :\", result) \n",
    "    except ZeroDivisionError: \n",
    "        print(\"Sorry ! You are dividing by zero \") \n",
    "    except:\n",
    "        print('General error, check your code')\n",
    "    else:\n",
    "        print('Normal exit')\n",
    "# Look at parameters and note the working of Program \n",
    "divide(3, 0) "
   ]
  },
  {
   "cell_type": "code",
   "execution_count": 237,
   "metadata": {},
   "outputs": [
    {
     "name": "stdout",
     "output_type": "stream",
     "text": [
      "Yeah ! Your answer is : 0\n",
      "Normal exit\n"
     ]
    }
   ],
   "source": [
    "# Python code to illustrate \n",
    "# working of try()  \n",
    "def divide(x, y): \n",
    "    try: \n",
    "        # Floor Division : Gives only Fractional Part as Answer \n",
    "        result = x // y \n",
    "        print(\"Yeah ! Your answer is :\", result) \n",
    "    except ZeroDivisionError: \n",
    "        print(\"Sorry ! You are dividing by zero \") \n",
    "    except:\n",
    "        print('General error, check your code')\n",
    "    else:\n",
    "        print('Normal exit')\n",
    "# Look at parameters and note the working of Program \n",
    "divide(3, 10) "
   ]
  },
  {
   "cell_type": "code",
   "execution_count": 254,
   "metadata": {},
   "outputs": [
    {
     "data": {
      "text/plain": [
       "{1: 2, 2: 3, 3: 4, 4: 5, 5: [6], 6: 7}"
      ]
     },
     "execution_count": 254,
     "metadata": {},
     "output_type": "execute_result"
    }
   ],
   "source": [
    "dic = {1:2,2:3,3:4,4:5,5:[6],6:7}\n",
    "dic"
   ]
  },
  {
   "cell_type": "code",
   "execution_count": 246,
   "metadata": {},
   "outputs": [
    {
     "data": {
      "text/plain": [
       "{1: 2, 2: 3, 3: 4, 4: 5, 5: [6, 1000], 6: 7}"
      ]
     },
     "execution_count": 246,
     "metadata": {},
     "output_type": "execute_result"
    }
   ],
   "source": [
    "#without exceptions - general method\n",
    "x = 5\n",
    "if x in dic.keys():\n",
    "    dic[x].append(1000)\n",
    "else:\n",
    "    dic[x] = 1000\n",
    "dic"
   ]
  },
  {
   "cell_type": "code",
   "execution_count": 255,
   "metadata": {},
   "outputs": [
    {
     "name": "stdout",
     "output_type": "stream",
     "text": [
      "Got key error\n"
     ]
    },
    {
     "data": {
      "text/plain": [
       "{1: 2, 2: 3, 3: 4, 4: 5, 5: [6], 6: 7, 8: [1000]}"
      ]
     },
     "execution_count": 255,
     "metadata": {},
     "output_type": "execute_result"
    }
   ],
   "source": [
    "#using exceptions\n",
    "try:\n",
    "    dic[8].append(1000)\n",
    "except:\n",
    "    print('Got key error')\n",
    "    dic[8] = [1000]\n",
    "dic"
   ]
  },
  {
   "cell_type": "code",
   "execution_count": 258,
   "metadata": {},
   "outputs": [
    {
     "name": "stdout",
     "output_type": "stream",
     "text": [
      "Got error\n"
     ]
    }
   ],
   "source": [
    "def f():\n",
    "    try:\n",
    "        g()\n",
    "    except:\n",
    "        print('Got error') #from function k()\n",
    "def g():\n",
    "    k()\n",
    "def k():\n",
    "    x = 2/0\n",
    "f()"
   ]
  },
  {
   "cell_type": "code",
   "execution_count": 1,
   "metadata": {},
   "outputs": [
    {
     "name": "stdin",
     "output_type": "stream",
     "text": [
      " 2\n"
     ]
    }
   ],
   "source": [
    "u = input()"
   ]
  },
  {
   "cell_type": "code",
   "execution_count": 2,
   "metadata": {},
   "outputs": [
    {
     "data": {
      "text/plain": [
       "'2'"
      ]
     },
     "execution_count": 2,
     "metadata": {},
     "output_type": "execute_result"
    }
   ],
   "source": [
    "u"
   ]
  },
  {
   "cell_type": "code",
   "execution_count": null,
   "metadata": {},
   "outputs": [],
   "source": [
    "input('Enter a num\\n')"
   ]
  },
  {
   "cell_type": "code",
   "execution_count": null,
   "metadata": {},
   "outputs": [],
   "source": [
    "while True:\n",
    "    i = input('Enter a number:\\n')\n",
    "    try:\n",
    "        number = int(i)\n",
    "    except ValueError:\n",
    "        print('Not a number, Try Again!')\n",
    "    else:\n",
    "        break #normal exit"
   ]
  },
  {
   "cell_type": "code",
   "execution_count": null,
   "metadata": {},
   "outputs": [],
   "source": [
    "# changing default separator/space in print\n",
    "(x,y) = (3,4)\n",
    "print('x is',x,'y is',y) # default separator is space\n",
    "print('x is',x,'y is',y,sep='=')"
   ]
  },
  {
   "cell_type": "code",
   "execution_count": 14,
   "metadata": {},
   "outputs": [
    {
     "name": "stdout",
     "output_type": "stream",
     "text": [
      "x is 3 y isasdadasdddddddddddddddddddddddddddddddddddddddddddddddddddddd 4"
     ]
    }
   ],
   "source": [
    "print('x is ',x,' y is ',y,sep='')# removed default separator and added space manually"
   ]
  },
  {
   "cell_type": "code",
   "execution_count": 18,
   "metadata": {},
   "outputs": [
    {
     "name": "stdout",
     "output_type": "stream",
     "text": [
      "test - } end_char {test in second line\n"
     ]
    }
   ],
   "source": [
    "# end character is by default new line, here we are changing it\n",
    "print('test - } ',end='end_char')\n",
    "print(' {test in second line')"
   ]
  },
  {
   "cell_type": "code",
   "execution_count": 24,
   "metadata": {},
   "outputs": [],
   "source": [
    "fw = open('newfile.txt','w')\n",
    "fw.close()"
   ]
  },
  {
   "cell_type": "code",
   "execution_count": 25,
   "metadata": {},
   "outputs": [],
   "source": [
    "fa = open('appendfile.txt','w')\n",
    "fa.close()"
   ]
  },
  {
   "cell_type": "code",
   "execution_count": 26,
   "metadata": {},
   "outputs": [],
   "source": [
    "fr = open('textfile.txt','r')"
   ]
  },
  {
   "cell_type": "code",
   "execution_count": 39,
   "metadata": {},
   "outputs": [
    {
     "name": "stdout",
     "output_type": "stream",
     "text": [
      " data is han\n"
     ]
    }
   ],
   "source": [
    "str = fr.read(12)\n",
    "print(str)"
   ]
  },
  {
   "cell_type": "code",
   "execution_count": 33,
   "metadata": {},
   "outputs": [
    {
     "name": "stdout",
     "output_type": "stream",
     "text": [
      "All importan\n"
     ]
    }
   ],
   "source": [
    "fr.seek(0)\n",
    "str = fr.read(12)\n",
    "print(str)"
   ]
  },
  {
   "cell_type": "code",
   "execution_count": 48,
   "metadata": {},
   "outputs": [
    {
     "data": {
      "text/plain": [
       "0"
      ]
     },
     "execution_count": 48,
     "metadata": {},
     "output_type": "execute_result"
    }
   ],
   "source": [
    "fr.seek(0)"
   ]
  },
  {
   "cell_type": "code",
   "execution_count": 49,
   "metadata": {},
   "outputs": [
    {
     "name": "stdout",
     "output_type": "stream",
     "text": [
      "All important data quality checks are performed and inconsistent/missing data is handled appropriately.\n",
      "\n"
     ]
    }
   ],
   "source": [
    "line = fr.readline()\n",
    "print(line)"
   ]
  },
  {
   "cell_type": "code",
   "execution_count": 50,
   "metadata": {},
   "outputs": [],
   "source": [
    "fr.close()"
   ]
  },
  {
   "cell_type": "code",
   "execution_count": 51,
   "metadata": {},
   "outputs": [],
   "source": [
    "fa = open('textfile.txt','w')"
   ]
  },
  {
   "cell_type": "code",
   "execution_count": 54,
   "metadata": {},
   "outputs": [],
   "source": [
    "fa.writelines('Having read from a file then the other thing that we would like to do is to write to a file.')"
   ]
  },
  {
   "cell_type": "code",
   "execution_count": 56,
   "metadata": {},
   "outputs": [],
   "source": [
    "fa.close()"
   ]
  },
  {
   "cell_type": "code",
   "execution_count": 59,
   "metadata": {},
   "outputs": [
    {
     "name": "stdout",
     "output_type": "stream",
     "text": [
      "H\n",
      "a\n",
      "v\n",
      "i\n",
      "n\n",
      "g\n",
      " \n",
      "r\n",
      "e\n",
      "a\n",
      "d\n",
      " \n"
     ]
    }
   ],
   "source": [
    "fr = open('textfile.txt','r')\n",
    "for line in fr.read(12):\n",
    "    print(line)\n",
    "fr.close()"
   ]
  },
  {
   "cell_type": "code",
   "execution_count": 61,
   "metadata": {},
   "outputs": [
    {
     "name": "stdout",
     "output_type": "stream",
     "text": [
      "Having read from a file then the other thing that we would like to do is to write to a file.\n",
      "\n",
      "Having read from a file then the other thing that we would like to do is to write to a file.\n",
      "\n",
      "So, here is how you write to a file just like you have read a command you have a write\n",
      "\n",
      "command, but now unlike read which implicitly takes something from the file and gives\n",
      "\n",
      "to you, here you have to provide it something to put in the file. So, write takes an\n",
      "\n",
      "argument which is a string. When you say, write s says take the string s and write it to a\n",
      "\n",
      "file.\n",
      "\n",
      "Now, there are two things; one is this s may or may not have a backslash n, it may have\n",
      "\n",
      "more than one backslash n. So, is nothing tells you this is one line part of a line more\n",
      "\n",
      "than a line you have to write s according to the way you want it to be written on the file,\n",
      "\n",
      "if you want it to be in one line you should make sure it ends with a backslash n.\n"
     ]
    }
   ],
   "source": [
    "fr = open('textfile.txt','r')\n",
    "for line in fr.readlines():\n",
    "    print(line)\n",
    "fr.close()"
   ]
  },
  {
   "cell_type": "code",
   "execution_count": 33,
   "metadata": {},
   "outputs": [],
   "source": [
    "#copying file with writelines\n",
    "fr = open('textfile.txt','r')\n",
    "fw = open('newfile.txt','w')\n",
    "fw.writelines(fr.readlines())\n",
    "fr.close()\n",
    "fw.close()"
   ]
  },
  {
   "cell_type": "code",
   "execution_count": 31,
   "metadata": {},
   "outputs": [],
   "source": [
    "#copying file with write\n",
    "fr = open('textfile.txt','r')\n",
    "fw = open('newfile.txt','w')\n",
    "for line in fr.readlines():\n",
    "    fw.write(line)\n",
    "fr.close()\n",
    "fw.close()"
   ]
  },
  {
   "cell_type": "code",
   "execution_count": 19,
   "metadata": {},
   "outputs": [],
   "source": [
    "#difference between write and writelines\n",
    "lines = ['line1', 'line2']\n",
    "with open('newfile.txt', 'w') as f:\n",
    "    f.write('\\n'.join(lines))\n",
    "f.close()"
   ]
  },
  {
   "cell_type": "code",
   "execution_count": 29,
   "metadata": {},
   "outputs": [
    {
     "name": "stdout",
     "output_type": "stream",
     "text": [
      "line1\n",
      "line2\n",
      "See you soon!\n",
      "Over and out.\n",
      "See you soon!\n",
      "Over and out.\n",
      "See you soon!Over and out.\n",
      "See you soon!\n",
      "Over and out.\n",
      "See you soon!\n",
      "Over and out.\n",
      "See you soon!\n",
      "Over and out.\n",
      "See you soon!\n",
      "Over and out.\n",
      "See you soon!\n",
      "Over and out.See you soon! Over and out.\n",
      "See you soon!\n",
      "Over and out.\n",
      "See you soon! Over and out.\n",
      "See you soon!\n",
      "Over and out.\n",
      "See you soon! Over and out.\n",
      "See you soon!\n",
      "Over and out.\n",
      "See you soon! Over and out.\n"
     ]
    }
   ],
   "source": [
    "f = open(\"newfile.txt\", \"a\")\n",
    "#writelines input must be a list \n",
    "f.writelines([\"\\nSee you soon!\", \"\\nOver and out.\"])\n",
    "#write input must be a string\n",
    "f.write(\"\\nSee you soon! Over and out.\")\n",
    "f.close()\n",
    "\n",
    "#open and read the file after the appending:\n",
    "f = open(\"newfile.txt\", \"r\")\n",
    "print(f.read())"
   ]
  },
  {
   "cell_type": "code",
   "execution_count": 2,
   "metadata": {},
   "outputs": [
    {
     "name": "stdout",
     "output_type": "stream",
     "text": [
      "Nothing went wrong\n",
      "The try...except block is finished\n"
     ]
    }
   ],
   "source": [
    "#understanding try except else and finally\n",
    "try:\n",
    "  x = 3\n",
    "except:\n",
    "  print(\"Something went wrong\")\n",
    "else:\n",
    "  print(\"Nothing went wrong\")\n",
    "finally:\n",
    "  print(\"The try...except block is finished\")"
   ]
  },
  {
   "cell_type": "code",
   "execution_count": 3,
   "metadata": {},
   "outputs": [
    {
     "name": "stdout",
     "output_type": "stream",
     "text": [
      "Nothing went wrong\n",
      "The try...except block is finished\n"
     ]
    }
   ],
   "source": [
    "#understanding try except else and finally\n",
    "try:\n",
    "  x > 3\n",
    "except:\n",
    "  print(\"Something went wrong\")\n",
    "else:\n",
    "  print(\"Nothing went wrong\")\n",
    "finally:\n",
    "  print(\"The try...except block is finished\")"
   ]
  },
  {
   "cell_type": "code",
   "execution_count": 4,
   "metadata": {},
   "outputs": [],
   "source": [
    "#with statement in python \n",
    "# file handling \n",
    "# without using with statement \n",
    "file = open('file_path', 'w') \n",
    "try: \n",
    "    file.write('hello world') \n",
    "finally: \n",
    "    file.close() "
   ]
  },
  {
   "cell_type": "code",
   "execution_count": 5,
   "metadata": {},
   "outputs": [],
   "source": [
    "# using with statement \n",
    "with open('newfile.txt', 'w') as file: \n",
    "    file.write('hello world !') "
   ]
  },
  {
   "cell_type": "code",
   "execution_count": 6,
   "metadata": {},
   "outputs": [
    {
     "name": "stdout",
     "output_type": "stream",
     "text": [
      "geeksforgeeks\n",
      "20\n"
     ]
    }
   ],
   "source": [
    "# A Python program to return multiple   \n",
    "# values from a method using tuple  \n",
    "    \n",
    "# This function returns a tuple  \n",
    "def fun():  \n",
    "    str = \"geeksforgeeks\"\n",
    "    x = 20\n",
    "    return str, x;  # Return tuple, we could also  \n",
    "                    # write (str, x)  \n",
    "    \n",
    "# Driver code to test above method  \n",
    "str, x = fun() # Assign returned tuple  \n",
    "print(str)  \n",
    "print(x)  "
   ]
  },
  {
   "cell_type": "code",
   "execution_count": 7,
   "metadata": {},
   "outputs": [
    {
     "name": "stdout",
     "output_type": "stream",
     "text": [
      "geeksforgeeks\n",
      "20\n"
     ]
    }
   ],
   "source": [
    "# A Python program to return multiple   \n",
    "# values from a method using class  \n",
    "class Test:  \n",
    "    def __init__(self):  \n",
    "        self.str = \"geeksforgeeks\"\n",
    "        self.x = 20   \n",
    "    \n",
    "# This function returns an object of Test  \n",
    "def fun():  \n",
    "    return Test()  \n",
    "        \n",
    "# Driver code to test above method  \n",
    "t = fun()   \n",
    "print(t.str)  \n",
    "print(t.x) "
   ]
  },
  {
   "cell_type": "code",
   "execution_count": 8,
   "metadata": {},
   "outputs": [
    {
     "name": "stdout",
     "output_type": "stream",
     "text": [
      "['geeksforgeeks', 20]\n"
     ]
    }
   ],
   "source": [
    "# A Python program to return multiple   \n",
    "# values from a method using list  \n",
    "    \n",
    "# This function returns a list  \n",
    "def fun():  \n",
    "    str = \"geeksforgeeks\"\n",
    "    x = 20   \n",
    "    return [str, x];    \n",
    "    \n",
    "# Driver code to test above method  \n",
    "list = fun()   \n",
    "print(list) "
   ]
  },
  {
   "cell_type": "code",
   "execution_count": 9,
   "metadata": {},
   "outputs": [
    {
     "name": "stdout",
     "output_type": "stream",
     "text": [
      "{'str': 'GeeksforGeeks', 'x': 20}\n"
     ]
    }
   ],
   "source": [
    "# A Python program to return multiple   \n",
    "# values from a method using dictionary  \n",
    "    \n",
    "# This function returns a dictionary  \n",
    "def fun():  \n",
    "    d = dict();   \n",
    "    d['str'] = \"GeeksforGeeks\"\n",
    "    d['x']   = 20\n",
    "    return d  \n",
    "    \n",
    "# Driver code to test above method  \n",
    "d = fun()   \n",
    "print(d) "
   ]
  },
  {
   "cell_type": "code",
   "execution_count": 16,
   "metadata": {},
   "outputs": [
    {
     "name": "stdout",
     "output_type": "stream",
     "text": [
      "The result is 25\n",
      "\n",
      "The result is: 100\n"
     ]
    }
   ],
   "source": [
    "# Python program to illustrate functions  \n",
    "# can return another function  \n",
    "  \n",
    "def create_adder(x):  \n",
    "    def adder(y):  \n",
    "        return x + y  \n",
    "  \n",
    "    return adder  \n",
    "  \n",
    "add_15 = create_adder(15)  \n",
    "  \n",
    "print(\"The result is\", add_15(10))  \n",
    "  \n",
    "# Returning different function \n",
    "def outer(x): \n",
    "    return x * 10\n",
    "  \n",
    "def my_func(): \n",
    "      \n",
    "    # returning different function \n",
    "    return outer \n",
    "  \n",
    "# storing the function in res \n",
    "res = my_func() \n",
    "  \n",
    "print(\"\\nThe result is:\", res(10)) "
   ]
  },
  {
   "cell_type": "code",
   "execution_count": 15,
   "metadata": {},
   "outputs": [],
   "source": [
    "# Correct way of writing empty function  \n",
    "# in Python \n",
    "def fun():  \n",
    "    pass"
   ]
  },
  {
   "cell_type": "code",
   "execution_count": 14,
   "metadata": {},
   "outputs": [
    {
     "ename": "KeyboardInterrupt",
     "evalue": "",
     "output_type": "error",
     "traceback": [
      "\u001b[1;31m---------------------------------------------------------------------------\u001b[0m",
      "\u001b[1;31mKeyboardInterrupt\u001b[0m                         Traceback (most recent call last)",
      "\u001b[1;32m<ipython-input-14-180725a1c32b>\u001b[0m in \u001b[0;36m<module>\u001b[1;34m\u001b[0m\n\u001b[0;32m      1\u001b[0m \u001b[1;31m# Empty loop in Python\u001b[0m\u001b[1;33m\u001b[0m\u001b[1;33m\u001b[0m\u001b[1;33m\u001b[0m\u001b[0m\n\u001b[0;32m      2\u001b[0m \u001b[0mmutex\u001b[0m \u001b[1;33m=\u001b[0m \u001b[1;32mTrue\u001b[0m\u001b[1;33m\u001b[0m\u001b[1;33m\u001b[0m\u001b[0m\n\u001b[1;32m----> 3\u001b[1;33m \u001b[1;32mwhile\u001b[0m \u001b[1;33m(\u001b[0m\u001b[0mmutex\u001b[0m \u001b[1;33m==\u001b[0m \u001b[1;32mTrue\u001b[0m\u001b[1;33m)\u001b[0m \u001b[1;33m:\u001b[0m\u001b[1;33m\u001b[0m\u001b[1;33m\u001b[0m\u001b[0m\n\u001b[0m\u001b[0;32m      4\u001b[0m     \u001b[1;32mpass\u001b[0m\u001b[1;33m\u001b[0m\u001b[1;33m\u001b[0m\u001b[0m\n",
      "\u001b[1;31mKeyboardInterrupt\u001b[0m: "
     ]
    }
   ],
   "source": [
    "# Empty loop in Python \n",
    "mutex = True\n",
    "while (mutex == True) : \n",
    "    pass"
   ]
  },
  {
   "cell_type": "code",
   "execution_count": 34,
   "metadata": {},
   "outputs": [],
   "source": [
    "# Empty in if/else in Python \n",
    "mutex = True\n",
    "if (mutex == True) : \n",
    "    pass\n",
    "else : \n",
    "    print(\"False\") "
   ]
  },
  {
   "cell_type": "code",
   "execution_count": 35,
   "metadata": {},
   "outputs": [
    {
     "name": "stdout",
     "output_type": "stream",
     "text": [
      "adasndandnasld\n",
      "\n"
     ]
    }
   ],
   "source": [
    "str = \"adasndandnasld\\n\"\n",
    "print(str)"
   ]
  },
  {
   "cell_type": "code",
   "execution_count": 36,
   "metadata": {},
   "outputs": [
    {
     "name": "stdout",
     "output_type": "stream",
     "text": [
      "adasndandnasld\n"
     ]
    }
   ],
   "source": [
    "print(str[:-1])"
   ]
  },
  {
   "cell_type": "code",
   "execution_count": 38,
   "metadata": {},
   "outputs": [
    {
     "name": "stdout",
     "output_type": "stream",
     "text": [
      "adasndandnasld\n"
     ]
    }
   ],
   "source": [
    "print(str.rstrip())"
   ]
  },
  {
   "cell_type": "code",
   "execution_count": 40,
   "metadata": {},
   "outputs": [
    {
     "name": "stdout",
     "output_type": "stream",
     "text": [
      "str:  ---geeksforgeeks---\n",
      " String after stripping all '-' is : geeksforgeeks\n",
      " String after stripping all leading '-' is : geeksforgeeks---\n",
      " String after stripping all trailing '-' is : ---geeksforgeeks\n"
     ]
    }
   ],
   "source": [
    "# Python code to demonstrate working of  \n",
    "# strip(), lstrip() and rstrip() \n",
    "str = \"---geeksforgeeks---\"\n",
    "print('str: ',str)\n",
    "  \n",
    "# using strip() to delete all '-' \n",
    "print ( \" String after stripping all '-' is : \", end=\"\") \n",
    "print ( str.strip('-') ) \n",
    "  \n",
    "# using lstrip() to delete all trailing '-' \n",
    "print ( \" String after stripping all leading '-' is : \", end=\"\") \n",
    "print ( str.lstrip('-') ) \n",
    "  \n",
    "# using rstrip() to delete all leading '-' \n",
    "print ( \" String after stripping all trailing '-' is : \", end=\"\") \n",
    "print ( str.rstrip('-') ) "
   ]
  },
  {
   "cell_type": "code",
   "execution_count": 41,
   "metadata": {},
   "outputs": [
    {
     "name": "stdout",
     "output_type": "stream",
     "text": [
      "String ='  abc  '\n",
      "After Removing Leading Whitespaces String ='abc  '\n",
      "After Removing Trailing Whitespaces String ='  abc'\n",
      "After Trimming Whitespaces String ='abc'\n"
     ]
    }
   ],
   "source": [
    "\n",
    "s1 = '  abc  '\n",
    "\n",
    "print(f'String =\\'{s1}\\'')\n",
    "\n",
    "print(f'After Removing Leading Whitespaces String =\\'{s1.lstrip()}\\'')\n",
    "\n",
    "print(f'After Removing Trailing Whitespaces String =\\'{s1.rstrip()}\\'')\n",
    "\n",
    "print(f'After Trimming Whitespaces String =\\'{s1.strip()}\\'')"
   ]
  },
  {
   "cell_type": "code",
   "execution_count": 43,
   "metadata": {},
   "outputs": [
    {
     "data": {
      "text/plain": [
       "'[1, 2, 3, 4, 5]'"
      ]
     },
     "execution_count": 43,
     "metadata": {},
     "output_type": "execute_result"
    }
   ],
   "source": [
    "x = [1,2,3,4,5]\n",
    "f'{x}'"
   ]
  },
  {
   "cell_type": "code",
   "execution_count": 46,
   "metadata": {},
   "outputs": [
    {
     "data": {
      "text/plain": [
       "'Lahari is in grade V'"
      ]
     },
     "execution_count": 46,
     "metadata": {},
     "output_type": "execute_result"
    }
   ],
   "source": [
    "# new type of python formatting from pthon 3.8.1\n",
    "name = 'Lahari'\n",
    "grade = 'V'\n",
    "f'{name} is in grade {grade}'"
   ]
  },
  {
   "cell_type": "code",
   "execution_count": 13,
   "metadata": {},
   "outputs": [
    {
     "name": "stdout",
     "output_type": "stream",
     "text": [
      "LahariLahariLahariLahariLahariLahari Lahari Lahari.\n",
      "1\n"
     ]
    }
   ],
   "source": [
    "name = 'LahariLahariLahariLahariLahariLahari Lahari Lahari.'\n",
    "print(name.lstrip())\n",
    "print(name.find('aha'))"
   ]
  },
  {
   "cell_type": "code",
   "execution_count": 2,
   "metadata": {},
   "outputs": [
    {
     "name": "stdout",
     "output_type": "stream",
     "text": [
      "Ltadari     .\n"
     ]
    }
   ],
   "source": [
    "print(name.replace('ah','tad'))"
   ]
  },
  {
   "cell_type": "code",
   "execution_count": null,
   "metadata": {},
   "outputs": [],
   "source": [
    "print(name.replace('ah','tad'))"
   ]
  },
  {
   "cell_type": "code",
   "execution_count": 14,
   "metadata": {},
   "outputs": [
    {
     "name": "stdout",
     "output_type": "stream",
     "text": [
      "L(xTx)ariL(xTx)ariL(xTx)ariLahariLahariLahari Lahari Lahari.\n"
     ]
    }
   ],
   "source": [
    "print(name.replace('ah','(xTx)',3))"
   ]
  },
  {
   "cell_type": "code",
   "execution_count": 29,
   "metadata": {},
   "outputs": [
    {
     "name": "stdout",
     "output_type": "stream",
     "text": [
      "['', 'ahari', 'ahari', 'ahari', 'ahari', 'ahariLahari Lahari Lahari.']\n"
     ]
    },
    {
     "data": {
      "text/plain": [
       "NoneType"
      ]
     },
     "execution_count": 29,
     "metadata": {},
     "output_type": "execute_result"
    }
   ],
   "source": [
    "list = name.split('L',5)\n",
    "a = print(list)\n",
    "type(a)"
   ]
  },
  {
   "cell_type": "code",
   "execution_count": 25,
   "metadata": {},
   "outputs": [
    {
     "data": {
      "text/plain": [
       "'LahariLahariLahariLahariLahariLahari Lahari Lahari.'"
      ]
     },
     "execution_count": 25,
     "metadata": {},
     "output_type": "execute_result"
    }
   ],
   "source": [
    "\"L\".join(list)"
   ]
  },
  {
   "cell_type": "code",
   "execution_count": 33,
   "metadata": {},
   "outputs": [
    {
     "name": "stdout",
     "output_type": "stream",
     "text": [
      "hello\n",
      "hello\n",
      "ret is:  hello\n",
      "other is:  None\n"
     ]
    }
   ],
   "source": [
    "def printAndReturnNothing():\n",
    "    x = \"hello\"\n",
    "    print(x)\n",
    "\n",
    "def printAndReturn():\n",
    "    x = \"hello\"\n",
    "    print(x)\n",
    "    return x\n",
    "\n",
    "def main():\n",
    "    ret = printAndReturn()\n",
    "    other = printAndReturnNothing()\n",
    "\n",
    "    print(\"ret is: \",ret)\n",
    "    print(\"other is: \",other)\n",
    "\n",
    "main()"
   ]
  },
  {
   "cell_type": "code",
   "execution_count": 34,
   "metadata": {},
   "outputs": [
    {
     "name": "stdout",
     "output_type": "stream",
     "text": [
      "28-03-2021\n"
     ]
    }
   ],
   "source": [
    "date = '28'\n",
    "month = '03'\n",
    "year = '2021'\n",
    "print(\"-\".join([date,month,year]))"
   ]
  },
  {
   "cell_type": "code",
   "execution_count": 53,
   "metadata": {},
   "outputs": [],
   "source": [
    "str = \"your existing Amazon Pay balance will be converted to new lifetime digital account.\""
   ]
  },
  {
   "cell_type": "code",
   "execution_count": 43,
   "metadata": {},
   "outputs": [
    {
     "name": "stdout",
     "output_type": "stream",
     "text": [
      "Your existing amazon pay balance will be converted to new lifetime digital account.\n"
     ]
    }
   ],
   "source": [
    "print(str.capitalize())"
   ]
  },
  {
   "cell_type": "code",
   "execution_count": 47,
   "metadata": {},
   "outputs": [
    {
     "name": "stdout",
     "output_type": "stream",
     "text": [
      "YOUR EXISTING AMAZON PAY BALANCE WILL BE CONVERTED TO NEW LIFETIME DIGITAL ACCOUNT.\n"
     ]
    }
   ],
   "source": [
    "str = str.upper()\n",
    "print(str)"
   ]
  },
  {
   "cell_type": "code",
   "execution_count": 49,
   "metadata": {},
   "outputs": [
    {
     "name": "stdout",
     "output_type": "stream",
     "text": [
      "your existing amazon pay balance will be converted to new lifetime digital account.\n"
     ]
    }
   ],
   "source": [
    "str = str.lower()\n",
    "print(str)"
   ]
  },
  {
   "cell_type": "code",
   "execution_count": 55,
   "metadata": {},
   "outputs": [
    {
     "name": "stdout",
     "output_type": "stream",
     "text": [
      "Your Existing Amazon Pay Balance Will Be Converted To New Lifetime Digital Account.\n"
     ]
    }
   ],
   "source": [
    "str = str.title()\n",
    "print(str)"
   ]
  },
  {
   "cell_type": "code",
   "execution_count": 64,
   "metadata": {},
   "outputs": [
    {
     "name": "stdout",
     "output_type": "stream",
     "text": [
      "                      hello                       \n"
     ]
    }
   ],
   "source": [
    "s = 'hello'\n",
    "print(s.center(50))"
   ]
  },
  {
   "cell_type": "code",
   "execution_count": 58,
   "metadata": {},
   "outputs": [
    {
     "name": "stdout",
     "output_type": "stream",
     "text": [
      "**********************hello***********************\n"
     ]
    }
   ],
   "source": [
    "print(s.center(50,'*'))"
   ]
  },
  {
   "cell_type": "code",
   "execution_count": 60,
   "metadata": {},
   "outputs": [
    {
     "name": "stdout",
     "output_type": "stream",
     "text": [
      "hello%%%%%%%%%%%%%%%\n"
     ]
    }
   ],
   "source": [
    "print(s.ljust(20,'%'))"
   ]
  },
  {
   "cell_type": "code",
   "execution_count": 61,
   "metadata": {},
   "outputs": [
    {
     "name": "stdout",
     "output_type": "stream",
     "text": [
      "%%%%%%%%%%%%%%%hello\n"
     ]
    }
   ],
   "source": [
    "print(s.rjust(20,'%'))"
   ]
  },
  {
   "cell_type": "code",
   "execution_count": 67,
   "metadata": {},
   "outputs": [
    {
     "data": {
      "text/plain": [
       "True"
      ]
     },
     "execution_count": 67,
     "metadata": {},
     "output_type": "execute_result"
    }
   ],
   "source": [
    "str = 'abc'\n",
    "str.isalpha()"
   ]
  },
  {
   "cell_type": "code",
   "execution_count": 69,
   "metadata": {},
   "outputs": [
    {
     "data": {
      "text/plain": [
       "True"
      ]
     },
     "execution_count": 69,
     "metadata": {},
     "output_type": "execute_result"
    }
   ],
   "source": [
    "str = '123131323213'\n",
    "str.isnumeric()"
   ]
  },
  {
   "cell_type": "code",
   "execution_count": 1,
   "metadata": {},
   "outputs": [
    {
     "data": {
      "text/plain": [
       "'First 47, second 11'"
      ]
     },
     "execution_count": 1,
     "metadata": {},
     "output_type": "execute_result"
    }
   ],
   "source": [
    "\"First {0}, second {1}\".format(47,11)"
   ]
  },
  {
   "cell_type": "code",
   "execution_count": 2,
   "metadata": {},
   "outputs": [
    {
     "data": {
      "text/plain": [
       "'First 11, second 11'"
      ]
     },
     "execution_count": 2,
     "metadata": {},
     "output_type": "execute_result"
    }
   ],
   "source": [
    "\"First {1}, second {1}\".format(47,11)"
   ]
  },
  {
   "cell_type": "code",
   "execution_count": 8,
   "metadata": {},
   "outputs": [
    {
     "data": {
      "text/plain": [
       "'First 47, second 11-47'"
      ]
     },
     "execution_count": 8,
     "metadata": {},
     "output_type": "execute_result"
    }
   ],
   "source": [
    "\"First {0}, second {1}-{0}\".format(47,11)"
   ]
  },
  {
   "cell_type": "code",
   "execution_count": 9,
   "metadata": {},
   "outputs": [
    {
     "data": {
      "text/plain": [
       "'First 47, second 12-11'"
      ]
     },
     "execution_count": 9,
     "metadata": {},
     "output_type": "execute_result"
    }
   ],
   "source": [
    "\"First {q}, second {s}-{t}\".format(q=47,t=11,s=12)"
   ]
  },
  {
   "cell_type": "code",
   "execution_count": 10,
   "metadata": {},
   "outputs": [
    {
     "ename": "KeyError",
     "evalue": "'t'",
     "output_type": "error",
     "traceback": [
      "\u001b[1;31m---------------------------------------------------------------------------\u001b[0m",
      "\u001b[1;31mKeyError\u001b[0m                                  Traceback (most recent call last)",
      "\u001b[1;32m<ipython-input-10-c1930fbf42d3>\u001b[0m in \u001b[0;36m<module>\u001b[1;34m\u001b[0m\n\u001b[1;32m----> 1\u001b[1;33m \u001b[1;34m\"First {q}, second {s}-{t}\"\u001b[0m\u001b[1;33m.\u001b[0m\u001b[0mformat\u001b[0m\u001b[1;33m(\u001b[0m\u001b[0mq\u001b[0m\u001b[1;33m=\u001b[0m\u001b[1;36m47\u001b[0m\u001b[1;33m,\u001b[0m\u001b[0ms\u001b[0m\u001b[1;33m=\u001b[0m\u001b[1;36m12\u001b[0m\u001b[1;33m)\u001b[0m\u001b[1;33m\u001b[0m\u001b[1;33m\u001b[0m\u001b[0m\n\u001b[0m",
      "\u001b[1;31mKeyError\u001b[0m: 't'"
     ]
    }
   ],
   "source": [
    "\"First {q}, second {s}-{t}\".format(q=47,s=12) #error"
   ]
  },
  {
   "cell_type": "code",
   "execution_count": 18,
   "metadata": {},
   "outputs": [
    {
     "data": {
      "text/plain": [
       "'Value:                               4'"
      ]
     },
     "execution_count": 18,
     "metadata": {},
     "output_type": "execute_result"
    }
   ],
   "source": [
    "#0 to 31 decimals\n",
    "\"Value: {0:31d}\".format(4)"
   ]
  },
  {
   "cell_type": "code",
   "execution_count": 21,
   "metadata": {},
   "outputs": [
    {
     "data": {
      "text/plain": [
       "'Value: 123.46'"
      ]
     },
     "execution_count": 21,
     "metadata": {},
     "output_type": "execute_result"
    }
   ],
   "source": [
    "\"Value: {0:6.2f}\".format(123.4566)"
   ]
  },
  {
   "cell_type": "code",
   "execution_count": 23,
   "metadata": {},
   "outputs": [
    {
     "name": "stdin",
     "output_type": "stream",
     "text": [
      "Enter a number: we\n"
     ]
    },
    {
     "name": "stdout",
     "output_type": "stream",
     "text": [
      "In pass\n"
     ]
    },
    {
     "name": "stdin",
     "output_type": "stream",
     "text": [
      "Enter a number: asas\n"
     ]
    },
    {
     "name": "stdout",
     "output_type": "stream",
     "text": [
      "In pass\n"
     ]
    },
    {
     "name": "stdin",
     "output_type": "stream",
     "text": [
      "Enter a number: 23\n"
     ]
    },
    {
     "name": "stdout",
     "output_type": "stream",
     "text": [
      "In else\n"
     ]
    }
   ],
   "source": [
    "while(True):\n",
    "    try:\n",
    "        userdata = input(\"Enter a number:\")\n",
    "        usernum = int(userdata)\n",
    "    except ValueError:\n",
    "        print('In pass')\n",
    "        pass\n",
    "    else:\n",
    "        print('In else')\n",
    "        break"
   ]
  },
  {
   "cell_type": "code",
   "execution_count": 24,
   "metadata": {},
   "outputs": [],
   "source": [
    "list = [*range(10)]"
   ]
  },
  {
   "cell_type": "code",
   "execution_count": 25,
   "metadata": {},
   "outputs": [
    {
     "data": {
      "text/plain": [
       "[0, 1, 2, 3, 4, 5, 6, 7, 8, 9]"
      ]
     },
     "execution_count": 25,
     "metadata": {},
     "output_type": "execute_result"
    }
   ],
   "source": [
    "list"
   ]
  },
  {
   "cell_type": "code",
   "execution_count": 26,
   "metadata": {},
   "outputs": [
    {
     "data": {
      "text/plain": [
       "[0, 1, 2, 4, 5, 6, 7, 8, 9]"
      ]
     },
     "execution_count": 26,
     "metadata": {},
     "output_type": "execute_result"
    }
   ],
   "source": [
    "del(list[3])\n",
    "list"
   ]
  },
  {
   "cell_type": "code",
   "execution_count": 27,
   "metadata": {},
   "outputs": [
    {
     "ename": "NameError",
     "evalue": "name 'x' is not defined",
     "output_type": "error",
     "traceback": [
      "\u001b[1;31m---------------------------------------------------------------------------\u001b[0m",
      "\u001b[1;31mNameError\u001b[0m                                 Traceback (most recent call last)",
      "\u001b[1;32m<ipython-input-27-27ddebfe1267>\u001b[0m in \u001b[0;36m<module>\u001b[1;34m\u001b[0m\n\u001b[0;32m      1\u001b[0m \u001b[0mx\u001b[0m \u001b[1;33m=\u001b[0m \u001b[1;36m3\u001b[0m\u001b[1;33m\u001b[0m\u001b[1;33m\u001b[0m\u001b[0m\n\u001b[0;32m      2\u001b[0m \u001b[1;32mdel\u001b[0m\u001b[1;33m(\u001b[0m\u001b[0mx\u001b[0m\u001b[1;33m)\u001b[0m\u001b[1;33m\u001b[0m\u001b[1;33m\u001b[0m\u001b[0m\n\u001b[1;32m----> 3\u001b[1;33m \u001b[0my\u001b[0m \u001b[1;33m=\u001b[0m \u001b[0mx\u001b[0m\u001b[1;33m+\u001b[0m\u001b[1;36m2\u001b[0m\u001b[1;33m\u001b[0m\u001b[1;33m\u001b[0m\u001b[0m\n\u001b[0m",
      "\u001b[1;31mNameError\u001b[0m: name 'x' is not defined"
     ]
    }
   ],
   "source": [
    "x = 3\n",
    "del(x)\n",
    "y = x+2"
   ]
  },
  {
   "cell_type": "code",
   "execution_count": 30,
   "metadata": {},
   "outputs": [
    {
     "data": {
      "text/plain": [
       "8"
      ]
     },
     "execution_count": 30,
     "metadata": {},
     "output_type": "execute_result"
    }
   ],
   "source": [
    "try:\n",
    "    x = 3\n",
    "except NameError:\n",
    "    x = 5 #if x is not defined\n",
    "y = x+5\n",
    "y"
   ]
  },
  {
   "cell_type": "code",
   "execution_count": 33,
   "metadata": {},
   "outputs": [
    {
     "data": {
      "text/plain": [
       "10"
      ]
     },
     "execution_count": 33,
     "metadata": {},
     "output_type": "execute_result"
    }
   ],
   "source": [
    "del(x)\n",
    "try:\n",
    "    x\n",
    "except NameError:\n",
    "    x = 5 #if x is not defined\n",
    "y = x+5\n",
    "y"
   ]
  },
  {
   "cell_type": "code",
   "execution_count": 37,
   "metadata": {},
   "outputs": [
    {
     "name": "stdout",
     "output_type": "stream",
     "text": [
      "None\n"
     ]
    }
   ],
   "source": [
    "x = None\n",
    "print(x)"
   ]
  },
  {
   "cell_type": "code",
   "execution_count": 39,
   "metadata": {},
   "outputs": [
    {
     "ename": "NameError",
     "evalue": "name 'X' is not defined",
     "output_type": "error",
     "traceback": [
      "\u001b[1;31m---------------------------------------------------------------------------\u001b[0m",
      "\u001b[1;31mNameError\u001b[0m                                 Traceback (most recent call last)",
      "\u001b[1;32m<ipython-input-39-09250982218f>\u001b[0m in \u001b[0;36m<module>\u001b[1;34m\u001b[0m\n\u001b[0;32m      3\u001b[0m \u001b[1;32mif\u001b[0m \u001b[0mx\u001b[0m \u001b[1;32mis\u001b[0m \u001b[1;32mnot\u001b[0m \u001b[1;32mNone\u001b[0m\u001b[1;33m:\u001b[0m\u001b[1;33m\u001b[0m\u001b[1;33m\u001b[0m\u001b[0m\n\u001b[0;32m      4\u001b[0m     \u001b[0my\u001b[0m \u001b[1;33m=\u001b[0m \u001b[0mx\u001b[0m\u001b[1;33m\u001b[0m\u001b[1;33m\u001b[0m\u001b[0m\n\u001b[1;32m----> 5\u001b[1;33m \u001b[0mprint\u001b[0m\u001b[1;33m(\u001b[0m\u001b[0mX\u001b[0m\u001b[1;33m)\u001b[0m\u001b[1;33m\u001b[0m\u001b[1;33m\u001b[0m\u001b[0m\n\u001b[0m",
      "\u001b[1;31mNameError\u001b[0m: name 'X' is not defined"
     ]
    }
   ],
   "source": [
    "y = 10\n",
    "x = None\n",
    "if x is not None:\n",
    "    y = x\n",
    "print(X)"
   ]
  },
  {
   "cell_type": "code",
   "execution_count": 40,
   "metadata": {},
   "outputs": [
    {
     "data": {
      "text/plain": [
       "True"
      ]
     },
     "execution_count": 40,
     "metadata": {},
     "output_type": "execute_result"
    }
   ],
   "source": [
    "x == None"
   ]
  },
  {
   "cell_type": "code",
   "execution_count": 41,
   "metadata": {},
   "outputs": [
    {
     "data": {
      "text/plain": [
       "True"
      ]
     },
     "execution_count": 41,
     "metadata": {},
     "output_type": "execute_result"
    }
   ],
   "source": [
    "x is None"
   ]
  },
  {
   "cell_type": "code",
   "execution_count": 17,
   "metadata": {},
   "outputs": [
    {
     "name": "stdout",
     "output_type": "stream",
     "text": [
      "How many queens? 4\n",
      "(0, 1)\n",
      "(1, 3)\n",
      "(2, 0)\n",
      "(3, 2)\n"
     ]
    }
   ],
   "source": [
    "#First solution\n",
    "def initialize(n):\n",
    "  for key in ['queen','row','col','nwtose','swtone']:\n",
    "    board[key] = {}\n",
    "  for i in range(n):\n",
    "    board['queen'][i] = -1\n",
    "    board['row'][i] = 0\n",
    "    board['col'][i] = 0\n",
    "  for i in range(-(n-1),n):\n",
    "    board['nwtose'][i] = 0\n",
    "  for i in range(2*n-1):\n",
    "    board['swtone'][i] = 0\n",
    "\n",
    "def printboard():\n",
    "  for row in sorted(board['queen'].keys()):\n",
    "    print((row,board['queen'][row]))\n",
    "\n",
    "def free(i,j):\n",
    "  return(board['row'][i] == 0 and board['col'][j] == 0 and\n",
    "          board['nwtose'][j-i] == 0 and board['swtone'][j+i] == 0)\n",
    "\n",
    "def addqueen(i,j):\n",
    "  board['queen'][i] = j\n",
    "  board['row'][i] = 1\n",
    "  board['col'][j] = 1\n",
    "  board['nwtose'][j-i] = 1\n",
    "  board['swtone'][j+i] = 1\n",
    "\n",
    "def undoqueen(i,j):\n",
    "  board['queen'][i] = -1\n",
    "  board['row'][i] = 0\n",
    "  board['col'][j] = 0\n",
    "  board['nwtose'][j-i] = 0\n",
    "  board['swtone'][j+i] = 0\n",
    "\n",
    "def placequeen(i):\n",
    "  n = len(board['queen'].keys())\n",
    "  for j in range(n):\n",
    "    if free(i,j):\n",
    "      addqueen(i,j)\n",
    "      if i == n-1:\n",
    "        return(True)\n",
    "      else:\n",
    "        extendsoln = placequeen(i+1)\n",
    "      if extendsoln:\n",
    "        return(True)\n",
    "      else:\n",
    "        undoqueen(i,j)\n",
    "  else:\n",
    "    return(False)\n",
    "\n",
    "board = {}\n",
    "n = int(input(\"How many queens? \"))\n",
    "initialize(n)\n",
    "if placequeen(0):\n",
    "  printboard()"
   ]
  },
  {
   "cell_type": "code",
   "execution_count": 1,
   "metadata": {},
   "outputs": [
    {
     "name": "stdout",
     "output_type": "stream",
     "text": [
      "How many queens? 10\n",
      "(0, 0) (1, 2) (2, 5) (3, 7) (4, 9) (5, 4) (6, 8) (7, 1) (8, 3) (9, 6) \n",
      "(0, 0) (1, 2) (2, 5) (3, 8) (4, 6) (5, 9) (6, 3) (7, 1) (8, 4) (9, 7) \n",
      "(0, 0) (1, 2) (2, 5) (3, 8) (4, 6) (5, 9) (6, 3) (7, 1) (8, 7) (9, 4) \n",
      "(0, 0) (1, 2) (2, 8) (3, 6) (4, 9) (5, 3) (6, 1) (7, 4) (8, 7) (9, 5) \n",
      "(0, 0) (1, 3) (2, 5) (3, 8) (4, 2) (5, 9) (6, 7) (7, 1) (8, 4) (9, 6) \n",
      "(0, 0) (1, 3) (2, 6) (3, 9) (4, 1) (5, 8) (6, 4) (7, 2) (8, 7) (9, 5) \n",
      "(0, 0) (1, 3) (2, 6) (3, 9) (4, 2) (5, 8) (6, 1) (7, 4) (8, 7) (9, 5) \n",
      "(0, 0) (1, 3) (2, 6) (3, 9) (4, 5) (5, 8) (6, 1) (7, 4) (8, 2) (9, 7) \n",
      "(0, 0) (1, 3) (2, 6) (3, 9) (4, 7) (5, 1) (6, 4) (7, 2) (8, 5) (9, 8) \n",
      "(0, 0) (1, 3) (2, 6) (3, 9) (4, 7) (5, 2) (6, 4) (7, 8) (8, 1) (9, 5) \n",
      "(0, 0) (1, 3) (2, 6) (3, 9) (4, 7) (5, 4) (6, 1) (7, 8) (8, 2) (9, 5) \n",
      "(0, 0) (1, 3) (2, 8) (3, 4) (4, 7) (5, 9) (6, 2) (7, 5) (8, 1) (9, 6) \n",
      "(0, 0) (1, 3) (2, 8) (3, 6) (4, 1) (5, 9) (6, 2) (7, 5) (8, 7) (9, 4) \n",
      "(0, 0) (1, 3) (2, 8) (3, 6) (4, 9) (5, 2) (6, 5) (7, 1) (8, 4) (9, 7) \n",
      "(0, 0) (1, 3) (2, 9) (3, 6) (4, 8) (5, 2) (6, 4) (7, 1) (8, 7) (9, 5) \n",
      "(0, 0) (1, 4) (2, 6) (3, 1) (4, 9) (5, 7) (6, 3) (7, 8) (8, 2) (9, 5) \n",
      "(0, 0) (1, 4) (2, 6) (3, 9) (4, 3) (5, 1) (6, 8) (7, 2) (8, 5) (9, 7) \n",
      "(0, 0) (1, 4) (2, 7) (3, 1) (4, 6) (5, 9) (6, 2) (7, 8) (8, 5) (9, 3) \n",
      "(0, 0) (1, 4) (2, 7) (3, 9) (4, 2) (5, 6) (6, 1) (7, 3) (8, 5) (9, 8) \n",
      "(0, 0) (1, 4) (2, 7) (3, 9) (4, 6) (5, 3) (6, 1) (7, 8) (8, 5) (9, 2) \n",
      "(0, 0) (1, 4) (2, 9) (3, 5) (4, 8) (5, 1) (6, 3) (7, 6) (8, 2) (9, 7) \n",
      "(0, 0) (1, 5) (2, 3) (3, 6) (4, 9) (5, 2) (6, 8) (7, 1) (8, 4) (9, 7) \n",
      "(0, 0) (1, 5) (2, 3) (3, 6) (4, 9) (5, 7) (6, 1) (7, 4) (8, 2) (9, 8) \n",
      "(0, 0) (1, 5) (2, 3) (3, 8) (4, 6) (5, 2) (6, 9) (7, 1) (8, 4) (9, 7) \n",
      "(0, 0) (1, 5) (2, 3) (3, 9) (4, 6) (5, 8) (6, 2) (7, 4) (8, 1) (9, 7) \n",
      "(0, 0) (1, 5) (2, 7) (3, 1) (4, 6) (5, 8) (6, 2) (7, 4) (8, 9) (9, 3) \n",
      "(0, 0) (1, 5) (2, 7) (3, 2) (4, 6) (5, 8) (6, 1) (7, 4) (8, 9) (9, 3) \n",
      "(0, 0) (1, 5) (2, 7) (3, 4) (4, 1) (5, 8) (6, 2) (7, 9) (8, 6) (9, 3) \n",
      "(0, 0) (1, 5) (2, 7) (3, 9) (4, 3) (5, 8) (6, 2) (7, 4) (8, 6) (9, 1) \n",
      "(0, 0) (1, 5) (2, 8) (3, 2) (4, 7) (5, 3) (6, 1) (7, 9) (8, 4) (9, 6) \n",
      "(0, 0) (1, 5) (2, 8) (3, 2) (4, 9) (5, 6) (6, 3) (7, 1) (8, 4) (9, 7) \n",
      "(0, 0) (1, 5) (2, 8) (3, 4) (4, 9) (5, 7) (6, 3) (7, 1) (8, 6) (9, 2) \n",
      "(0, 0) (1, 5) (2, 8) (3, 6) (4, 1) (5, 3) (6, 7) (7, 9) (8, 4) (9, 2) \n",
      "(0, 0) (1, 5) (2, 9) (3, 2) (4, 6) (5, 8) (6, 3) (7, 1) (8, 4) (9, 7) \n",
      "(0, 0) (1, 6) (2, 1) (3, 5) (4, 7) (5, 9) (6, 3) (7, 8) (8, 2) (9, 4) \n",
      "(0, 0) (1, 6) (2, 3) (3, 5) (4, 8) (5, 1) (6, 9) (7, 4) (8, 2) (9, 7) \n",
      "(0, 0) (1, 6) (2, 3) (3, 9) (4, 7) (5, 1) (6, 4) (7, 2) (8, 5) (9, 8) \n",
      "(0, 0) (1, 6) (2, 4) (3, 1) (4, 7) (5, 9) (6, 2) (7, 8) (8, 5) (9, 3) \n",
      "(0, 0) (1, 6) (2, 4) (3, 7) (4, 1) (5, 8) (6, 5) (7, 2) (8, 9) (9, 3) \n",
      "(0, 0) (1, 6) (2, 8) (3, 1) (4, 5) (5, 9) (6, 2) (7, 4) (8, 7) (9, 3) \n",
      "(0, 0) (1, 6) (2, 8) (3, 1) (4, 7) (5, 4) (6, 2) (7, 9) (8, 5) (9, 3) \n",
      "(0, 0) (1, 6) (2, 8) (3, 2) (4, 7) (5, 1) (6, 3) (7, 5) (8, 9) (9, 4) \n",
      "(0, 0) (1, 6) (2, 8) (3, 5) (4, 2) (5, 9) (6, 7) (7, 4) (8, 1) (9, 3) \n",
      "(0, 0) (1, 6) (2, 9) (3, 5) (4, 1) (5, 8) (6, 4) (7, 2) (8, 7) (9, 3) \n",
      "(0, 0) (1, 7) (2, 1) (3, 6) (4, 8) (5, 2) (6, 4) (7, 9) (8, 3) (9, 5) \n",
      "(0, 0) (1, 7) (2, 1) (3, 6) (4, 9) (5, 2) (6, 4) (7, 8) (8, 3) (9, 5) \n",
      "(0, 0) (1, 7) (2, 1) (3, 8) (4, 5) (5, 2) (6, 9) (7, 3) (8, 6) (9, 4) \n",
      "(0, 0) (1, 7) (2, 3) (3, 6) (4, 8) (5, 1) (6, 4) (7, 9) (8, 5) (9, 2) \n",
      "(0, 0) (1, 7) (2, 3) (3, 6) (4, 8) (5, 1) (6, 5) (7, 9) (8, 2) (9, 4) \n",
      "(0, 0) (1, 7) (2, 3) (3, 8) (4, 6) (5, 2) (6, 9) (7, 5) (8, 1) (9, 4) \n",
      "(0, 0) (1, 7) (2, 4) (3, 1) (4, 8) (5, 2) (6, 9) (7, 6) (8, 3) (9, 5) \n",
      "(0, 0) (1, 7) (2, 5) (3, 1) (4, 6) (5, 9) (6, 3) (7, 8) (8, 4) (9, 2) \n",
      "(0, 0) (1, 7) (2, 5) (3, 1) (4, 8) (5, 6) (6, 3) (7, 9) (8, 2) (9, 4) \n",
      "(0, 0) (1, 7) (2, 5) (3, 2) (4, 8) (5, 1) (6, 3) (7, 9) (8, 6) (9, 4) \n",
      "(0, 0) (1, 7) (2, 5) (3, 2) (4, 8) (5, 1) (6, 4) (7, 9) (8, 3) (9, 6) \n",
      "(0, 0) (1, 7) (2, 5) (3, 8) (4, 2) (5, 9) (6, 3) (7, 6) (8, 4) (9, 1) \n",
      "(0, 0) (1, 7) (2, 9) (3, 6) (4, 3) (5, 1) (6, 8) (7, 5) (8, 2) (9, 4) \n",
      "(0, 0) (1, 8) (2, 4) (3, 9) (4, 7) (5, 3) (6, 1) (7, 6) (8, 2) (9, 5) \n",
      "(0, 0) (1, 8) (2, 5) (3, 1) (4, 6) (5, 9) (6, 2) (7, 4) (8, 7) (9, 3) \n",
      "(0, 0) (1, 8) (2, 5) (3, 2) (4, 9) (5, 7) (6, 4) (7, 1) (8, 3) (9, 6) \n",
      "(0, 0) (1, 8) (2, 6) (3, 1) (4, 3) (5, 7) (6, 9) (7, 4) (8, 2) (9, 5) \n",
      "(0, 0) (1, 8) (2, 6) (3, 2) (4, 7) (5, 1) (6, 4) (7, 9) (8, 5) (9, 3) \n",
      "(0, 0) (1, 9) (2, 4) (3, 6) (4, 8) (5, 2) (6, 7) (7, 1) (8, 3) (9, 5) \n",
      "(0, 0) (1, 9) (2, 6) (3, 4) (4, 7) (5, 1) (6, 8) (7, 2) (8, 5) (9, 3) \n",
      "(0, 1) (1, 3) (2, 5) (3, 7) (4, 9) (5, 0) (6, 2) (7, 4) (8, 6) (9, 8) \n",
      "(0, 1) (1, 3) (2, 7) (3, 2) (4, 8) (5, 5) (6, 9) (7, 0) (8, 6) (9, 4) \n",
      "(0, 1) (1, 3) (2, 7) (3, 9) (4, 4) (5, 8) (6, 5) (7, 0) (8, 2) (9, 6) \n",
      "(0, 1) (1, 3) (2, 8) (3, 6) (4, 4) (5, 9) (6, 0) (7, 5) (8, 7) (9, 2) \n",
      "(0, 1) (1, 3) (2, 9) (3, 6) (4, 8) (5, 5) (6, 2) (7, 0) (8, 7) (9, 4) \n",
      "(0, 1) (1, 4) (2, 6) (3, 0) (4, 9) (5, 5) (6, 8) (7, 2) (8, 7) (9, 3) \n",
      "(0, 1) (1, 4) (2, 6) (3, 3) (4, 9) (5, 2) (6, 8) (7, 5) (8, 7) (9, 0) \n",
      "(0, 1) (1, 4) (2, 6) (3, 8) (4, 3) (5, 7) (6, 0) (7, 2) (8, 5) (9, 9) \n",
      "(0, 1) (1, 4) (2, 7) (3, 0) (4, 6) (5, 9) (6, 2) (7, 5) (8, 3) (9, 8) \n",
      "(0, 1) (1, 4) (2, 7) (3, 3) (4, 6) (5, 9) (6, 2) (7, 0) (8, 5) (9, 8) \n",
      "(0, 1) (1, 4) (2, 7) (3, 5) (4, 2) (5, 9) (6, 6) (7, 0) (8, 3) (9, 8) \n",
      "(0, 1) (1, 4) (2, 7) (3, 5) (4, 8) (5, 2) (6, 0) (7, 3) (8, 6) (9, 9) \n",
      "(0, 1) (1, 4) (2, 7) (3, 5) (4, 8) (5, 2) (6, 0) (7, 6) (8, 3) (9, 9) \n",
      "(0, 1) (1, 4) (2, 7) (3, 9) (4, 2) (5, 5) (6, 8) (7, 0) (8, 3) (9, 6) \n",
      "(0, 1) (1, 4) (2, 8) (3, 0) (4, 9) (5, 3) (6, 6) (7, 2) (8, 7) (9, 5) \n",
      "(0, 1) (1, 4) (2, 8) (3, 3) (4, 9) (5, 7) (6, 5) (7, 2) (8, 0) (9, 6) \n",
      "(0, 1) (1, 4) (2, 9) (3, 7) (4, 0) (5, 3) (6, 6) (7, 2) (8, 5) (9, 8) \n",
      "(0, 1) (1, 5) (2, 2) (3, 6) (4, 9) (5, 0) (6, 8) (7, 4) (8, 7) (9, 3) \n",
      "(0, 1) (1, 5) (2, 2) (3, 6) (4, 9) (5, 7) (6, 4) (7, 0) (8, 3) (9, 8) \n",
      "(0, 1) (1, 5) (2, 2) (3, 9) (4, 7) (5, 4) (6, 8) (7, 3) (8, 0) (9, 6) \n",
      "(0, 1) (1, 5) (2, 7) (3, 2) (4, 0) (5, 8) (6, 4) (7, 9) (8, 3) (9, 6) \n",
      "(0, 1) (1, 5) (2, 7) (3, 2) (4, 6) (5, 3) (6, 9) (7, 0) (8, 8) (9, 4) \n",
      "(0, 1) (1, 5) (2, 8) (3, 0) (4, 7) (5, 4) (6, 2) (7, 9) (8, 6) (9, 3) \n",
      "(0, 1) (1, 5) (2, 8) (3, 6) (4, 9) (5, 0) (6, 2) (7, 4) (8, 7) (9, 3) \n",
      "(0, 1) (1, 5) (2, 9) (3, 2) (4, 6) (5, 8) (6, 3) (7, 0) (8, 4) (9, 7) \n",
      "(0, 1) (1, 6) (2, 4) (3, 2) (4, 8) (5, 3) (6, 9) (7, 7) (8, 5) (9, 0) \n",
      "(0, 1) (1, 6) (2, 4) (3, 7) (4, 0) (5, 3) (6, 9) (7, 2) (8, 5) (9, 8) \n",
      "(0, 1) (1, 6) (2, 8) (3, 2) (4, 7) (5, 9) (6, 3) (7, 5) (8, 0) (9, 4) \n",
      "(0, 1) (1, 6) (2, 9) (3, 3) (4, 0) (5, 7) (6, 4) (7, 2) (8, 5) (9, 8) \n",
      "(0, 1) (1, 6) (2, 9) (3, 5) (4, 0) (5, 8) (6, 4) (7, 2) (8, 7) (9, 3) \n",
      "(0, 1) (1, 6) (2, 9) (3, 5) (4, 2) (5, 0) (6, 3) (7, 7) (8, 4) (9, 8) \n",
      "(0, 1) (1, 7) (2, 2) (3, 8) (4, 6) (5, 4) (6, 9) (7, 0) (8, 5) (9, 3) \n",
      "(0, 1) (1, 7) (2, 4) (3, 8) (4, 0) (5, 5) (6, 9) (7, 2) (8, 6) (9, 3) \n",
      "(0, 1) (1, 7) (2, 5) (3, 8) (4, 2) (5, 0) (6, 3) (7, 6) (8, 4) (9, 9) \n",
      "(0, 1) (1, 7) (2, 9) (3, 2) (4, 8) (5, 5) (6, 3) (7, 0) (8, 6) (9, 4) \n",
      "(0, 1) (1, 7) (2, 9) (3, 3) (4, 0) (5, 4) (6, 8) (7, 5) (8, 2) (9, 6) \n",
      "(0, 1) (1, 8) (2, 0) (3, 7) (4, 4) (5, 2) (6, 9) (7, 6) (8, 3) (9, 5) \n",
      "(0, 1) (1, 8) (2, 2) (3, 7) (4, 9) (5, 3) (6, 5) (7, 0) (8, 4) (9, 6) \n",
      "(0, 1) (1, 8) (2, 2) (3, 9) (4, 6) (5, 3) (6, 0) (7, 4) (8, 7) (9, 5) \n",
      "(0, 1) (1, 8) (2, 4) (3, 9) (4, 0) (5, 3) (6, 5) (7, 7) (8, 2) (9, 6) \n",
      "(0, 1) (1, 8) (2, 5) (3, 0) (4, 2) (5, 9) (6, 6) (7, 3) (8, 7) (9, 4) \n",
      "(0, 1) (1, 8) (2, 5) (3, 2) (4, 9) (5, 3) (6, 0) (7, 7) (8, 4) (9, 6) \n",
      "(0, 1) (1, 8) (2, 5) (3, 7) (4, 9) (5, 0) (6, 2) (7, 4) (8, 6) (9, 3) \n",
      "(0, 1) (1, 8) (2, 6) (3, 2) (4, 9) (5, 7) (6, 4) (7, 0) (8, 3) (9, 5) \n",
      "(0, 1) (1, 8) (2, 6) (3, 9) (4, 3) (5, 0) (6, 4) (7, 7) (8, 5) (9, 2) \n",
      "(0, 1) (1, 9) (2, 2) (3, 6) (4, 8) (5, 3) (6, 0) (7, 4) (8, 7) (9, 5) \n",
      "(0, 1) (1, 9) (2, 6) (3, 3) (4, 0) (5, 2) (6, 8) (7, 5) (8, 7) (9, 4) \n",
      "(0, 1) (1, 9) (2, 7) (3, 2) (4, 4) (5, 8) (6, 0) (7, 5) (8, 3) (9, 6) \n",
      "(0, 2) (1, 0) (2, 5) (3, 8) (4, 4) (5, 9) (6, 7) (7, 3) (8, 1) (9, 6) \n",
      "(0, 2) (1, 4) (2, 1) (3, 7) (4, 9) (5, 6) (6, 3) (7, 0) (8, 8) (9, 5) \n",
      "(0, 2) (1, 4) (2, 1) (3, 8) (4, 5) (5, 9) (6, 6) (7, 3) (8, 0) (9, 7) \n",
      "(0, 2) (1, 4) (2, 6) (3, 9) (4, 3) (5, 5) (6, 0) (7, 8) (8, 1) (9, 7) \n",
      "(0, 2) (1, 4) (2, 7) (3, 0) (4, 8) (5, 3) (6, 1) (7, 6) (8, 9) (9, 5) \n",
      "(0, 2) (1, 4) (2, 7) (3, 1) (4, 8) (5, 6) (6, 0) (7, 3) (8, 5) (9, 9) \n",
      "(0, 2) (1, 4) (2, 8) (3, 0) (4, 5) (5, 9) (6, 6) (7, 1) (8, 3) (9, 7) \n",
      "(0, 2) (1, 4) (2, 8) (3, 1) (4, 9) (5, 6) (6, 3) (7, 0) (8, 7) (9, 5) \n",
      "(0, 2) (1, 4) (2, 8) (3, 3) (4, 0) (5, 9) (6, 7) (7, 5) (8, 1) (9, 6) \n",
      "(0, 2) (1, 4) (2, 8) (3, 3) (4, 5) (5, 9) (6, 1) (7, 6) (8, 0) (9, 7) \n",
      "(0, 2) (1, 4) (2, 8) (3, 3) (4, 9) (5, 6) (6, 1) (7, 5) (8, 7) (9, 0) \n",
      "(0, 2) (1, 4) (2, 9) (3, 7) (4, 3) (5, 1) (6, 6) (7, 8) (8, 5) (9, 0) \n",
      "(0, 2) (1, 5) (2, 1) (3, 9) (4, 0) (5, 8) (6, 4) (7, 7) (8, 3) (9, 6) \n",
      "(0, 2) (1, 5) (2, 3) (3, 9) (4, 0) (5, 8) (6, 4) (7, 7) (8, 1) (9, 6) \n",
      "(0, 2) (1, 5) (2, 7) (3, 0) (4, 3) (5, 6) (6, 9) (7, 1) (8, 8) (9, 4) \n",
      "(0, 2) (1, 5) (2, 7) (3, 4) (4, 0) (5, 3) (6, 9) (7, 6) (8, 8) (9, 1) \n",
      "(0, 2) (1, 5) (2, 7) (3, 9) (4, 0) (5, 8) (6, 4) (7, 1) (8, 3) (9, 6) \n",
      "(0, 2) (1, 5) (2, 7) (3, 9) (4, 3) (5, 0) (6, 4) (7, 1) (8, 8) (9, 6) \n",
      "(0, 2) (1, 5) (2, 8) (3, 0) (4, 3) (5, 6) (6, 9) (7, 1) (8, 4) (9, 7) \n",
      "(0, 2) (1, 5) (2, 8) (3, 0) (4, 3) (5, 6) (6, 9) (7, 7) (8, 1) (9, 4) \n",
      "(0, 2) (1, 5) (2, 8) (3, 0) (4, 7) (5, 3) (6, 1) (7, 6) (8, 4) (9, 9) \n",
      "(0, 2) (1, 5) (2, 8) (3, 0) (4, 9) (5, 4) (6, 6) (7, 1) (8, 3) (9, 7) \n",
      "(0, 2) (1, 5) (2, 8) (3, 1) (4, 3) (5, 6) (6, 9) (7, 7) (8, 0) (9, 4) \n",
      "(0, 2) (1, 5) (2, 8) (3, 1) (4, 3) (5, 6) (6, 9) (7, 7) (8, 4) (9, 0) \n",
      "(0, 2) (1, 5) (2, 8) (3, 1) (4, 7) (5, 0) (6, 3) (7, 6) (8, 4) (9, 9) \n",
      "(0, 2) (1, 5) (2, 8) (3, 4) (4, 7) (5, 0) (6, 3) (7, 1) (8, 6) (9, 9) \n",
      "(0, 2) (1, 5) (2, 8) (3, 6) (4, 0) (5, 3) (6, 1) (7, 4) (8, 7) (9, 9) \n",
      "(0, 2) (1, 5) (2, 8) (3, 6) (4, 1) (5, 3) (6, 7) (7, 0) (8, 4) (9, 9) \n",
      "(0, 2) (1, 5) (2, 8) (3, 6) (4, 3) (5, 0) (6, 7) (7, 1) (8, 4) (9, 9) \n",
      "(0, 2) (1, 5) (2, 9) (3, 4) (4, 1) (5, 8) (6, 6) (7, 3) (8, 0) (9, 7) \n",
      "(0, 2) (1, 5) (2, 9) (3, 4) (4, 1) (5, 8) (6, 6) (7, 3) (8, 7) (9, 0) \n",
      "(0, 2) (1, 5) (2, 9) (3, 6) (4, 1) (5, 3) (6, 7) (7, 0) (8, 4) (9, 8) \n",
      "(0, 2) (1, 6) (2, 1) (3, 3) (4, 7) (5, 9) (6, 4) (7, 8) (8, 5) (9, 0) \n",
      "(0, 2) (1, 6) (2, 1) (3, 7) (4, 5) (5, 0) (6, 9) (7, 4) (8, 8) (9, 3) \n",
      "(0, 2) (1, 6) (2, 1) (3, 9) (4, 7) (5, 5) (6, 3) (7, 8) (8, 0) (9, 4) \n",
      "(0, 2) (1, 6) (2, 8) (3, 3) (4, 0) (5, 4) (6, 9) (7, 1) (8, 5) (9, 7) \n",
      "(0, 2) (1, 6) (2, 8) (3, 3) (4, 5) (5, 0) (6, 9) (7, 1) (8, 4) (9, 7) \n",
      "(0, 2) (1, 6) (2, 9) (3, 3) (4, 8) (5, 0) (6, 4) (7, 1) (8, 7) (9, 5) \n",
      "(0, 2) (1, 7) (2, 1) (3, 6) (4, 0) (5, 9) (6, 4) (7, 8) (8, 5) (9, 3) \n",
      "(0, 2) (1, 7) (2, 3) (3, 6) (4, 8) (5, 1) (6, 4) (7, 0) (8, 5) (9, 9) \n",
      "(0, 2) (1, 7) (2, 5) (3, 0) (4, 8) (5, 1) (6, 4) (7, 6) (8, 3) (9, 9) \n",
      "(0, 2) (1, 7) (2, 5) (3, 0) (4, 9) (5, 4) (6, 6) (7, 8) (8, 3) (9, 1) \n",
      "(0, 2) (1, 7) (2, 5) (3, 1) (4, 8) (5, 4) (6, 0) (7, 3) (8, 9) (9, 6) \n",
      "(0, 2) (1, 7) (2, 5) (3, 1) (4, 9) (5, 4) (6, 0) (7, 3) (8, 8) (9, 6) \n",
      "(0, 2) (1, 7) (2, 5) (3, 8) (4, 0) (5, 9) (6, 4) (7, 6) (8, 1) (9, 3) \n",
      "(0, 2) (1, 7) (2, 5) (3, 8) (4, 1) (5, 4) (6, 0) (7, 3) (8, 6) (9, 9) \n",
      "(0, 2) (1, 7) (2, 9) (3, 0) (4, 5) (5, 1) (6, 4) (7, 6) (8, 8) (9, 3) \n",
      "(0, 2) (1, 7) (2, 9) (3, 3) (4, 8) (5, 0) (6, 4) (7, 6) (8, 1) (9, 5) \n",
      "(0, 2) (1, 8) (2, 1) (3, 7) (4, 4) (5, 6) (6, 9) (7, 0) (8, 5) (9, 3) \n",
      "(0, 2) (1, 8) (2, 1) (3, 9) (4, 4) (5, 6) (6, 0) (7, 3) (8, 5) (9, 7) \n",
      "(0, 2) (1, 8) (2, 5) (3, 7) (4, 1) (5, 3) (6, 0) (7, 6) (8, 4) (9, 9) \n",
      "(0, 2) (1, 8) (2, 5) (3, 9) (4, 1) (5, 6) (6, 0) (7, 3) (8, 7) (9, 4) \n",
      "(0, 2) (1, 9) (2, 1) (3, 8) (4, 5) (5, 3) (6, 0) (7, 7) (8, 4) (9, 6) \n",
      "(0, 2) (1, 9) (2, 3) (3, 6) (4, 8) (5, 1) (6, 5) (7, 7) (8, 0) (9, 4) \n",
      "(0, 2) (1, 9) (2, 3) (3, 8) (4, 0) (5, 4) (6, 6) (7, 1) (8, 5) (9, 7) \n",
      "(0, 2) (1, 9) (2, 5) (3, 1) (4, 8) (5, 4) (6, 0) (7, 7) (8, 3) (9, 6) \n",
      "(0, 2) (1, 9) (2, 5) (3, 1) (4, 8) (5, 6) (6, 3) (7, 7) (8, 0) (9, 4) \n",
      "(0, 2) (1, 9) (2, 6) (3, 1) (4, 3) (5, 0) (6, 7) (7, 4) (8, 8) (9, 5) \n",
      "(0, 2) (1, 9) (2, 6) (3, 3) (4, 0) (5, 4) (6, 1) (7, 8) (8, 5) (9, 7) \n",
      "(0, 2) (1, 9) (2, 6) (3, 3) (4, 1) (5, 8) (6, 5) (7, 0) (8, 4) (9, 7) \n",
      "(0, 2) (1, 9) (2, 6) (3, 4) (4, 0) (5, 8) (6, 5) (7, 7) (8, 1) (9, 3) \n",
      "(0, 2) (1, 9) (2, 6) (3, 8) (4, 0) (5, 4) (6, 1) (7, 7) (8, 5) (9, 3) \n",
      "(0, 2) (1, 9) (2, 7) (3, 0) (4, 4) (5, 1) (6, 5) (7, 8) (8, 6) (9, 3) \n",
      "(0, 2) (1, 9) (2, 7) (3, 1) (4, 3) (5, 8) (6, 6) (7, 4) (8, 0) (9, 5) \n",
      "(0, 2) (1, 9) (2, 7) (3, 4) (4, 1) (5, 3) (6, 0) (7, 6) (8, 8) (9, 5) \n",
      "(0, 3) (1, 0) (2, 4) (3, 7) (4, 9) (5, 2) (6, 6) (7, 8) (8, 1) (9, 5) \n",
      "(0, 3) (1, 0) (2, 6) (3, 8) (4, 1) (5, 7) (6, 4) (7, 2) (8, 9) (9, 5) \n",
      "(0, 3) (1, 0) (2, 6) (3, 9) (4, 5) (5, 1) (6, 8) (7, 4) (8, 2) (9, 7) \n",
      "(0, 3) (1, 0) (2, 7) (3, 5) (4, 1) (5, 9) (6, 6) (7, 8) (8, 2) (9, 4) \n",
      "(0, 3) (1, 0) (2, 7) (3, 9) (4, 1) (5, 5) (6, 2) (7, 8) (8, 6) (9, 4) \n",
      "(0, 3) (1, 1) (2, 4) (3, 7) (4, 9) (5, 2) (6, 5) (7, 8) (8, 6) (9, 0) \n",
      "(0, 3) (1, 1) (2, 4) (3, 8) (4, 0) (5, 9) (6, 7) (7, 5) (8, 2) (9, 6) \n",
      "(0, 3) (1, 1) (2, 6) (3, 4) (4, 9) (5, 0) (6, 8) (7, 5) (8, 7) (9, 2) \n",
      "(0, 3) (1, 1) (2, 6) (3, 8) (4, 5) (5, 2) (6, 0) (7, 9) (8, 7) (9, 4) \n",
      "(0, 3) (1, 1) (2, 6) (3, 9) (4, 5) (5, 0) (6, 8) (7, 4) (8, 2) (9, 7) \n",
      "(0, 3) (1, 1) (2, 7) (3, 2) (4, 8) (5, 6) (6, 4) (7, 9) (8, 0) (9, 5) \n",
      "(0, 3) (1, 1) (2, 7) (3, 4) (4, 8) (5, 0) (6, 5) (7, 9) (8, 2) (9, 6) \n",
      "(0, 3) (1, 1) (2, 7) (3, 5) (4, 8) (5, 0) (6, 4) (7, 6) (8, 9) (9, 2) \n",
      "(0, 3) (1, 1) (2, 7) (3, 9) (4, 0) (5, 2) (6, 5) (7, 8) (8, 6) (9, 4) \n",
      "(0, 3) (1, 1) (2, 7) (3, 9) (4, 6) (5, 2) (6, 5) (7, 8) (8, 0) (9, 4) \n",
      "(0, 3) (1, 1) (2, 8) (3, 4) (4, 9) (5, 7) (6, 5) (7, 2) (8, 0) (9, 6) \n",
      "(0, 3) (1, 1) (2, 8) (3, 5) (4, 2) (5, 9) (6, 7) (7, 0) (8, 4) (9, 6) \n",
      "(0, 3) (1, 1) (2, 8) (3, 5) (4, 9) (5, 6) (6, 0) (7, 2) (8, 4) (9, 7) \n",
      "(0, 3) (1, 1) (2, 9) (3, 5) (4, 8) (5, 4) (6, 7) (7, 0) (8, 2) (9, 6) \n",
      "(0, 3) (1, 5) (2, 0) (3, 8) (4, 6) (5, 2) (6, 7) (7, 1) (8, 4) (9, 9) \n",
      "(0, 3) (1, 5) (2, 0) (3, 9) (4, 4) (5, 6) (6, 8) (7, 2) (8, 7) (9, 1) \n",
      "(0, 3) (1, 5) (2, 0) (3, 9) (4, 6) (5, 4) (6, 7) (7, 1) (8, 8) (9, 2) \n",
      "(0, 3) (1, 5) (2, 2) (3, 8) (4, 1) (5, 7) (6, 4) (7, 6) (8, 9) (9, 0) \n",
      "(0, 3) (1, 5) (2, 2) (3, 9) (4, 1) (5, 6) (6, 8) (7, 0) (8, 7) (9, 4) \n",
      "(0, 3) (1, 5) (2, 2) (3, 9) (4, 6) (5, 0) (6, 7) (7, 4) (8, 1) (9, 8) \n",
      "(0, 3) (1, 5) (2, 2) (3, 9) (4, 6) (5, 4) (6, 1) (7, 8) (8, 0) (9, 7) \n",
      "(0, 3) (1, 5) (2, 7) (3, 1) (4, 4) (5, 0) (6, 8) (7, 6) (8, 9) (9, 2) \n",
      "(0, 3) (1, 5) (2, 7) (3, 9) (4, 1) (5, 6) (6, 2) (7, 0) (8, 8) (9, 4) \n",
      "(0, 3) (1, 5) (2, 7) (3, 9) (4, 1) (5, 6) (6, 8) (7, 0) (8, 2) (9, 4) \n",
      "(0, 3) (1, 5) (2, 8) (3, 2) (4, 0) (5, 7) (6, 1) (7, 4) (8, 6) (9, 9) \n",
      "(0, 3) (1, 5) (2, 8) (3, 2) (4, 9) (5, 6) (6, 1) (7, 7) (8, 4) (9, 0) \n",
      "(0, 3) (1, 5) (2, 8) (3, 2) (4, 9) (5, 7) (6, 1) (7, 4) (8, 6) (9, 0) \n",
      "(0, 3) (1, 5) (2, 8) (3, 4) (4, 9) (5, 0) (6, 2) (7, 7) (8, 1) (9, 6) \n",
      "(0, 3) (1, 5) (2, 8) (3, 4) (4, 9) (5, 0) (6, 6) (7, 1) (8, 7) (9, 2) \n",
      "(0, 3) (1, 5) (2, 9) (3, 2) (4, 0) (5, 7) (6, 4) (7, 1) (8, 8) (9, 6) \n",
      "(0, 3) (1, 5) (2, 9) (3, 2) (4, 4) (5, 7) (6, 1) (7, 8) (8, 6) (9, 0) \n",
      "(0, 3) (1, 5) (2, 9) (3, 4) (4, 1) (5, 7) (6, 2) (7, 6) (8, 8) (9, 0) \n",
      "(0, 3) (1, 5) (2, 9) (3, 4) (4, 6) (5, 0) (6, 2) (7, 7) (8, 1) (9, 8) \n",
      "(0, 3) (1, 6) (2, 0) (3, 5) (4, 1) (5, 9) (6, 7) (7, 2) (8, 4) (9, 8) \n",
      "(0, 3) (1, 6) (2, 0) (3, 5) (4, 8) (5, 1) (6, 7) (7, 4) (8, 2) (9, 9) \n",
      "(0, 3) (1, 6) (2, 2) (3, 5) (4, 1) (5, 9) (6, 0) (7, 8) (8, 4) (9, 7) \n",
      "(0, 3) (1, 6) (2, 2) (3, 9) (4, 5) (5, 0) (6, 8) (7, 4) (8, 7) (9, 1) \n",
      "(0, 3) (1, 6) (2, 2) (3, 9) (4, 5) (5, 1) (6, 8) (7, 4) (8, 0) (9, 7) \n",
      "(0, 3) (1, 6) (2, 4) (3, 2) (4, 0) (5, 9) (6, 7) (7, 5) (8, 8) (9, 1) \n",
      "(0, 3) (1, 6) (2, 4) (3, 9) (4, 1) (5, 5) (6, 7) (7, 2) (8, 0) (9, 8) \n",
      "(0, 3) (1, 6) (2, 8) (3, 1) (4, 4) (5, 7) (6, 0) (7, 2) (8, 9) (9, 5) \n",
      "(0, 3) (1, 6) (2, 8) (3, 1) (4, 5) (5, 0) (6, 2) (7, 4) (8, 7) (9, 9) \n",
      "(0, 3) (1, 6) (2, 8) (3, 5) (4, 1) (5, 4) (6, 0) (7, 7) (8, 9) (9, 2) \n",
      "(0, 3) (1, 6) (2, 8) (3, 5) (4, 1) (5, 9) (6, 0) (7, 2) (8, 4) (9, 7) \n"
     ]
    },
    {
     "name": "stdout",
     "output_type": "stream",
     "text": [
      "(0, 3) (1, 6) (2, 8) (3, 5) (4, 2) (5, 0) (6, 7) (7, 4) (8, 1) (9, 9) \n",
      "(0, 3) (1, 6) (2, 9) (3, 1) (4, 4) (5, 7) (6, 0) (7, 2) (8, 5) (9, 8) \n",
      "(0, 3) (1, 6) (2, 9) (3, 2) (4, 4) (5, 7) (6, 0) (7, 8) (8, 1) (9, 5) \n",
      "(0, 3) (1, 6) (2, 9) (3, 2) (4, 4) (5, 7) (6, 0) (7, 8) (8, 5) (9, 1) \n",
      "(0, 3) (1, 6) (2, 9) (3, 2) (4, 8) (5, 1) (6, 4) (7, 7) (8, 5) (9, 0) \n",
      "(0, 3) (1, 7) (2, 0) (3, 4) (4, 8) (5, 1) (6, 5) (7, 9) (8, 2) (9, 6) \n",
      "(0, 3) (1, 7) (2, 0) (3, 4) (4, 9) (5, 1) (6, 5) (7, 2) (8, 8) (9, 6) \n",
      "(0, 3) (1, 7) (2, 0) (3, 8) (4, 1) (5, 4) (6, 6) (7, 9) (8, 2) (9, 5) \n",
      "(0, 3) (1, 7) (2, 0) (3, 8) (4, 5) (5, 1) (6, 6) (7, 9) (8, 2) (9, 4) \n",
      "(0, 3) (1, 7) (2, 2) (3, 4) (4, 6) (5, 9) (6, 0) (7, 5) (8, 1) (9, 8) \n",
      "(0, 3) (1, 7) (2, 2) (3, 4) (4, 8) (5, 0) (6, 5) (7, 9) (8, 1) (9, 6) \n",
      "(0, 3) (1, 7) (2, 2) (3, 4) (4, 8) (5, 0) (6, 5) (7, 9) (8, 6) (9, 1) \n",
      "(0, 3) (1, 7) (2, 2) (3, 4) (4, 8) (5, 1) (6, 5) (7, 9) (8, 6) (9, 0) \n",
      "(0, 3) (1, 7) (2, 2) (3, 4) (4, 9) (5, 0) (6, 8) (7, 5) (8, 1) (9, 6) \n",
      "(0, 3) (1, 7) (2, 2) (3, 8) (4, 5) (5, 9) (6, 0) (7, 6) (8, 4) (9, 1) \n",
      "(0, 3) (1, 7) (2, 2) (3, 8) (4, 6) (5, 9) (6, 0) (7, 5) (8, 1) (9, 4) \n",
      "(0, 3) (1, 7) (2, 4) (3, 1) (4, 5) (5, 9) (6, 6) (7, 0) (8, 2) (9, 8) \n",
      "(0, 3) (1, 7) (2, 4) (3, 1) (4, 9) (5, 0) (6, 6) (7, 8) (8, 2) (9, 5) \n",
      "(0, 3) (1, 7) (2, 4) (3, 2) (4, 0) (5, 9) (6, 1) (7, 5) (8, 8) (9, 6) \n",
      "(0, 3) (1, 7) (2, 4) (3, 2) (4, 0) (5, 9) (6, 6) (7, 8) (8, 5) (9, 1) \n",
      "(0, 3) (1, 7) (2, 4) (3, 2) (4, 9) (5, 5) (6, 1) (7, 8) (8, 6) (9, 0) \n",
      "(0, 3) (1, 7) (2, 4) (3, 2) (4, 9) (5, 6) (6, 1) (7, 5) (8, 8) (9, 0) \n",
      "(0, 3) (1, 7) (2, 4) (3, 8) (4, 0) (5, 9) (6, 1) (7, 5) (8, 2) (9, 6) \n",
      "(0, 3) (1, 7) (2, 4) (3, 8) (4, 0) (5, 9) (6, 6) (7, 2) (8, 5) (9, 1) \n",
      "(0, 3) (1, 7) (2, 9) (3, 2) (4, 5) (5, 1) (6, 4) (7, 0) (8, 8) (9, 6) \n",
      "(0, 3) (1, 7) (2, 9) (3, 4) (4, 1) (5, 5) (6, 0) (7, 2) (8, 6) (9, 8) \n",
      "(0, 3) (1, 8) (2, 0) (3, 4) (4, 9) (5, 1) (6, 5) (7, 7) (8, 2) (9, 6) \n",
      "(0, 3) (1, 8) (2, 2) (3, 5) (4, 1) (5, 9) (6, 0) (7, 6) (8, 4) (9, 7) \n",
      "(0, 3) (1, 8) (2, 2) (3, 7) (4, 9) (5, 0) (6, 5) (7, 1) (8, 4) (9, 6) \n",
      "(0, 3) (1, 8) (2, 2) (3, 9) (4, 1) (5, 6) (6, 4) (7, 0) (8, 7) (9, 5) \n",
      "(0, 3) (1, 8) (2, 4) (3, 1) (4, 9) (5, 0) (6, 5) (7, 7) (8, 2) (9, 6) \n",
      "(0, 3) (1, 8) (2, 4) (3, 2) (4, 0) (5, 9) (6, 6) (7, 1) (8, 5) (9, 7) \n",
      "(0, 3) (1, 8) (2, 4) (3, 7) (4, 0) (5, 2) (6, 5) (7, 1) (8, 6) (9, 9) \n",
      "(0, 3) (1, 8) (2, 4) (3, 9) (4, 0) (5, 5) (6, 7) (7, 1) (8, 6) (9, 2) \n",
      "(0, 3) (1, 8) (2, 6) (3, 2) (4, 0) (5, 5) (6, 1) (7, 4) (8, 9) (9, 7) \n",
      "(0, 3) (1, 8) (2, 6) (3, 4) (4, 1) (5, 5) (6, 0) (7, 9) (8, 7) (9, 2) \n",
      "(0, 3) (1, 9) (2, 0) (3, 8) (4, 5) (5, 2) (6, 6) (7, 1) (8, 7) (9, 4) \n",
      "(0, 3) (1, 9) (2, 2) (3, 5) (4, 8) (5, 1) (6, 7) (7, 4) (8, 6) (9, 0) \n",
      "(0, 3) (1, 9) (2, 4) (3, 1) (4, 8) (5, 6) (6, 2) (7, 7) (8, 5) (9, 0) \n",
      "(0, 3) (1, 9) (2, 4) (3, 2) (4, 8) (5, 6) (6, 1) (7, 7) (8, 5) (9, 0) \n",
      "(0, 3) (1, 9) (2, 6) (3, 1) (4, 5) (5, 2) (6, 0) (7, 7) (8, 4) (9, 8) \n",
      "(0, 3) (1, 9) (2, 6) (3, 4) (4, 1) (5, 7) (6, 0) (7, 2) (8, 8) (9, 5) \n",
      "(0, 3) (1, 9) (2, 7) (3, 4) (4, 2) (5, 0) (6, 5) (7, 1) (8, 8) (9, 6) \n",
      "(0, 3) (1, 9) (2, 7) (3, 4) (4, 2) (5, 0) (6, 6) (7, 1) (8, 5) (9, 8) \n",
      "(0, 4) (1, 0) (2, 3) (3, 8) (4, 6) (5, 1) (6, 9) (7, 2) (8, 5) (9, 7) \n",
      "(0, 4) (1, 0) (2, 5) (3, 3) (4, 9) (5, 7) (6, 2) (7, 8) (8, 6) (9, 1) \n",
      "(0, 4) (1, 0) (2, 7) (3, 3) (4, 6) (5, 8) (6, 1) (7, 5) (8, 9) (9, 2) \n",
      "(0, 4) (1, 0) (2, 7) (3, 5) (4, 1) (5, 8) (6, 6) (7, 3) (8, 9) (9, 2) \n",
      "(0, 4) (1, 0) (2, 7) (3, 5) (4, 2) (5, 8) (6, 1) (7, 3) (8, 9) (9, 6) \n",
      "(0, 4) (1, 0) (2, 7) (3, 9) (4, 2) (5, 5) (6, 8) (7, 1) (8, 3) (9, 6) \n",
      "(0, 4) (1, 0) (2, 7) (3, 9) (4, 6) (5, 3) (6, 1) (7, 8) (8, 5) (9, 2) \n",
      "(0, 4) (1, 0) (2, 8) (3, 3) (4, 5) (5, 7) (6, 9) (7, 1) (8, 6) (9, 2) \n",
      "(0, 4) (1, 0) (2, 8) (3, 5) (4, 2) (5, 6) (6, 9) (7, 7) (8, 1) (9, 3) \n",
      "(0, 4) (1, 1) (2, 3) (3, 8) (4, 2) (5, 7) (6, 9) (7, 6) (8, 0) (9, 5) \n",
      "(0, 4) (1, 1) (2, 3) (3, 9) (4, 6) (5, 8) (6, 0) (7, 2) (8, 7) (9, 5) \n",
      "(0, 4) (1, 1) (2, 3) (3, 9) (4, 6) (5, 8) (6, 5) (7, 2) (8, 0) (9, 7) \n",
      "(0, 4) (1, 1) (2, 5) (3, 0) (4, 9) (5, 6) (6, 8) (7, 2) (8, 7) (9, 3) \n",
      "(0, 4) (1, 1) (2, 5) (3, 2) (4, 9) (5, 6) (6, 8) (7, 3) (8, 0) (9, 7) \n",
      "(0, 4) (1, 1) (2, 5) (3, 9) (4, 2) (5, 6) (6, 8) (7, 3) (8, 7) (9, 0) \n",
      "(0, 4) (1, 1) (2, 7) (3, 9) (4, 2) (5, 8) (6, 5) (7, 3) (8, 0) (9, 6) \n",
      "(0, 4) (1, 1) (2, 7) (3, 9) (4, 6) (5, 2) (6, 0) (7, 8) (8, 3) (9, 5) \n",
      "(0, 4) (1, 1) (2, 7) (3, 9) (4, 6) (5, 3) (6, 0) (7, 8) (8, 5) (9, 2) \n",
      "(0, 4) (1, 1) (2, 8) (3, 0) (4, 2) (5, 7) (6, 9) (7, 6) (8, 3) (9, 5) \n",
      "(0, 4) (1, 1) (2, 9) (3, 6) (4, 3) (5, 0) (6, 2) (7, 8) (8, 5) (9, 7) \n",
      "(0, 4) (1, 2) (2, 0) (3, 8) (4, 6) (5, 1) (6, 9) (7, 7) (8, 5) (9, 3) \n",
      "(0, 4) (1, 2) (2, 0) (3, 9) (4, 6) (5, 8) (6, 3) (7, 1) (8, 7) (9, 5) \n",
      "(0, 4) (1, 2) (2, 5) (3, 8) (4, 1) (5, 3) (6, 6) (7, 9) (8, 7) (9, 0) \n",
      "(0, 4) (1, 2) (2, 5) (3, 8) (4, 1) (5, 7) (6, 0) (7, 3) (8, 6) (9, 9) \n",
      "(0, 4) (1, 2) (2, 5) (3, 8) (4, 6) (5, 0) (6, 3) (7, 1) (8, 7) (9, 9) \n",
      "(0, 4) (1, 2) (2, 5) (3, 9) (4, 6) (5, 1) (6, 3) (7, 7) (8, 0) (9, 8) \n",
      "(0, 4) (1, 2) (2, 5) (3, 9) (4, 6) (5, 3) (6, 0) (7, 7) (8, 1) (9, 8) \n",
      "(0, 4) (1, 2) (2, 7) (3, 3) (4, 6) (5, 0) (6, 9) (7, 1) (8, 5) (9, 8) \n",
      "(0, 4) (1, 2) (2, 7) (3, 5) (4, 1) (5, 8) (6, 0) (7, 3) (8, 6) (9, 9) \n",
      "(0, 4) (1, 2) (2, 7) (3, 9) (4, 1) (5, 3) (6, 0) (7, 6) (8, 8) (9, 5) \n",
      "(0, 4) (1, 2) (2, 8) (3, 3) (4, 1) (5, 7) (6, 9) (7, 6) (8, 0) (9, 5) \n",
      "(0, 4) (1, 2) (2, 8) (3, 3) (4, 9) (5, 7) (6, 5) (7, 1) (8, 6) (9, 0) \n",
      "(0, 4) (1, 2) (2, 8) (3, 5) (4, 7) (5, 1) (6, 3) (7, 0) (8, 6) (9, 9) \n",
      "(0, 4) (1, 2) (2, 8) (3, 5) (4, 9) (5, 1) (6, 6) (7, 0) (8, 3) (9, 7) \n",
      "(0, 4) (1, 2) (2, 8) (3, 6) (4, 1) (5, 3) (6, 0) (7, 9) (8, 7) (9, 5) \n",
      "(0, 4) (1, 2) (2, 8) (3, 6) (4, 9) (5, 1) (6, 5) (7, 7) (8, 0) (9, 3) \n",
      "(0, 4) (1, 2) (2, 9) (3, 3) (4, 6) (5, 8) (6, 1) (7, 5) (8, 7) (9, 0) \n",
      "(0, 4) (1, 2) (2, 9) (3, 5) (4, 1) (5, 8) (6, 6) (7, 3) (8, 7) (9, 0) \n",
      "(0, 4) (1, 2) (2, 9) (3, 5) (4, 3) (5, 8) (6, 0) (7, 7) (8, 1) (9, 6) \n",
      "(0, 4) (1, 2) (2, 9) (3, 6) (4, 1) (5, 5) (6, 8) (7, 0) (8, 7) (9, 3) \n",
      "(0, 4) (1, 2) (2, 9) (3, 6) (4, 3) (5, 0) (6, 8) (7, 1) (8, 5) (9, 7) \n",
      "(0, 4) (1, 6) (2, 0) (3, 3) (4, 5) (5, 8) (6, 2) (7, 9) (8, 7) (9, 1) \n",
      "(0, 4) (1, 6) (2, 0) (3, 5) (4, 7) (5, 1) (6, 3) (7, 8) (8, 2) (9, 9) \n",
      "(0, 4) (1, 6) (2, 0) (3, 9) (4, 5) (5, 8) (6, 2) (7, 7) (8, 3) (9, 1) \n",
      "(0, 4) (1, 6) (2, 1) (3, 5) (4, 7) (5, 0) (6, 3) (7, 8) (8, 2) (9, 9) \n",
      "(0, 4) (1, 6) (2, 1) (3, 9) (4, 7) (5, 0) (6, 3) (7, 8) (8, 2) (9, 5) \n",
      "(0, 4) (1, 6) (2, 1) (3, 9) (4, 7) (5, 3) (6, 0) (7, 2) (8, 8) (9, 5) \n",
      "(0, 4) (1, 6) (2, 3) (3, 0) (4, 2) (5, 7) (6, 9) (7, 1) (8, 8) (9, 5) \n",
      "(0, 4) (1, 6) (2, 3) (3, 0) (4, 7) (5, 1) (6, 8) (7, 5) (8, 2) (9, 9) \n",
      "(0, 4) (1, 6) (2, 3) (3, 0) (4, 7) (5, 5) (6, 2) (7, 9) (8, 1) (9, 8) \n",
      "(0, 4) (1, 6) (2, 3) (3, 9) (4, 2) (5, 5) (6, 8) (7, 1) (8, 7) (9, 0) \n",
      "(0, 4) (1, 6) (2, 8) (3, 0) (4, 2) (5, 7) (6, 9) (7, 1) (8, 3) (9, 5) \n",
      "(0, 4) (1, 6) (2, 8) (3, 2) (4, 5) (5, 1) (6, 9) (7, 7) (8, 0) (9, 3) \n",
      "(0, 4) (1, 6) (2, 8) (3, 2) (4, 7) (5, 1) (6, 3) (7, 5) (8, 0) (9, 9) \n",
      "(0, 4) (1, 6) (2, 8) (3, 2) (4, 7) (5, 3) (6, 0) (7, 9) (8, 1) (9, 5) \n",
      "(0, 4) (1, 6) (2, 8) (3, 3) (4, 1) (5, 7) (6, 9) (7, 2) (8, 0) (9, 5) \n",
      "(0, 4) (1, 6) (2, 8) (3, 5) (4, 2) (5, 0) (6, 9) (7, 7) (8, 1) (9, 3) \n",
      "(0, 4) (1, 6) (2, 9) (3, 3) (4, 1) (5, 8) (6, 2) (7, 5) (8, 7) (9, 0) \n",
      "(0, 4) (1, 6) (2, 9) (3, 5) (4, 2) (5, 0) (6, 7) (7, 3) (8, 1) (9, 8) \n",
      "(0, 4) (1, 7) (2, 0) (3, 2) (4, 5) (5, 8) (6, 6) (7, 9) (8, 3) (9, 1) \n",
      "(0, 4) (1, 7) (2, 0) (3, 3) (4, 5) (5, 8) (6, 1) (7, 9) (8, 2) (9, 6) \n",
      "(0, 4) (1, 7) (2, 0) (3, 8) (4, 6) (5, 1) (6, 9) (7, 2) (8, 5) (9, 3) \n",
      "(0, 4) (1, 7) (2, 1) (3, 3) (4, 9) (5, 0) (6, 8) (7, 5) (8, 2) (9, 6) \n",
      "(0, 4) (1, 7) (2, 1) (3, 3) (4, 9) (5, 6) (6, 8) (7, 5) (8, 2) (9, 0) \n",
      "(0, 4) (1, 7) (2, 1) (3, 6) (4, 2) (5, 0) (6, 8) (7, 3) (8, 5) (9, 9) \n",
      "(0, 4) (1, 7) (2, 1) (3, 6) (4, 2) (5, 5) (6, 8) (7, 0) (8, 9) (9, 3) \n",
      "(0, 4) (1, 7) (2, 1) (3, 6) (4, 9) (5, 2) (6, 0) (7, 8) (8, 3) (9, 5) \n",
      "(0, 4) (1, 7) (2, 1) (3, 8) (4, 5) (5, 2) (6, 0) (7, 3) (8, 6) (9, 9) \n",
      "(0, 4) (1, 7) (2, 3) (3, 0) (4, 2) (5, 8) (6, 6) (7, 9) (8, 1) (9, 5) \n",
      "(0, 4) (1, 7) (2, 3) (3, 0) (4, 6) (5, 1) (6, 9) (7, 5) (8, 8) (9, 2) \n",
      "(0, 4) (1, 7) (2, 3) (3, 6) (4, 9) (5, 2) (6, 0) (7, 5) (8, 8) (9, 1) \n",
      "(0, 4) (1, 7) (2, 3) (3, 8) (4, 6) (5, 2) (6, 0) (7, 5) (8, 1) (9, 9) \n",
      "(0, 4) (1, 7) (2, 5) (3, 0) (4, 2) (5, 6) (6, 8) (7, 3) (8, 1) (9, 9) \n",
      "(0, 4) (1, 7) (2, 5) (3, 2) (4, 9) (5, 1) (6, 6) (7, 8) (8, 3) (9, 0) \n",
      "(0, 4) (1, 7) (2, 5) (3, 8) (4, 2) (5, 0) (6, 3) (7, 6) (8, 9) (9, 1) \n",
      "(0, 4) (1, 7) (2, 9) (3, 0) (4, 2) (5, 5) (6, 8) (7, 6) (8, 1) (9, 3) \n",
      "(0, 4) (1, 8) (2, 0) (3, 2) (4, 6) (5, 1) (6, 9) (7, 7) (8, 5) (9, 3) \n",
      "(0, 4) (1, 8) (2, 0) (3, 3) (4, 1) (5, 7) (6, 9) (7, 6) (8, 2) (9, 5) \n",
      "(0, 4) (1, 8) (2, 0) (3, 9) (4, 3) (5, 6) (6, 2) (7, 7) (8, 5) (9, 1) \n",
      "(0, 4) (1, 8) (2, 0) (3, 9) (4, 6) (5, 2) (6, 7) (7, 1) (8, 3) (9, 5) \n",
      "(0, 4) (1, 8) (2, 1) (3, 3) (4, 7) (5, 0) (6, 2) (7, 5) (8, 9) (9, 6) \n",
      "(0, 4) (1, 8) (2, 1) (3, 5) (4, 7) (5, 2) (6, 0) (7, 3) (8, 6) (9, 9) \n",
      "(0, 4) (1, 8) (2, 1) (3, 9) (4, 2) (5, 5) (6, 7) (7, 0) (8, 3) (9, 6) \n",
      "(0, 4) (1, 8) (2, 1) (3, 9) (4, 6) (5, 3) (6, 0) (7, 7) (8, 5) (9, 2) \n",
      "(0, 4) (1, 8) (2, 3) (3, 5) (4, 9) (5, 1) (6, 6) (7, 0) (8, 2) (9, 7) \n",
      "(0, 4) (1, 9) (2, 0) (3, 5) (4, 3) (5, 1) (6, 7) (7, 2) (8, 8) (9, 6) \n",
      "(0, 4) (1, 9) (2, 3) (3, 0) (4, 2) (5, 7) (6, 1) (7, 6) (8, 8) (9, 5) \n",
      "(0, 4) (1, 9) (2, 3) (3, 0) (4, 2) (5, 8) (6, 6) (7, 1) (8, 7) (9, 5) \n",
      "(0, 4) (1, 9) (2, 3) (3, 8) (4, 2) (5, 7) (6, 1) (7, 6) (8, 0) (9, 5) \n",
      "(0, 4) (1, 9) (2, 5) (3, 3) (4, 1) (5, 6) (6, 8) (7, 2) (8, 0) (9, 7) \n",
      "(0, 4) (1, 9) (2, 5) (3, 3) (4, 1) (5, 7) (6, 2) (7, 8) (8, 6) (9, 0) \n",
      "(0, 4) (1, 9) (2, 7) (3, 0) (4, 2) (5, 8) (6, 6) (7, 1) (8, 3) (9, 5) \n",
      "(0, 5) (1, 0) (2, 2) (3, 9) (4, 7) (5, 1) (6, 3) (7, 8) (8, 6) (9, 4) \n",
      "(0, 5) (1, 0) (2, 4) (3, 6) (4, 8) (5, 2) (6, 7) (7, 1) (8, 3) (9, 9) \n",
      "(0, 5) (1, 0) (2, 4) (3, 6) (4, 8) (5, 3) (6, 1) (7, 7) (8, 9) (9, 2) \n",
      "(0, 5) (1, 0) (2, 6) (3, 1) (4, 7) (5, 2) (6, 8) (7, 3) (8, 9) (9, 4) \n",
      "(0, 5) (1, 0) (2, 6) (3, 9) (4, 7) (5, 1) (6, 3) (7, 8) (8, 2) (9, 4) \n",
      "(0, 5) (1, 0) (2, 6) (3, 9) (4, 7) (5, 2) (6, 8) (7, 3) (8, 1) (9, 4) \n",
      "(0, 5) (1, 0) (2, 9) (3, 4) (4, 6) (5, 8) (6, 2) (7, 7) (8, 1) (9, 3) \n",
      "(0, 5) (1, 1) (2, 6) (3, 4) (4, 0) (5, 8) (6, 3) (7, 9) (8, 7) (9, 2) \n",
      "(0, 5) (1, 1) (2, 8) (3, 0) (4, 3) (5, 6) (6, 9) (7, 2) (8, 4) (9, 7) \n",
      "(0, 5) (1, 1) (2, 8) (3, 0) (4, 7) (5, 4) (6, 2) (7, 9) (8, 6) (9, 3) \n",
      "(0, 5) (1, 1) (2, 8) (3, 4) (4, 2) (5, 7) (6, 9) (7, 6) (8, 3) (9, 0) \n",
      "(0, 5) (1, 1) (2, 8) (3, 6) (4, 2) (5, 9) (6, 7) (7, 4) (8, 0) (9, 3) \n",
      "(0, 5) (1, 1) (2, 9) (3, 0) (4, 3) (5, 7) (6, 2) (7, 8) (8, 6) (9, 4) \n",
      "(0, 5) (1, 1) (2, 9) (3, 0) (4, 6) (5, 3) (6, 7) (7, 2) (8, 4) (9, 8) \n",
      "(0, 5) (1, 1) (2, 9) (3, 6) (4, 8) (5, 2) (6, 0) (7, 3) (8, 7) (9, 4) \n",
      "(0, 5) (1, 1) (2, 9) (3, 7) (4, 3) (5, 8) (6, 0) (7, 2) (8, 4) (9, 6) \n",
      "(0, 5) (1, 2) (2, 0) (3, 9) (4, 7) (5, 4) (6, 1) (7, 3) (8, 8) (9, 6) \n",
      "(0, 5) (1, 2) (2, 4) (3, 1) (4, 7) (5, 9) (6, 6) (7, 3) (8, 0) (9, 8) \n",
      "(0, 5) (1, 2) (2, 4) (3, 7) (4, 0) (5, 8) (6, 3) (7, 1) (8, 6) (9, 9) \n",
      "(0, 5) (1, 2) (2, 4) (3, 9) (4, 7) (5, 3) (6, 1) (7, 6) (8, 8) (9, 0) \n",
      "(0, 5) (1, 2) (2, 6) (3, 1) (4, 3) (5, 7) (6, 9) (7, 4) (8, 8) (9, 0) \n",
      "(0, 5) (1, 2) (2, 6) (3, 3) (4, 0) (5, 7) (6, 9) (7, 4) (8, 1) (9, 8) \n",
      "(0, 5) (1, 2) (2, 6) (3, 9) (4, 3) (5, 8) (6, 0) (7, 4) (8, 1) (9, 7) \n",
      "(0, 5) (1, 2) (2, 6) (3, 9) (4, 7) (5, 1) (6, 3) (7, 0) (8, 8) (9, 4) \n",
      "(0, 5) (1, 2) (2, 8) (3, 1) (4, 4) (5, 7) (6, 9) (7, 6) (8, 3) (9, 0) \n",
      "(0, 5) (1, 2) (2, 8) (3, 3) (4, 0) (5, 7) (6, 9) (7, 1) (8, 6) (9, 4) \n",
      "(0, 5) (1, 2) (2, 8) (3, 3) (4, 7) (5, 4) (6, 1) (7, 9) (8, 0) (9, 6) \n",
      "(0, 5) (1, 2) (2, 8) (3, 3) (4, 7) (5, 9) (6, 1) (7, 6) (8, 4) (9, 0) \n",
      "(0, 5) (1, 2) (2, 8) (3, 6) (4, 0) (5, 3) (6, 1) (7, 4) (8, 7) (9, 9) \n",
      "(0, 5) (1, 2) (2, 8) (3, 6) (4, 0) (5, 9) (6, 1) (7, 4) (8, 7) (9, 3) \n",
      "(0, 5) (1, 2) (2, 9) (3, 1) (4, 3) (5, 8) (6, 0) (7, 7) (8, 4) (9, 6) \n",
      "(0, 5) (1, 2) (2, 9) (3, 6) (4, 4) (5, 1) (6, 8) (7, 0) (8, 7) (9, 3) \n",
      "(0, 5) (1, 2) (2, 9) (3, 7) (4, 4) (5, 1) (6, 3) (7, 0) (8, 6) (9, 8) \n",
      "(0, 5) (1, 3) (2, 0) (3, 4) (4, 7) (5, 9) (6, 2) (7, 6) (8, 8) (9, 1) \n",
      "(0, 5) (1, 3) (2, 0) (3, 6) (4, 8) (5, 1) (6, 7) (7, 4) (8, 2) (9, 9) \n",
      "(0, 5) (1, 3) (2, 1) (3, 4) (4, 7) (5, 9) (6, 0) (7, 2) (8, 8) (9, 6) \n",
      "(0, 5) (1, 3) (2, 1) (3, 6) (4, 8) (5, 2) (6, 0) (7, 7) (8, 9) (9, 4) \n",
      "(0, 5) (1, 3) (2, 1) (3, 7) (4, 2) (5, 6) (6, 9) (7, 0) (8, 8) (9, 4) \n",
      "(0, 5) (1, 3) (2, 1) (3, 7) (4, 2) (5, 8) (6, 6) (7, 4) (8, 9) (9, 0) \n",
      "(0, 5) (1, 3) (2, 1) (3, 7) (4, 4) (5, 8) (6, 0) (7, 2) (8, 9) (9, 6) \n",
      "(0, 5) (1, 3) (2, 1) (3, 9) (4, 7) (5, 2) (6, 0) (7, 8) (8, 6) (9, 4) \n",
      "(0, 5) (1, 3) (2, 6) (3, 0) (4, 7) (5, 4) (6, 1) (7, 8) (8, 2) (9, 9) \n",
      "(0, 5) (1, 3) (2, 6) (3, 9) (4, 2) (5, 4) (6, 7) (7, 0) (8, 8) (9, 1) \n",
      "(0, 5) (1, 3) (2, 6) (3, 9) (4, 2) (5, 8) (6, 1) (7, 4) (8, 7) (9, 0) \n",
      "(0, 5) (1, 3) (2, 6) (3, 9) (4, 7) (5, 2) (6, 0) (7, 8) (8, 1) (9, 4) \n",
      "(0, 5) (1, 3) (2, 8) (3, 0) (4, 2) (5, 6) (6, 9) (7, 7) (8, 1) (9, 4) \n",
      "(0, 5) (1, 3) (2, 8) (3, 0) (4, 2) (5, 9) (6, 6) (7, 1) (8, 7) (9, 4) \n",
      "(0, 5) (1, 3) (2, 8) (3, 4) (4, 2) (5, 9) (6, 6) (7, 1) (8, 7) (9, 0) \n",
      "(0, 5) (1, 3) (2, 9) (3, 0) (4, 4) (5, 1) (6, 7) (7, 2) (8, 6) (9, 8) \n",
      "(0, 5) (1, 3) (2, 9) (3, 4) (4, 2) (5, 8) (6, 6) (7, 1) (8, 7) (9, 0) \n",
      "(0, 5) (1, 3) (2, 9) (3, 6) (4, 4) (5, 1) (6, 7) (7, 0) (8, 2) (9, 8) \n",
      "(0, 5) (1, 7) (2, 0) (3, 3) (4, 6) (5, 9) (6, 1) (7, 8) (8, 4) (9, 2) \n",
      "(0, 5) (1, 7) (2, 0) (3, 3) (4, 8) (5, 4) (6, 1) (7, 9) (8, 2) (9, 6) \n",
      "(0, 5) (1, 7) (2, 0) (3, 4) (4, 6) (5, 1) (6, 9) (7, 2) (8, 8) (9, 3) \n",
      "(0, 5) (1, 7) (2, 0) (3, 4) (4, 8) (5, 1) (6, 3) (7, 6) (8, 2) (9, 9) \n",
      "(0, 5) (1, 7) (2, 0) (3, 6) (4, 3) (5, 1) (6, 8) (7, 4) (8, 2) (9, 9) \n",
      "(0, 5) (1, 7) (2, 1) (3, 3) (4, 0) (5, 8) (6, 4) (7, 2) (8, 9) (9, 6) \n",
      "(0, 5) (1, 7) (2, 1) (3, 3) (4, 8) (5, 6) (6, 9) (7, 0) (8, 2) (9, 4) \n",
      "(0, 5) (1, 7) (2, 1) (3, 4) (4, 0) (5, 8) (6, 3) (7, 9) (8, 6) (9, 2) \n",
      "(0, 5) (1, 7) (2, 1) (3, 4) (4, 2) (5, 8) (6, 6) (7, 9) (8, 3) (9, 0) \n",
      "(0, 5) (1, 7) (2, 1) (3, 6) (4, 0) (5, 2) (6, 4) (7, 8) (8, 3) (9, 9) \n",
      "(0, 5) (1, 7) (2, 1) (3, 6) (4, 8) (5, 2) (6, 0) (7, 3) (8, 9) (9, 4) \n",
      "(0, 5) (1, 7) (2, 2) (3, 0) (4, 8) (5, 6) (6, 9) (7, 3) (8, 1) (9, 4) \n",
      "(0, 5) (1, 7) (2, 2) (3, 4) (4, 8) (5, 1) (6, 9) (7, 6) (8, 3) (9, 0) \n",
      "(0, 5) (1, 7) (2, 2) (3, 6) (4, 3) (5, 9) (6, 0) (7, 8) (8, 4) (9, 1) \n",
      "(0, 5) (1, 7) (2, 4) (3, 0) (4, 3) (5, 6) (6, 9) (7, 2) (8, 8) (9, 1) \n",
      "(0, 5) (1, 7) (2, 4) (3, 0) (4, 3) (5, 8) (6, 6) (7, 2) (8, 9) (9, 1) \n",
      "(0, 5) (1, 7) (2, 4) (3, 1) (4, 3) (5, 9) (6, 6) (7, 8) (8, 2) (9, 0) \n",
      "(0, 5) (1, 7) (2, 4) (3, 1) (4, 8) (5, 2) (6, 9) (7, 6) (8, 3) (9, 0) \n",
      "(0, 5) (1, 7) (2, 4) (3, 1) (4, 8) (5, 6) (6, 3) (7, 0) (8, 2) (9, 9) \n",
      "(0, 5) (1, 7) (2, 9) (3, 0) (4, 3) (5, 1) (6, 6) (7, 8) (8, 2) (9, 4) \n",
      "(0, 5) (1, 7) (2, 9) (3, 1) (4, 3) (5, 8) (6, 0) (7, 2) (8, 4) (9, 6) \n",
      "(0, 5) (1, 8) (2, 0) (3, 3) (4, 6) (5, 9) (6, 7) (7, 1) (8, 4) (9, 2) \n",
      "(0, 5) (1, 8) (2, 1) (3, 9) (4, 7) (5, 2) (6, 0) (7, 3) (8, 6) (9, 4) \n",
      "(0, 5) (1, 8) (2, 2) (3, 0) (4, 3) (5, 6) (6, 9) (7, 1) (8, 4) (9, 7) \n",
      "(0, 5) (1, 8) (2, 2) (3, 0) (4, 3) (5, 7) (6, 9) (7, 1) (8, 6) (9, 4) \n",
      "(0, 5) (1, 8) (2, 2) (3, 0) (4, 7) (5, 1) (6, 4) (7, 6) (8, 9) (9, 3) \n",
      "(0, 5) (1, 8) (2, 4) (3, 0) (4, 7) (5, 3) (6, 1) (7, 6) (8, 2) (9, 9) \n",
      "(0, 5) (1, 8) (2, 4) (3, 7) (4, 0) (5, 3) (6, 1) (7, 6) (8, 9) (9, 2) \n",
      "(0, 5) (1, 8) (2, 4) (3, 9) (4, 0) (5, 3) (6, 1) (7, 7) (8, 2) (9, 6) \n",
      "(0, 5) (1, 8) (2, 6) (3, 0) (4, 3) (5, 1) (6, 4) (7, 7) (8, 9) (9, 2) \n",
      "(0, 5) (1, 8) (2, 6) (3, 0) (4, 3) (5, 1) (6, 9) (7, 7) (8, 2) (9, 4) \n",
      "(0, 5) (1, 8) (2, 6) (3, 1) (4, 7) (5, 2) (6, 0) (7, 3) (8, 9) (9, 4) \n",
      "(0, 5) (1, 9) (2, 1) (3, 4) (4, 7) (5, 3) (6, 0) (7, 2) (8, 8) (9, 6) \n",
      "(0, 5) (1, 9) (2, 1) (3, 6) (4, 4) (5, 2) (6, 0) (7, 8) (8, 3) (9, 7) \n",
      "(0, 5) (1, 9) (2, 2) (3, 0) (4, 3) (5, 6) (6, 8) (7, 1) (8, 4) (9, 7) \n",
      "(0, 5) (1, 9) (2, 2) (3, 0) (4, 7) (5, 4) (6, 1) (7, 8) (8, 6) (9, 3) \n",
      "(0, 5) (1, 9) (2, 2) (3, 4) (4, 7) (5, 1) (6, 8) (7, 6) (8, 0) (9, 3) \n",
      "(0, 5) (1, 9) (2, 2) (3, 4) (4, 8) (5, 1) (6, 3) (7, 6) (8, 0) (9, 7) \n",
      "(0, 5) (1, 9) (2, 2) (3, 6) (4, 3) (5, 1) (6, 8) (7, 4) (8, 0) (9, 7) \n",
      "(0, 5) (1, 9) (2, 4) (3, 6) (4, 0) (5, 2) (6, 7) (7, 1) (8, 3) (9, 8) \n",
      "(0, 5) (1, 9) (2, 6) (3, 1) (4, 3) (5, 8) (6, 0) (7, 7) (8, 4) (9, 2) \n",
      "(0, 6) (1, 0) (2, 2) (3, 5) (4, 7) (5, 9) (6, 3) (7, 8) (8, 4) (9, 1) \n",
      "(0, 6) (1, 0) (2, 2) (3, 5) (4, 7) (5, 9) (6, 4) (7, 8) (8, 1) (9, 3) \n",
      "(0, 6) (1, 0) (2, 3) (3, 5) (4, 8) (5, 2) (6, 9) (7, 7) (8, 1) (9, 4) \n",
      "(0, 6) (1, 0) (2, 3) (3, 8) (4, 4) (5, 7) (6, 9) (7, 2) (8, 5) (9, 1) \n",
      "(0, 6) (1, 0) (2, 5) (3, 7) (4, 1) (5, 3) (6, 8) (7, 2) (8, 4) (9, 9) \n",
      "(0, 6) (1, 0) (2, 5) (3, 8) (4, 1) (5, 3) (6, 7) (7, 2) (8, 4) (9, 9) \n",
      "(0, 6) (1, 0) (2, 7) (3, 4) (4, 1) (5, 8) (6, 2) (7, 5) (8, 3) (9, 9) \n",
      "(0, 6) (1, 0) (2, 9) (3, 1) (4, 4) (5, 7) (6, 3) (7, 8) (8, 2) (9, 5) \n",
      "(0, 6) (1, 1) (2, 3) (3, 5) (4, 8) (5, 4) (6, 9) (7, 0) (8, 2) (9, 7) \n",
      "(0, 6) (1, 1) (2, 3) (3, 7) (4, 9) (5, 4) (6, 8) (7, 5) (8, 0) (9, 2) \n",
      "(0, 6) (1, 1) (2, 5) (3, 0) (4, 9) (5, 4) (6, 2) (7, 8) (8, 3) (9, 7) \n",
      "(0, 6) (1, 1) (2, 5) (3, 2) (4, 9) (5, 7) (6, 4) (7, 8) (8, 3) (9, 0) \n",
      "(0, 6) (1, 1) (2, 5) (3, 7) (4, 9) (5, 0) (6, 3) (7, 8) (8, 4) (9, 2) \n",
      "(0, 6) (1, 1) (2, 5) (3, 8) (4, 0) (5, 9) (6, 4) (7, 2) (8, 7) (9, 3) \n",
      "(0, 6) (1, 1) (2, 7) (3, 0) (4, 8) (5, 3) (6, 5) (7, 9) (8, 2) (9, 4) \n",
      "(0, 6) (1, 1) (2, 7) (3, 2) (4, 0) (5, 9) (6, 4) (7, 8) (8, 5) (9, 3) \n",
      "(0, 6) (1, 1) (2, 7) (3, 4) (4, 8) (5, 0) (6, 9) (7, 3) (8, 5) (9, 2) \n",
      "(0, 6) (1, 1) (2, 9) (3, 5) (4, 0) (5, 8) (6, 4) (7, 2) (8, 7) (9, 3) \n",
      "(0, 6) (1, 2) (2, 0) (3, 5) (4, 8) (5, 4) (6, 9) (7, 7) (8, 3) (9, 1) \n",
      "(0, 6) (1, 2) (2, 0) (3, 7) (4, 4) (5, 8) (6, 5) (7, 9) (8, 1) (9, 3) \n",
      "(0, 6) (1, 2) (2, 5) (3, 1) (4, 9) (5, 0) (6, 3) (7, 7) (8, 4) (9, 8) \n",
      "(0, 6) (1, 2) (2, 5) (3, 1) (4, 9) (5, 0) (6, 8) (7, 4) (8, 7) (9, 3) \n",
      "(0, 6) (1, 2) (2, 5) (3, 7) (4, 0) (5, 3) (6, 8) (7, 4) (8, 1) (9, 9) \n",
      "(0, 6) (1, 2) (2, 5) (3, 7) (4, 0) (5, 4) (6, 8) (7, 1) (8, 3) (9, 9) \n",
      "(0, 6) (1, 2) (2, 5) (3, 7) (4, 9) (5, 0) (6, 3) (7, 1) (8, 4) (9, 8) \n",
      "(0, 6) (1, 2) (2, 5) (3, 7) (4, 9) (5, 0) (6, 8) (7, 4) (8, 1) (9, 3) \n",
      "(0, 6) (1, 2) (2, 5) (3, 8) (4, 0) (5, 9) (6, 3) (7, 1) (8, 7) (9, 4) \n"
     ]
    },
    {
     "name": "stdout",
     "output_type": "stream",
     "text": [
      "(0, 6) (1, 2) (2, 5) (3, 8) (4, 4) (5, 0) (6, 3) (7, 9) (8, 7) (9, 1) \n",
      "(0, 6) (1, 2) (2, 7) (3, 1) (4, 3) (5, 0) (6, 9) (7, 4) (8, 8) (9, 5) \n",
      "(0, 6) (1, 2) (2, 7) (3, 1) (4, 4) (5, 0) (6, 9) (7, 3) (8, 5) (9, 8) \n",
      "(0, 6) (1, 2) (2, 7) (3, 5) (4, 0) (5, 9) (6, 1) (7, 4) (8, 8) (9, 3) \n",
      "(0, 6) (1, 2) (2, 7) (3, 5) (4, 1) (5, 8) (6, 4) (7, 0) (8, 3) (9, 9) \n",
      "(0, 6) (1, 2) (2, 7) (3, 5) (4, 1) (5, 9) (6, 4) (7, 0) (8, 3) (9, 8) \n",
      "(0, 6) (1, 2) (2, 7) (3, 5) (4, 1) (5, 9) (6, 4) (7, 0) (8, 8) (9, 3) \n",
      "(0, 6) (1, 2) (2, 7) (3, 5) (4, 3) (5, 0) (6, 9) (7, 4) (8, 8) (9, 1) \n",
      "(0, 6) (1, 2) (2, 9) (3, 1) (4, 4) (5, 8) (6, 3) (7, 0) (8, 7) (9, 5) \n",
      "(0, 6) (1, 2) (2, 9) (3, 1) (4, 8) (5, 5) (6, 3) (7, 0) (8, 7) (9, 4) \n",
      "(0, 6) (1, 2) (2, 9) (3, 5) (4, 0) (5, 8) (6, 4) (7, 7) (8, 1) (9, 3) \n",
      "(0, 6) (1, 2) (2, 9) (3, 5) (4, 1) (5, 8) (6, 4) (7, 0) (8, 7) (9, 3) \n",
      "(0, 6) (1, 3) (2, 0) (3, 7) (4, 1) (5, 8) (6, 5) (7, 2) (8, 4) (9, 9) \n",
      "(0, 6) (1, 3) (2, 0) (3, 7) (4, 5) (5, 2) (6, 9) (7, 1) (8, 4) (9, 8) \n",
      "(0, 6) (1, 3) (2, 0) (3, 7) (4, 5) (5, 2) (6, 9) (7, 1) (8, 8) (9, 4) \n",
      "(0, 6) (1, 3) (2, 0) (3, 8) (4, 5) (5, 2) (6, 9) (7, 7) (8, 4) (9, 1) \n",
      "(0, 6) (1, 3) (2, 1) (3, 4) (4, 7) (5, 9) (6, 2) (7, 5) (8, 8) (9, 0) \n",
      "(0, 6) (1, 3) (2, 1) (3, 4) (4, 8) (5, 0) (6, 9) (7, 7) (8, 5) (9, 2) \n",
      "(0, 6) (1, 3) (2, 1) (3, 4) (4, 8) (5, 5) (6, 9) (7, 2) (8, 0) (9, 7) \n",
      "(0, 6) (1, 3) (2, 1) (3, 8) (4, 4) (5, 9) (6, 7) (7, 5) (8, 2) (9, 0) \n",
      "(0, 6) (1, 3) (2, 1) (3, 8) (4, 5) (5, 2) (6, 9) (7, 7) (8, 0) (9, 4) \n",
      "(0, 6) (1, 3) (2, 5) (3, 0) (4, 8) (5, 4) (6, 2) (7, 7) (8, 9) (9, 1) \n",
      "(0, 6) (1, 3) (2, 5) (3, 7) (4, 9) (5, 0) (6, 2) (7, 4) (8, 1) (9, 8) \n",
      "(0, 6) (1, 3) (2, 7) (3, 0) (4, 4) (5, 8) (6, 1) (7, 5) (8, 9) (9, 2) \n",
      "(0, 6) (1, 3) (2, 7) (3, 0) (4, 4) (5, 9) (6, 1) (7, 5) (8, 2) (9, 8) \n",
      "(0, 6) (1, 3) (2, 7) (3, 4) (4, 8) (5, 0) (6, 9) (7, 1) (8, 5) (9, 2) \n",
      "(0, 6) (1, 3) (2, 9) (3, 4) (4, 1) (5, 8) (6, 2) (7, 5) (8, 7) (9, 0) \n",
      "(0, 6) (1, 3) (2, 9) (3, 4) (4, 8) (5, 0) (6, 2) (7, 7) (8, 5) (9, 1) \n",
      "(0, 6) (1, 4) (2, 0) (3, 5) (4, 3) (5, 9) (6, 7) (7, 2) (8, 8) (9, 1) \n",
      "(0, 6) (1, 4) (2, 0) (3, 5) (4, 8) (5, 2) (6, 7) (7, 3) (8, 1) (9, 9) \n",
      "(0, 6) (1, 4) (2, 0) (3, 7) (4, 5) (5, 2) (6, 8) (7, 1) (8, 3) (9, 9) \n",
      "(0, 6) (1, 4) (2, 0) (3, 7) (4, 9) (5, 2) (6, 5) (7, 8) (8, 1) (9, 3) \n",
      "(0, 6) (1, 4) (2, 1) (3, 5) (4, 0) (5, 9) (6, 3) (7, 8) (8, 2) (9, 7) \n",
      "(0, 6) (1, 4) (2, 1) (3, 5) (4, 0) (5, 9) (6, 7) (7, 2) (8, 8) (9, 3) \n",
      "(0, 6) (1, 4) (2, 1) (3, 7) (4, 0) (5, 2) (6, 8) (7, 5) (8, 3) (9, 9) \n",
      "(0, 6) (1, 4) (2, 1) (3, 7) (4, 0) (5, 3) (6, 8) (7, 2) (8, 5) (9, 9) \n",
      "(0, 6) (1, 4) (2, 1) (3, 7) (4, 9) (5, 2) (6, 8) (7, 5) (8, 3) (9, 0) \n",
      "(0, 6) (1, 4) (2, 2) (3, 0) (4, 8) (5, 3) (6, 1) (7, 9) (8, 7) (9, 5) \n",
      "(0, 6) (1, 4) (2, 2) (3, 0) (4, 8) (5, 3) (6, 7) (7, 9) (8, 1) (9, 5) \n",
      "(0, 6) (1, 4) (2, 2) (3, 8) (4, 5) (5, 9) (6, 1) (7, 3) (8, 0) (9, 7) \n",
      "(0, 6) (1, 4) (2, 7) (3, 0) (4, 3) (5, 5) (6, 8) (7, 1) (8, 9) (9, 2) \n",
      "(0, 6) (1, 4) (2, 7) (3, 0) (4, 3) (5, 9) (6, 2) (7, 5) (8, 8) (9, 1) \n",
      "(0, 6) (1, 4) (2, 7) (3, 0) (4, 8) (5, 3) (6, 1) (7, 9) (8, 2) (9, 5) \n",
      "(0, 6) (1, 4) (2, 7) (3, 1) (4, 8) (5, 2) (6, 5) (7, 3) (8, 0) (9, 9) \n",
      "(0, 6) (1, 4) (2, 9) (3, 0) (4, 3) (5, 5) (6, 2) (7, 8) (8, 1) (9, 7) \n",
      "(0, 6) (1, 4) (2, 9) (3, 0) (4, 5) (5, 3) (6, 1) (7, 7) (8, 2) (9, 8) \n",
      "(0, 6) (1, 4) (2, 9) (3, 1) (4, 3) (5, 7) (6, 2) (7, 8) (8, 5) (9, 0) \n",
      "(0, 6) (1, 8) (2, 0) (3, 4) (4, 1) (5, 5) (6, 2) (7, 9) (8, 7) (9, 3) \n",
      "(0, 6) (1, 8) (2, 1) (3, 4) (4, 0) (5, 3) (6, 9) (7, 7) (8, 5) (9, 2) \n",
      "(0, 6) (1, 8) (2, 1) (3, 4) (4, 7) (5, 0) (6, 2) (7, 9) (8, 5) (9, 3) \n",
      "(0, 6) (1, 8) (2, 1) (3, 5) (4, 0) (5, 2) (6, 4) (7, 7) (8, 9) (9, 3) \n",
      "(0, 6) (1, 8) (2, 2) (3, 0) (4, 3) (5, 7) (6, 4) (7, 1) (8, 9) (9, 5) \n",
      "(0, 6) (1, 8) (2, 2) (3, 0) (4, 9) (5, 7) (6, 4) (7, 1) (8, 3) (9, 5) \n",
      "(0, 6) (1, 8) (2, 2) (3, 4) (4, 1) (5, 9) (6, 5) (7, 3) (8, 0) (9, 7) \n",
      "(0, 6) (1, 8) (2, 2) (3, 5) (4, 1) (5, 9) (6, 4) (7, 0) (8, 7) (9, 3) \n",
      "(0, 6) (1, 8) (2, 2) (3, 7) (4, 1) (5, 3) (6, 5) (7, 0) (8, 9) (9, 4) \n",
      "(0, 6) (1, 8) (2, 3) (3, 0) (4, 4) (5, 9) (6, 1) (7, 5) (8, 7) (9, 2) \n",
      "(0, 6) (1, 8) (2, 3) (3, 1) (4, 4) (5, 7) (6, 9) (7, 0) (8, 2) (9, 5) \n",
      "(0, 6) (1, 8) (2, 3) (3, 5) (4, 0) (5, 9) (6, 1) (7, 4) (8, 2) (9, 7) \n",
      "(0, 6) (1, 8) (2, 5) (3, 1) (4, 9) (5, 0) (6, 2) (7, 4) (8, 7) (9, 3) \n",
      "(0, 6) (1, 8) (2, 5) (3, 2) (4, 0) (5, 7) (6, 4) (7, 1) (8, 3) (9, 9) \n",
      "(0, 6) (1, 9) (2, 2) (3, 0) (4, 8) (5, 4) (6, 7) (7, 1) (8, 3) (9, 5) \n",
      "(0, 6) (1, 9) (2, 2) (3, 4) (4, 8) (5, 0) (6, 3) (7, 1) (8, 7) (9, 5) \n",
      "(0, 6) (1, 9) (2, 3) (3, 0) (4, 4) (5, 8) (6, 1) (7, 5) (8, 7) (9, 2) \n",
      "(0, 6) (1, 9) (2, 3) (3, 1) (4, 8) (5, 2) (6, 5) (7, 7) (8, 0) (9, 4) \n",
      "(0, 6) (1, 9) (2, 5) (3, 2) (4, 0) (5, 7) (6, 3) (7, 1) (8, 8) (9, 4) \n",
      "(0, 7) (1, 0) (2, 2) (3, 5) (4, 8) (5, 6) (6, 9) (7, 3) (8, 1) (9, 4) \n",
      "(0, 7) (1, 0) (2, 2) (3, 8) (4, 6) (5, 1) (6, 3) (7, 5) (8, 9) (9, 4) \n",
      "(0, 7) (1, 0) (2, 2) (3, 9) (4, 5) (5, 8) (6, 4) (7, 1) (8, 3) (9, 6) \n",
      "(0, 7) (1, 0) (2, 3) (3, 1) (4, 9) (5, 5) (6, 8) (7, 2) (8, 4) (9, 6) \n",
      "(0, 7) (1, 0) (2, 3) (3, 5) (4, 9) (5, 1) (6, 4) (7, 2) (8, 8) (9, 6) \n",
      "(0, 7) (1, 0) (2, 3) (3, 6) (4, 8) (5, 1) (6, 4) (7, 9) (8, 5) (9, 2) \n",
      "(0, 7) (1, 0) (2, 3) (3, 6) (4, 9) (5, 5) (6, 8) (7, 1) (8, 4) (9, 2) \n",
      "(0, 7) (1, 0) (2, 3) (3, 8) (4, 6) (5, 9) (6, 2) (7, 5) (8, 1) (9, 4) \n",
      "(0, 7) (1, 0) (2, 4) (3, 8) (4, 1) (5, 3) (6, 6) (7, 2) (8, 9) (9, 5) \n",
      "(0, 7) (1, 0) (2, 4) (3, 8) (4, 1) (5, 5) (6, 9) (7, 2) (8, 6) (9, 3) \n",
      "(0, 7) (1, 0) (2, 6) (3, 1) (4, 9) (5, 5) (6, 3) (7, 8) (8, 4) (9, 2) \n",
      "(0, 7) (1, 0) (2, 6) (3, 3) (4, 1) (5, 8) (6, 4) (7, 2) (8, 9) (9, 5) \n",
      "(0, 7) (1, 0) (2, 8) (3, 1) (4, 4) (5, 6) (6, 9) (7, 2) (8, 5) (9, 3) \n",
      "(0, 7) (1, 1) (2, 4) (3, 0) (4, 8) (5, 3) (6, 9) (7, 6) (8, 2) (9, 5) \n",
      "(0, 7) (1, 1) (2, 4) (3, 2) (4, 8) (5, 6) (6, 9) (7, 3) (8, 5) (9, 0) \n",
      "(0, 7) (1, 1) (2, 8) (3, 0) (4, 5) (5, 3) (6, 9) (7, 6) (8, 4) (9, 2) \n",
      "(0, 7) (1, 1) (2, 8) (3, 2) (4, 5) (5, 3) (6, 0) (7, 9) (8, 4) (9, 6) \n",
      "(0, 7) (1, 2) (2, 0) (3, 6) (4, 1) (5, 9) (6, 5) (7, 3) (8, 8) (9, 4) \n",
      "(0, 7) (1, 2) (2, 0) (3, 9) (4, 4) (5, 8) (6, 5) (7, 3) (8, 1) (9, 6) \n",
      "(0, 7) (1, 2) (2, 4) (3, 1) (4, 8) (5, 5) (6, 9) (7, 6) (8, 3) (9, 0) \n",
      "(0, 7) (1, 2) (2, 4) (3, 1) (4, 9) (5, 0) (6, 5) (7, 3) (8, 8) (9, 6) \n",
      "(0, 7) (1, 2) (2, 4) (3, 8) (4, 0) (5, 5) (6, 9) (7, 6) (8, 1) (9, 3) \n",
      "(0, 7) (1, 2) (2, 4) (3, 8) (4, 1) (5, 5) (6, 9) (7, 6) (8, 0) (9, 3) \n",
      "(0, 7) (1, 2) (2, 4) (3, 9) (4, 0) (5, 5) (6, 3) (7, 1) (8, 6) (9, 8) \n",
      "(0, 7) (1, 2) (2, 4) (3, 9) (4, 1) (5, 8) (6, 5) (7, 3) (8, 6) (9, 0) \n",
      "(0, 7) (1, 2) (2, 6) (3, 3) (4, 1) (5, 8) (6, 5) (7, 9) (8, 4) (9, 0) \n",
      "(0, 7) (1, 2) (2, 8) (3, 3) (4, 9) (5, 0) (6, 5) (7, 1) (8, 4) (9, 6) \n",
      "(0, 7) (1, 3) (2, 0) (3, 6) (4, 1) (5, 9) (6, 5) (7, 8) (8, 2) (9, 4) \n",
      "(0, 7) (1, 3) (2, 1) (3, 6) (4, 4) (5, 9) (6, 0) (7, 8) (8, 5) (9, 2) \n",
      "(0, 7) (1, 3) (2, 1) (3, 6) (4, 9) (5, 5) (6, 0) (7, 8) (8, 4) (9, 2) \n",
      "(0, 7) (1, 3) (2, 8) (3, 0) (4, 2) (5, 4) (6, 6) (7, 1) (8, 9) (9, 5) \n",
      "(0, 7) (1, 3) (2, 8) (3, 2) (4, 4) (5, 9) (6, 0) (7, 5) (8, 1) (9, 6) \n",
      "(0, 7) (1, 3) (2, 8) (3, 6) (4, 2) (5, 0) (6, 5) (7, 1) (8, 4) (9, 9) \n",
      "(0, 7) (1, 4) (2, 0) (3, 3) (4, 8) (5, 6) (6, 2) (7, 9) (8, 5) (9, 1) \n",
      "(0, 7) (1, 4) (2, 0) (3, 5) (4, 8) (5, 1) (6, 3) (7, 6) (8, 2) (9, 9) \n",
      "(0, 7) (1, 4) (2, 0) (3, 5) (4, 8) (5, 1) (6, 3) (7, 6) (8, 9) (9, 2) \n",
      "(0, 7) (1, 4) (2, 1) (3, 3) (4, 6) (5, 9) (6, 2) (7, 8) (8, 5) (9, 0) \n",
      "(0, 7) (1, 4) (2, 1) (3, 3) (4, 8) (5, 6) (6, 2) (7, 9) (8, 5) (9, 0) \n",
      "(0, 7) (1, 4) (2, 1) (3, 3) (4, 9) (5, 6) (6, 8) (7, 5) (8, 2) (9, 0) \n",
      "(0, 7) (1, 4) (2, 1) (3, 5) (4, 2) (5, 9) (6, 6) (7, 8) (8, 3) (9, 0) \n",
      "(0, 7) (1, 4) (2, 1) (3, 8) (4, 2) (5, 9) (6, 6) (7, 3) (8, 5) (9, 0) \n",
      "(0, 7) (1, 4) (2, 1) (3, 8) (4, 6) (5, 3) (6, 0) (7, 2) (8, 5) (9, 9) \n",
      "(0, 7) (1, 4) (2, 1) (3, 8) (4, 6) (5, 3) (6, 0) (7, 2) (8, 9) (9, 5) \n",
      "(0, 7) (1, 4) (2, 1) (3, 9) (4, 0) (5, 5) (6, 3) (7, 8) (8, 6) (9, 2) \n",
      "(0, 7) (1, 4) (2, 1) (3, 9) (4, 2) (5, 6) (6, 8) (7, 3) (8, 5) (9, 0) \n",
      "(0, 7) (1, 4) (2, 1) (3, 9) (4, 6) (5, 3) (6, 0) (7, 2) (8, 8) (9, 5) \n",
      "(0, 7) (1, 4) (2, 1) (3, 9) (4, 6) (5, 3) (6, 0) (7, 8) (8, 5) (9, 2) \n",
      "(0, 7) (1, 4) (2, 2) (3, 0) (4, 6) (5, 9) (6, 5) (7, 8) (8, 1) (9, 3) \n",
      "(0, 7) (1, 4) (2, 2) (3, 0) (4, 9) (5, 1) (6, 5) (7, 8) (8, 6) (9, 3) \n",
      "(0, 7) (1, 4) (2, 2) (3, 5) (4, 9) (5, 6) (6, 0) (7, 3) (8, 1) (9, 8) \n",
      "(0, 7) (1, 4) (2, 2) (3, 9) (4, 6) (5, 3) (6, 0) (7, 8) (8, 1) (9, 5) \n",
      "(0, 7) (1, 4) (2, 6) (3, 0) (4, 9) (5, 1) (6, 5) (7, 2) (8, 8) (9, 3) \n",
      "(0, 7) (1, 4) (2, 8) (3, 0) (4, 9) (5, 1) (6, 5) (7, 2) (8, 6) (9, 3) \n",
      "(0, 7) (1, 5) (2, 0) (3, 2) (4, 6) (5, 8) (6, 3) (7, 1) (8, 4) (9, 9) \n",
      "(0, 7) (1, 5) (2, 1) (3, 6) (4, 0) (5, 3) (6, 8) (7, 4) (8, 2) (9, 9) \n",
      "(0, 7) (1, 5) (2, 1) (3, 6) (4, 4) (5, 0) (6, 8) (7, 3) (8, 9) (9, 2) \n",
      "(0, 7) (1, 5) (2, 1) (3, 6) (4, 9) (5, 0) (6, 2) (7, 4) (8, 8) (9, 3) \n",
      "(0, 7) (1, 5) (2, 1) (3, 8) (4, 0) (5, 3) (6, 6) (7, 9) (8, 2) (9, 4) \n",
      "(0, 7) (1, 5) (2, 1) (3, 9) (4, 4) (5, 0) (6, 3) (7, 8) (8, 6) (9, 2) \n",
      "(0, 7) (1, 5) (2, 2) (3, 8) (4, 1) (5, 3) (6, 9) (7, 6) (8, 4) (9, 0) \n",
      "(0, 7) (1, 5) (2, 2) (3, 9) (4, 1) (5, 6) (6, 8) (7, 3) (8, 0) (9, 4) \n",
      "(0, 7) (1, 5) (2, 3) (3, 0) (4, 6) (5, 4) (6, 9) (7, 1) (8, 8) (9, 2) \n",
      "(0, 7) (1, 5) (2, 8) (3, 1) (4, 4) (5, 0) (6, 3) (7, 6) (8, 9) (9, 2) \n",
      "(0, 7) (1, 5) (2, 8) (3, 2) (4, 0) (5, 3) (6, 6) (7, 9) (8, 1) (9, 4) \n",
      "(0, 7) (1, 9) (2, 4) (3, 1) (4, 5) (5, 0) (6, 2) (7, 6) (8, 8) (9, 3) \n",
      "(0, 8) (1, 0) (2, 2) (3, 7) (4, 5) (5, 1) (6, 9) (7, 4) (8, 6) (9, 3) \n",
      "(0, 8) (1, 0) (2, 3) (3, 6) (4, 9) (5, 7) (6, 1) (7, 4) (8, 2) (9, 5) \n",
      "(0, 8) (1, 0) (2, 7) (3, 3) (4, 1) (5, 6) (6, 9) (7, 5) (8, 2) (9, 4) \n",
      "(0, 8) (1, 1) (2, 3) (3, 0) (4, 6) (5, 9) (6, 5) (7, 2) (8, 4) (9, 7) \n",
      "(0, 8) (1, 1) (2, 3) (3, 7) (4, 0) (5, 2) (6, 5) (7, 9) (8, 6) (9, 4) \n",
      "(0, 8) (1, 1) (2, 4) (3, 2) (4, 0) (5, 9) (6, 7) (7, 5) (8, 3) (9, 6) \n",
      "(0, 8) (1, 1) (2, 4) (3, 7) (4, 0) (5, 6) (6, 9) (7, 2) (8, 5) (9, 3) \n",
      "(0, 8) (1, 1) (2, 4) (3, 9) (4, 7) (5, 0) (6, 3) (7, 6) (8, 2) (9, 5) \n",
      "(0, 8) (1, 1) (2, 5) (3, 0) (4, 9) (5, 6) (6, 4) (7, 2) (8, 7) (9, 3) \n",
      "(0, 8) (1, 1) (2, 7) (3, 0) (4, 3) (5, 6) (6, 9) (7, 5) (8, 2) (9, 4) \n",
      "(0, 8) (1, 1) (2, 7) (3, 2) (4, 0) (5, 6) (6, 4) (7, 9) (8, 5) (9, 3) \n",
      "(0, 8) (1, 1) (2, 9) (3, 2) (4, 5) (5, 7) (6, 0) (7, 3) (8, 6) (9, 4) \n",
      "(0, 8) (1, 2) (2, 0) (3, 6) (4, 9) (5, 5) (6, 1) (7, 4) (8, 7) (9, 3) \n",
      "(0, 8) (1, 2) (2, 0) (3, 7) (4, 1) (5, 4) (6, 6) (7, 9) (8, 3) (9, 5) \n",
      "(0, 8) (1, 2) (2, 4) (3, 1) (4, 7) (5, 9) (6, 6) (7, 3) (8, 5) (9, 0) \n",
      "(0, 8) (1, 2) (2, 5) (3, 1) (4, 9) (5, 4) (6, 0) (7, 7) (8, 3) (9, 6) \n",
      "(0, 8) (1, 2) (2, 7) (3, 1) (4, 3) (5, 5) (6, 0) (7, 9) (8, 4) (9, 6) \n",
      "(0, 8) (1, 3) (2, 0) (3, 4) (4, 7) (5, 9) (6, 6) (7, 2) (8, 5) (9, 1) \n",
      "(0, 8) (1, 3) (2, 0) (3, 4) (4, 9) (5, 1) (6, 5) (7, 7) (8, 2) (9, 6) \n",
      "(0, 8) (1, 3) (2, 0) (3, 6) (4, 9) (5, 2) (6, 5) (7, 7) (8, 4) (9, 1) \n",
      "(0, 8) (1, 3) (2, 1) (3, 7) (4, 2) (5, 0) (6, 6) (7, 4) (8, 9) (9, 5) \n",
      "(0, 8) (1, 3) (2, 5) (3, 2) (4, 9) (5, 6) (6, 0) (7, 7) (8, 4) (9, 1) \n",
      "(0, 8) (1, 3) (2, 5) (3, 7) (4, 1) (5, 6) (6, 0) (7, 2) (8, 4) (9, 9) \n",
      "(0, 8) (1, 4) (2, 0) (3, 7) (4, 3) (5, 1) (6, 6) (7, 9) (8, 5) (9, 2) \n",
      "(0, 8) (1, 4) (2, 1) (3, 3) (4, 0) (5, 9) (6, 7) (7, 5) (8, 2) (9, 6) \n",
      "(0, 8) (1, 4) (2, 1) (3, 9) (4, 2) (5, 5) (6, 7) (7, 0) (8, 3) (9, 6) \n",
      "(0, 8) (1, 4) (2, 2) (3, 7) (4, 3) (5, 6) (6, 0) (7, 9) (8, 1) (9, 5) \n",
      "(0, 8) (1, 4) (2, 2) (3, 7) (4, 9) (5, 1) (6, 5) (7, 0) (8, 6) (9, 3) \n",
      "(0, 8) (1, 4) (2, 7) (3, 0) (4, 2) (5, 5) (6, 1) (7, 6) (8, 9) (9, 3) \n",
      "(0, 8) (1, 4) (2, 7) (3, 3) (4, 0) (5, 2) (6, 5) (7, 9) (8, 6) (9, 1) \n",
      "(0, 8) (1, 4) (2, 7) (3, 3) (4, 0) (5, 9) (6, 1) (7, 5) (8, 2) (9, 6) \n",
      "(0, 8) (1, 5) (2, 0) (3, 2) (4, 9) (5, 6) (6, 3) (7, 7) (8, 4) (9, 1) \n",
      "(0, 8) (1, 5) (2, 1) (3, 6) (4, 0) (5, 2) (6, 4) (7, 7) (8, 9) (9, 3) \n",
      "(0, 8) (1, 5) (2, 1) (3, 9) (4, 0) (5, 6) (6, 3) (7, 7) (8, 2) (9, 4) \n",
      "(0, 8) (1, 5) (2, 2) (3, 0) (4, 7) (5, 4) (6, 1) (7, 9) (8, 6) (9, 3) \n",
      "(0, 8) (1, 5) (2, 2) (3, 4) (4, 1) (5, 7) (6, 9) (7, 3) (8, 6) (9, 0) \n",
      "(0, 8) (1, 5) (2, 2) (3, 4) (4, 1) (5, 7) (6, 9) (7, 6) (8, 3) (9, 0) \n",
      "(0, 8) (1, 5) (2, 2) (3, 4) (4, 7) (5, 0) (6, 3) (7, 9) (8, 6) (9, 1) \n",
      "(0, 8) (1, 5) (2, 2) (3, 6) (4, 3) (5, 0) (6, 7) (7, 9) (8, 4) (9, 1) \n",
      "(0, 8) (1, 5) (2, 2) (3, 9) (4, 3) (5, 0) (6, 7) (7, 4) (8, 6) (9, 1) \n",
      "(0, 8) (1, 5) (2, 3) (3, 1) (4, 6) (5, 2) (6, 9) (7, 7) (8, 4) (9, 0) \n",
      "(0, 8) (1, 5) (2, 3) (3, 6) (4, 0) (5, 7) (6, 1) (7, 4) (8, 2) (9, 9) \n",
      "(0, 8) (1, 5) (2, 3) (3, 9) (4, 0) (5, 4) (6, 1) (7, 7) (8, 2) (9, 6) \n",
      "(0, 8) (1, 6) (2, 0) (3, 3) (4, 1) (5, 4) (6, 7) (7, 9) (8, 2) (9, 5) \n",
      "(0, 8) (1, 6) (2, 1) (3, 3) (4, 5) (5, 0) (6, 9) (7, 4) (8, 2) (9, 7) \n",
      "(0, 8) (1, 6) (2, 2) (3, 0) (4, 5) (5, 1) (6, 4) (7, 9) (8, 7) (9, 3) \n",
      "(0, 8) (1, 6) (2, 2) (3, 7) (4, 1) (5, 4) (6, 0) (7, 9) (8, 3) (9, 5) \n",
      "(0, 8) (1, 6) (2, 4) (3, 2) (4, 0) (5, 9) (6, 7) (7, 5) (8, 3) (9, 1) \n",
      "(0, 9) (1, 0) (2, 3) (3, 5) (4, 2) (5, 8) (6, 1) (7, 7) (8, 4) (9, 6) \n",
      "(0, 9) (1, 0) (2, 5) (3, 3) (4, 1) (5, 7) (6, 2) (7, 8) (8, 6) (9, 4) \n",
      "(0, 9) (1, 1) (2, 3) (3, 7) (4, 2) (5, 8) (6, 5) (7, 0) (8, 4) (9, 6) \n",
      "(0, 9) (1, 1) (2, 3) (3, 8) (4, 6) (5, 2) (6, 0) (7, 5) (8, 7) (9, 4) \n",
      "(0, 9) (1, 1) (2, 4) (3, 7) (4, 0) (5, 2) (6, 5) (7, 8) (8, 6) (9, 3) \n",
      "(0, 9) (1, 1) (2, 4) (3, 8) (4, 3) (5, 0) (6, 7) (7, 5) (8, 2) (9, 6) \n",
      "(0, 9) (1, 1) (2, 5) (3, 0) (4, 2) (5, 6) (6, 8) (7, 3) (8, 7) (9, 4) \n",
      "(0, 9) (1, 2) (2, 0) (3, 3) (4, 6) (5, 8) (6, 1) (7, 4) (8, 7) (9, 5) \n",
      "(0, 9) (1, 2) (2, 4) (3, 1) (4, 7) (5, 0) (6, 6) (7, 3) (8, 5) (9, 8) \n",
      "(0, 9) (1, 2) (2, 4) (3, 7) (4, 1) (5, 8) (6, 5) (7, 0) (8, 6) (9, 3) \n",
      "(0, 9) (1, 2) (2, 4) (3, 7) (4, 1) (5, 8) (6, 6) (7, 0) (8, 3) (9, 5) \n",
      "(0, 9) (1, 2) (2, 4) (3, 8) (4, 1) (5, 3) (6, 6) (7, 0) (8, 7) (9, 5) \n",
      "(0, 9) (1, 2) (2, 4) (3, 8) (4, 3) (5, 0) (6, 6) (7, 1) (8, 5) (9, 7) \n",
      "(0, 9) (1, 2) (2, 5) (3, 8) (4, 1) (5, 7) (6, 0) (7, 3) (8, 6) (9, 4) \n",
      "(0, 9) (1, 2) (2, 6) (3, 1) (4, 3) (5, 7) (6, 0) (7, 4) (8, 8) (9, 5) \n",
      "(0, 9) (1, 2) (2, 6) (3, 3) (4, 1) (5, 8) (6, 4) (7, 0) (8, 7) (9, 5) \n",
      "(0, 9) (1, 2) (2, 6) (3, 3) (4, 1) (5, 8) (6, 5) (7, 0) (8, 4) (9, 7) \n",
      "(0, 9) (1, 2) (2, 8) (3, 1) (4, 4) (5, 7) (6, 0) (7, 6) (8, 3) (9, 5) \n",
      "(0, 9) (1, 2) (2, 8) (3, 3) (4, 0) (5, 7) (6, 5) (7, 1) (8, 6) (9, 4) \n",
      "(0, 9) (1, 2) (2, 8) (3, 3) (4, 1) (5, 7) (6, 5) (7, 0) (8, 6) (9, 4) \n"
     ]
    },
    {
     "name": "stdout",
     "output_type": "stream",
     "text": [
      "(0, 9) (1, 3) (2, 0) (3, 4) (4, 8) (5, 1) (6, 5) (7, 7) (8, 2) (9, 6) \n",
      "(0, 9) (1, 3) (2, 1) (3, 4) (4, 7) (5, 0) (6, 2) (7, 5) (8, 8) (9, 6) \n",
      "(0, 9) (1, 3) (2, 1) (3, 7) (4, 2) (5, 8) (6, 6) (7, 4) (8, 0) (9, 5) \n",
      "(0, 9) (1, 3) (2, 1) (3, 8) (4, 2) (5, 5) (6, 7) (7, 0) (8, 4) (9, 6) \n",
      "(0, 9) (1, 3) (2, 1) (3, 8) (4, 4) (5, 0) (6, 7) (7, 5) (8, 2) (9, 6) \n",
      "(0, 9) (1, 3) (2, 5) (3, 2) (4, 8) (5, 1) (6, 4) (7, 7) (8, 0) (9, 6) \n",
      "(0, 9) (1, 3) (2, 5) (3, 8) (4, 2) (5, 0) (6, 7) (7, 1) (8, 4) (9, 6) \n",
      "(0, 9) (1, 3) (2, 6) (3, 0) (4, 2) (5, 8) (6, 5) (7, 7) (8, 4) (9, 1) \n",
      "(0, 9) (1, 3) (2, 6) (3, 4) (4, 1) (5, 8) (6, 0) (7, 5) (8, 7) (9, 2) \n",
      "(0, 9) (1, 3) (2, 8) (3, 4) (4, 2) (5, 0) (6, 6) (7, 1) (8, 7) (9, 5) \n",
      "(0, 9) (1, 4) (2, 0) (3, 7) (4, 3) (5, 1) (6, 6) (7, 8) (8, 5) (9, 2) \n",
      "(0, 9) (1, 4) (2, 1) (3, 3) (4, 8) (5, 6) (6, 2) (7, 0) (8, 5) (9, 7) \n",
      "(0, 9) (1, 4) (2, 1) (3, 5) (4, 0) (5, 2) (6, 6) (7, 8) (8, 3) (9, 7) \n",
      "(0, 9) (1, 4) (2, 1) (3, 7) (4, 0) (5, 3) (6, 6) (7, 8) (8, 5) (9, 2) \n",
      "(0, 9) (1, 4) (2, 1) (3, 7) (4, 2) (5, 6) (6, 8) (7, 0) (8, 5) (9, 3) \n",
      "(0, 9) (1, 4) (2, 2) (3, 0) (4, 6) (5, 1) (6, 7) (7, 5) (8, 3) (9, 8) \n",
      "(0, 9) (1, 4) (2, 2) (3, 5) (4, 8) (5, 1) (6, 7) (7, 0) (8, 3) (9, 6) \n",
      "(0, 9) (1, 4) (2, 2) (3, 7) (4, 3) (5, 1) (6, 8) (7, 5) (8, 0) (9, 6) \n",
      "(0, 9) (1, 4) (2, 2) (3, 8) (4, 3) (5, 1) (6, 7) (7, 5) (8, 0) (9, 6) \n",
      "(0, 9) (1, 4) (2, 6) (3, 0) (4, 3) (5, 1) (6, 7) (7, 5) (8, 8) (9, 2) \n",
      "(0, 9) (1, 4) (2, 6) (3, 1) (4, 3) (5, 7) (6, 0) (7, 8) (8, 5) (9, 2) \n",
      "(0, 9) (1, 4) (2, 6) (3, 3) (4, 0) (5, 2) (6, 8) (7, 5) (8, 7) (9, 1) \n",
      "(0, 9) (1, 4) (2, 6) (3, 3) (4, 0) (5, 7) (6, 1) (7, 8) (8, 5) (9, 2) \n",
      "(0, 9) (1, 5) (2, 0) (3, 4) (4, 1) (5, 8) (6, 6) (7, 3) (8, 7) (9, 2) \n",
      "(0, 9) (1, 5) (2, 2) (3, 0) (4, 3) (5, 6) (6, 8) (7, 1) (8, 4) (9, 7) \n",
      "(0, 9) (1, 5) (2, 2) (3, 0) (4, 7) (5, 3) (6, 8) (7, 6) (8, 4) (9, 1) \n",
      "(0, 9) (1, 5) (2, 2) (3, 8) (4, 3) (5, 0) (6, 7) (7, 1) (8, 4) (9, 6) \n",
      "(0, 9) (1, 5) (2, 3) (3, 0) (4, 6) (5, 8) (6, 1) (7, 7) (8, 4) (9, 2) \n",
      "(0, 9) (1, 5) (2, 3) (3, 8) (4, 0) (5, 2) (6, 6) (7, 1) (8, 7) (9, 4) \n",
      "(0, 9) (1, 6) (2, 0) (3, 3) (4, 1) (5, 7) (6, 5) (7, 8) (8, 2) (9, 4) \n",
      "(0, 9) (1, 6) (2, 1) (3, 3) (4, 0) (5, 7) (6, 4) (7, 8) (8, 5) (9, 2) \n",
      "(0, 9) (1, 6) (2, 1) (3, 3) (4, 8) (5, 0) (6, 7) (7, 4) (8, 2) (9, 5) \n",
      "(0, 9) (1, 6) (2, 1) (3, 5) (4, 2) (5, 0) (6, 7) (7, 4) (8, 8) (9, 3) \n",
      "(0, 9) (1, 6) (2, 3) (3, 0) (4, 2) (5, 5) (6, 8) (7, 1) (8, 7) (9, 4) \n",
      "(0, 9) (1, 6) (2, 3) (3, 0) (4, 2) (5, 7) (6, 5) (7, 1) (8, 8) (9, 4) \n",
      "(0, 9) (1, 6) (2, 3) (3, 0) (4, 2) (5, 8) (6, 5) (7, 7) (8, 4) (9, 1) \n",
      "(0, 9) (1, 6) (2, 3) (3, 0) (4, 4) (5, 1) (6, 8) (7, 5) (8, 7) (9, 2) \n",
      "(0, 9) (1, 6) (2, 3) (3, 0) (4, 7) (5, 1) (6, 8) (7, 5) (8, 2) (9, 4) \n",
      "(0, 9) (1, 6) (2, 3) (3, 0) (4, 8) (5, 1) (6, 5) (7, 7) (8, 2) (9, 4) \n",
      "(0, 9) (1, 6) (2, 4) (3, 1) (4, 7) (5, 0) (6, 2) (7, 8) (8, 5) (9, 3) \n",
      "(0, 9) (1, 7) (2, 1) (3, 3) (4, 0) (5, 6) (6, 8) (7, 5) (8, 2) (9, 4) \n",
      "(0, 9) (1, 7) (2, 4) (3, 1) (4, 3) (5, 0) (6, 6) (7, 8) (8, 2) (9, 5) \n",
      "(0, 9) (1, 7) (2, 4) (3, 1) (4, 3) (5, 0) (6, 6) (7, 8) (8, 5) (9, 2) \n",
      "(0, 9) (1, 7) (2, 4) (3, 2) (4, 0) (5, 5) (6, 1) (7, 8) (8, 6) (9, 3) \n"
     ]
    }
   ],
   "source": [
    "#All solutions \n",
    "def initialize(n):\n",
    "  for key in ['queen','row','col','nwtose','swtone']:\n",
    "    board[key] = {}\n",
    "  for i in range(n):\n",
    "    board['queen'][i] = -1\n",
    "    board['row'][i] = 0\n",
    "    board['col'][i] = 0\n",
    "  for i in range(-(n-1),n):\n",
    "    board['nwtose'][i] = 0\n",
    "  for i in range(2*n-1):\n",
    "    board['swtone'][i] = 0\n",
    "\n",
    "def printboard():\n",
    "  for row in sorted(board['queen'].keys()):\n",
    "    print((row,board['queen'][row]),end=\" \")\n",
    "  print(\"\")\n",
    "  \n",
    "def free(i,j):\n",
    "  return(board['row'][i] == 0 and board['col'][j] == 0 and\n",
    "          board['nwtose'][j-i] == 0 and board['swtone'][j+i] == 0)\n",
    "\n",
    "def addqueen(i,j):\n",
    "  board['queen'][i] = j\n",
    "  board['row'][i] = 1\n",
    "  board['col'][j] = 1\n",
    "  board['nwtose'][j-i] = 1\n",
    "  board['swtone'][j+i] = 1\n",
    "\n",
    "def undoqueen(i,j):\n",
    "  board['queen'][i] = -1\n",
    "  board['row'][i] = 0\n",
    "  board['col'][j] = 0\n",
    "  board['nwtose'][j-i] = 0\n",
    "  board['swtone'][j+i] = 0\n",
    "\n",
    "def placequeen(i):\n",
    "  n = len(board['queen'].keys())\n",
    "  for j in range(n):\n",
    "    if free(i,j):\n",
    "      addqueen(i,j)\n",
    "      if i == n-1:\n",
    "        printboard()# change is here for all solutions \n",
    "      else:\n",
    "        extendsoln = placequeen(i+1)\n",
    "      undoqueen(i,j)\n",
    "\n",
    "board = {}\n",
    "n = int(input(\"How many queens? \"))\n",
    "initialize(n)\n",
    "if placequeen(0):\n",
    "  printboard()"
   ]
  },
  {
   "cell_type": "code",
   "execution_count": 1,
   "metadata": {},
   "outputs": [
    {
     "ename": "UnboundLocalError",
     "evalue": "local variable 'x' referenced before assignment",
     "output_type": "error",
     "traceback": [
      "\u001b[1;31m---------------------------------------------------------------------------\u001b[0m",
      "\u001b[1;31mUnboundLocalError\u001b[0m                         Traceback (most recent call last)",
      "\u001b[1;32m<ipython-input-1-05770899913f>\u001b[0m in \u001b[0;36m<module>\u001b[1;34m\u001b[0m\n\u001b[0;32m      4\u001b[0m     \u001b[0mx\u001b[0m \u001b[1;33m=\u001b[0m \u001b[1;36m30\u001b[0m\u001b[1;33m\u001b[0m\u001b[1;33m\u001b[0m\u001b[0m\n\u001b[0;32m      5\u001b[0m \u001b[0mx\u001b[0m \u001b[1;33m=\u001b[0m \u001b[1;36m10\u001b[0m\u001b[1;33m\u001b[0m\u001b[1;33m\u001b[0m\u001b[0m\n\u001b[1;32m----> 6\u001b[1;33m \u001b[0mf\u001b[0m\u001b[1;33m(\u001b[0m\u001b[1;33m)\u001b[0m\u001b[1;33m\u001b[0m\u001b[1;33m\u001b[0m\u001b[0m\n\u001b[0m",
      "\u001b[1;32m<ipython-input-1-05770899913f>\u001b[0m in \u001b[0;36mf\u001b[1;34m()\u001b[0m\n\u001b[0;32m      1\u001b[0m \u001b[1;32mdef\u001b[0m \u001b[0mf\u001b[0m\u001b[1;33m(\u001b[0m\u001b[1;33m)\u001b[0m\u001b[1;33m:\u001b[0m\u001b[1;33m\u001b[0m\u001b[1;33m\u001b[0m\u001b[0m\n\u001b[1;32m----> 2\u001b[1;33m     \u001b[0my\u001b[0m \u001b[1;33m=\u001b[0m \u001b[0mx\u001b[0m\u001b[1;33m\u001b[0m\u001b[1;33m\u001b[0m\u001b[0m\n\u001b[0m\u001b[0;32m      3\u001b[0m     \u001b[0mprint\u001b[0m\u001b[1;33m(\u001b[0m\u001b[0my\u001b[0m\u001b[1;33m)\u001b[0m\u001b[1;33m\u001b[0m\u001b[1;33m\u001b[0m\u001b[0m\n\u001b[0;32m      4\u001b[0m     \u001b[0mx\u001b[0m \u001b[1;33m=\u001b[0m \u001b[1;36m30\u001b[0m\u001b[1;33m\u001b[0m\u001b[1;33m\u001b[0m\u001b[0m\n\u001b[0;32m      5\u001b[0m \u001b[0mx\u001b[0m \u001b[1;33m=\u001b[0m \u001b[1;36m10\u001b[0m\u001b[1;33m\u001b[0m\u001b[1;33m\u001b[0m\u001b[0m\n",
      "\u001b[1;31mUnboundLocalError\u001b[0m: local variable 'x' referenced before assignment"
     ]
    }
   ],
   "source": [
    "# gives error - only immuatable values gives error\n",
    "def f():\n",
    "    y = x\n",
    "    print(y)\n",
    "    x = 30\n",
    "x = 10\n",
    "f()"
   ]
  },
  {
   "cell_type": "code",
   "execution_count": 2,
   "metadata": {},
   "outputs": [
    {
     "name": "stdout",
     "output_type": "stream",
     "text": [
      "10\n"
     ]
    }
   ],
   "source": [
    "# no error \n",
    "def f():\n",
    "    y = x\n",
    "    print(y)\n",
    "x = 10\n",
    "f()"
   ]
  },
  {
   "cell_type": "code",
   "execution_count": 9,
   "metadata": {},
   "outputs": [
    {
     "name": "stdout",
     "output_type": "stream",
     "text": [
      "1\n"
     ]
    }
   ],
   "source": [
    "# No error for only mutable variables like list, dictionary\n",
    "def f():\n",
    "    y = x[0]\n",
    "    print(y)\n",
    "    x[0] = 2345\n",
    "x = [1, 2, 3, 4, 5, 6]\n",
    "f()"
   ]
  },
  {
   "cell_type": "code",
   "execution_count": 11,
   "metadata": {},
   "outputs": [
    {
     "name": "stdout",
     "output_type": "stream",
     "text": [
      "10\n",
      "30\n"
     ]
    }
   ],
   "source": [
    "# solved error - only immuatable values gives error - using global we can avoid this\n",
    "def f():\n",
    "    global x\n",
    "    y = x\n",
    "    print(y)\n",
    "    x = 30\n",
    "x = 10\n",
    "f()\n",
    "print(x)"
   ]
  },
  {
   "cell_type": "code",
   "execution_count": 13,
   "metadata": {},
   "outputs": [
    {
     "name": "stdout",
     "output_type": "stream",
     "text": [
      "22\n"
     ]
    }
   ],
   "source": [
    "# helper functions - function inside function\n",
    "def f():\n",
    "    def g(a):\n",
    "        return(a+1)\n",
    "    def h(b):\n",
    "        return(2*b)\n",
    "    global x\n",
    "    y = g(x) + h(x)\n",
    "    print(y)\n",
    "    x = 22\n",
    "x = 7\n",
    "f()    "
   ]
  },
  {
   "cell_type": "code",
   "execution_count": 14,
   "metadata": {},
   "outputs": [
    {
     "name": "stdout",
     "output_type": "stream",
     "text": [
      "x inside : global\n",
      "x outside: global\n"
     ]
    }
   ],
   "source": [
    "x = \"global\"\n",
    "\n",
    "def foo():\n",
    "    print(\"x inside :\", x)\n",
    "\n",
    "foo()\n",
    "print(\"x outside:\", x)"
   ]
  },
  {
   "cell_type": "code",
   "execution_count": 15,
   "metadata": {},
   "outputs": [
    {
     "name": "stdout",
     "output_type": "stream",
     "text": [
      "globalglobal\n",
      "local\n"
     ]
    }
   ],
   "source": [
    "x = \"global\"\n",
    "\n",
    "def foo():\n",
    "    global x\n",
    "    y = \"local\"\n",
    "    x = x * 2\n",
    "    print(x)\n",
    "    print(y)\n",
    "    \n",
    "foo()"
   ]
  },
  {
   "cell_type": "code",
   "execution_count": 16,
   "metadata": {},
   "outputs": [
    {
     "name": "stdout",
     "output_type": "stream",
     "text": [
      "local x: 10\n",
      "global x: 5\n"
     ]
    }
   ],
   "source": [
    "x = 5\n",
    "\n",
    "def foo():\n",
    "    x = 10\n",
    "    print(\"local x:\", x)\n",
    "\n",
    "foo()\n",
    "print(\"global x:\", x)"
   ]
  },
  {
   "cell_type": "code",
   "execution_count": 17,
   "metadata": {},
   "outputs": [
    {
     "name": "stdout",
     "output_type": "stream",
     "text": [
      "inner: nonlocal\n",
      "outer: nonlocal\n"
     ]
    }
   ],
   "source": [
    "def outer():\n",
    "    x = \"local\"\n",
    "    \n",
    "    def inner():\n",
    "        nonlocal x\n",
    "        x = \"nonlocal\"\n",
    "        print(\"inner:\", x)\n",
    "    \n",
    "    inner()\n",
    "    print(\"outer:\", x)\n",
    "\n",
    "outer()"
   ]
  },
  {
   "cell_type": "code",
   "execution_count": 21,
   "metadata": {},
   "outputs": [
    {
     "name": "stdout",
     "output_type": "stream",
     "text": [
      "hello\n"
     ]
    }
   ],
   "source": [
    "'''The nonlocal keyword is used to work with variables inside nested functions, \n",
    "where the variable should not belong to the inner function.\n",
    "Use the keyword nonlocal to declare that the variable is not local.'''\n",
    "\n",
    "def myfunc1():\n",
    "  x = \"John\"\n",
    "  def myfunc2():\n",
    "    nonlocal x\n",
    "    x = \"hello\"\n",
    "  myfunc2()\n",
    "  return x\n",
    "\n",
    "print(myfunc1())"
   ]
  },
  {
   "cell_type": "code",
   "execution_count": 20,
   "metadata": {},
   "outputs": [
    {
     "name": "stdout",
     "output_type": "stream",
     "text": [
      "John\n"
     ]
    }
   ],
   "source": [
    "def myfunc1():\n",
    "  x = \"John\"\n",
    "  def myfunc2():\n",
    "    x = \"hello\"\n",
    "  myfunc2()\n",
    "  return x\n",
    "\n",
    "print(myfunc1())"
   ]
  },
  {
   "cell_type": "code",
   "execution_count": 1,
   "metadata": {},
   "outputs": [],
   "source": [
    "colors = {'red', 'blue', 'green'}"
   ]
  },
  {
   "cell_type": "code",
   "execution_count": 2,
   "metadata": {},
   "outputs": [
    {
     "name": "stdout",
     "output_type": "stream",
     "text": [
      "{'green', 'blue', 'red'}\n"
     ]
    }
   ],
   "source": [
    "print(colors) #removed duplicate entries"
   ]
  },
  {
   "cell_type": "code",
   "execution_count": 3,
   "metadata": {},
   "outputs": [],
   "source": [
    "#empty set creation clasehs with empty dictionary creation so,\n",
    "emptyset = set()"
   ]
  },
  {
   "cell_type": "code",
   "execution_count": 7,
   "metadata": {},
   "outputs": [
    {
     "name": "stdout",
     "output_type": "stream",
     "text": [
      "set()\n"
     ]
    }
   ],
   "source": [
    "print(emptyset)"
   ]
  },
  {
   "cell_type": "code",
   "execution_count": 6,
   "metadata": {},
   "outputs": [
    {
     "name": "stdout",
     "output_type": "stream",
     "text": [
      "<class 'set'>\n"
     ]
    }
   ],
   "source": [
    "print(type(emptyset))"
   ]
  },
  {
   "cell_type": "code",
   "execution_count": 8,
   "metadata": {},
   "outputs": [
    {
     "data": {
      "text/plain": [
       "True"
      ]
     },
     "execution_count": 8,
     "metadata": {},
     "output_type": "execute_result"
    }
   ],
   "source": [
    "'green' in colors"
   ]
  },
  {
   "cell_type": "code",
   "execution_count": 9,
   "metadata": {},
   "outputs": [
    {
     "data": {
      "text/plain": [
       "False"
      ]
     },
     "execution_count": 9,
     "metadata": {},
     "output_type": "execute_result"
    }
   ],
   "source": [
    "'purple' in colors"
   ]
  },
  {
   "cell_type": "code",
   "execution_count": 10,
   "metadata": {},
   "outputs": [],
   "source": [
    "list = [1, 2, 3, 4, 'hello', 3, 2 ,1]"
   ]
  },
  {
   "cell_type": "code",
   "execution_count": 11,
   "metadata": {},
   "outputs": [],
   "source": [
    "s = set(list)"
   ]
  },
  {
   "cell_type": "code",
   "execution_count": 12,
   "metadata": {},
   "outputs": [
    {
     "name": "stdout",
     "output_type": "stream",
     "text": [
      "{1, 2, 3, 4, 'hello'}\n"
     ]
    }
   ],
   "source": [
    "print(s)"
   ]
  },
  {
   "cell_type": "code",
   "execution_count": 14,
   "metadata": {},
   "outputs": [
    {
     "name": "stdout",
     "output_type": "stream",
     "text": [
      "{'a', 'n', 'b'}\n"
     ]
    }
   ],
   "source": [
    "#vm\n",
    "str = 'banana'\n",
    "strset = set(str)\n",
    "print(strset)"
   ]
  },
  {
   "cell_type": "code",
   "execution_count": 1,
   "metadata": {},
   "outputs": [],
   "source": [
    "odd = set([1,3,5,7,9,11])\n",
    "prime = set([2,3,5,7,11])"
   ]
  },
  {
   "cell_type": "code",
   "execution_count": 2,
   "metadata": {},
   "outputs": [
    {
     "data": {
      "text/plain": [
       "{1, 2, 3, 5, 7, 9, 11}"
      ]
     },
     "execution_count": 2,
     "metadata": {},
     "output_type": "execute_result"
    }
   ],
   "source": [
    "odd | prime"
   ]
  },
  {
   "cell_type": "code",
   "execution_count": 3,
   "metadata": {},
   "outputs": [
    {
     "data": {
      "text/plain": [
       "{3, 5, 7, 11}"
      ]
     },
     "execution_count": 3,
     "metadata": {},
     "output_type": "execute_result"
    }
   ],
   "source": [
    "odd & prime"
   ]
  },
  {
   "cell_type": "code",
   "execution_count": 4,
   "metadata": {},
   "outputs": [
    {
     "data": {
      "text/plain": [
       "{1, 9}"
      ]
     },
     "execution_count": 4,
     "metadata": {},
     "output_type": "execute_result"
    }
   ],
   "source": [
    "odd - prime #in odd but not in prime"
   ]
  },
  {
   "cell_type": "code",
   "execution_count": 5,
   "metadata": {},
   "outputs": [
    {
     "data": {
      "text/plain": [
       "{1, 2, 9}"
      ]
     },
     "execution_count": 5,
     "metadata": {},
     "output_type": "execute_result"
    }
   ],
   "source": [
    "odd ^ prime # elements occure in exactly one of the sets"
   ]
  },
  {
   "cell_type": "code",
   "execution_count": 6,
   "metadata": {},
   "outputs": [
    {
     "data": {
      "text/plain": [
       "{1, 2, 9}"
      ]
     },
     "execution_count": 6,
     "metadata": {},
     "output_type": "execute_result"
    }
   ],
   "source": [
    "prime ^ odd"
   ]
  },
  {
   "cell_type": "code",
   "execution_count": 7,
   "metadata": {},
   "outputs": [],
   "source": [
    "# list working as stack - last in first out\n",
    "list = []\n",
    "list.append(3)"
   ]
  },
  {
   "cell_type": "code",
   "execution_count": 11,
   "metadata": {},
   "outputs": [
    {
     "data": {
      "text/plain": [
       "[3, 4]"
      ]
     },
     "execution_count": 11,
     "metadata": {},
     "output_type": "execute_result"
    }
   ],
   "source": [
    "list"
   ]
  },
  {
   "cell_type": "code",
   "execution_count": 10,
   "metadata": {},
   "outputs": [],
   "source": [
    "list.append(4)"
   ]
  },
  {
   "cell_type": "code",
   "execution_count": 13,
   "metadata": {},
   "outputs": [
    {
     "data": {
      "text/plain": [
       "4"
      ]
     },
     "execution_count": 13,
     "metadata": {},
     "output_type": "execute_result"
    }
   ],
   "source": [
    "list.pop()"
   ]
  },
  {
   "cell_type": "code",
   "execution_count": 15,
   "metadata": {},
   "outputs": [
    {
     "data": {
      "text/plain": [
       "[3]"
      ]
     },
     "execution_count": 15,
     "metadata": {},
     "output_type": "execute_result"
    }
   ],
   "source": [
    "list"
   ]
  },
  {
   "cell_type": "markdown",
   "metadata": {},
   "source": [
    "#### append works as like push to list and pop works as last out"
   ]
  },
  {
   "cell_type": "code",
   "execution_count": 25,
   "metadata": {},
   "outputs": [],
   "source": [
    "list.insert(0,21) "
   ]
  },
  {
   "cell_type": "markdown",
   "metadata": {},
   "source": [
    "#### insert(0, value) function acts like queue push at front, pop works same as opooing from end"
   ]
  },
  {
   "cell_type": "code",
   "execution_count": 26,
   "metadata": {},
   "outputs": [
    {
     "data": {
      "text/plain": [
       "[21, 2, 3, 2]"
      ]
     },
     "execution_count": 26,
     "metadata": {},
     "output_type": "execute_result"
    }
   ],
   "source": [
    "list"
   ]
  },
  {
   "cell_type": "code",
   "execution_count": 23,
   "metadata": {},
   "outputs": [
    {
     "data": {
      "text/plain": [
       "2"
      ]
     },
     "execution_count": 23,
     "metadata": {},
     "output_type": "execute_result"
    }
   ],
   "source": [
    "list.pop()"
   ]
  },
  {
   "cell_type": "markdown",
   "metadata": {},
   "source": [
    "#### Classes and objects i python"
   ]
  },
  {
   "cell_type": "code",
   "execution_count": 16,
   "metadata": {},
   "outputs": [],
   "source": [
    "from math import *\n",
    "class Point:\n",
    "    def __init__(self,a,b):\n",
    "        self.x = a\n",
    "        self.y = b\n",
    "    def translate(self,dx,dy):\n",
    "        self.x += dx\n",
    "        self.y += dy\n",
    "    def odistance(self):\n",
    "        return(sqrt(self.x*self.x + self.y*self.y))\n",
    "    def printpoint(self):\n",
    "        print('The point has x:',self.x,' and y:', self.y)"
   ]
  },
  {
   "cell_type": "code",
   "execution_count": 17,
   "metadata": {},
   "outputs": [
    {
     "name": "stdout",
     "output_type": "stream",
     "text": [
      "The point has x: 2  and y: 3\n"
     ]
    }
   ],
   "source": [
    "p = Point(2,3)\n",
    "p.printpoint()"
   ]
  },
  {
   "cell_type": "code",
   "execution_count": 78,
   "metadata": {},
   "outputs": [],
   "source": [
    "from math import *\n",
    "class Loc:\n",
    "    def __init__(self,a=0,b=0): #default arguments\n",
    "        self.x = a\n",
    "        self.y = b\n",
    "    def translate(self,dx,dy):\n",
    "        self.x += dx\n",
    "        self.y += dy\n",
    "    def odistance(self):\n",
    "        return(sqrt(self.x*self.x + self.y*self.y))\n",
    "    def printpoint(self):\n",
    "        print('The point has x:',self.x,' and y:', self.y)\n",
    "    def __str__(self):\n",
    "        stmt = 'In print function for the object => (x='+ str(self.x) + ' ,y=' + str(self.y)+')'\n",
    "        return(stmt)   \n",
    "    def __add__(self,loc):\n",
    "        return(Loc(self.x+loc.x, self.y+loc.y))\n",
    "    def __mul__(self,loc):\n",
    "        return(Loc(self.x*loc.x, self.y*loc.y))"
   ]
  },
  {
   "cell_type": "code",
   "execution_count": 75,
   "metadata": {},
   "outputs": [
    {
     "name": "stdout",
     "output_type": "stream",
     "text": [
      "The point has x: 0  and y: 0\n"
     ]
    }
   ],
   "source": [
    "p = Loc() #default arguments are taken\n",
    "p.printpoint()"
   ]
  },
  {
   "cell_type": "code",
   "execution_count": 76,
   "metadata": {},
   "outputs": [
    {
     "name": "stdout",
     "output_type": "stream",
     "text": [
      "The point has x: 3  and y: 67\n"
     ]
    }
   ],
   "source": [
    "l = Loc(3,67)\n",
    "l.printpoint()"
   ]
  },
  {
   "cell_type": "code",
   "execution_count": 77,
   "metadata": {},
   "outputs": [
    {
     "name": "stdout",
     "output_type": "stream",
     "text": [
      "In print function for the object => (x=3 ,y=67)\n"
     ]
    }
   ],
   "source": [
    "print(l)"
   ]
  },
  {
   "cell_type": "code",
   "execution_count": 79,
   "metadata": {},
   "outputs": [
    {
     "name": "stdout",
     "output_type": "stream",
     "text": [
      "In print function for the object => (x=7 ,y=9)\n",
      "In print function for the object => (x=10 ,y=18)\n"
     ]
    }
   ],
   "source": [
    "l1 = Loc(2,3)\n",
    "l2 = Loc(5,6)\n",
    "l3 = Loc()\n",
    "l5 = l1+l2\n",
    "print(l5)\n",
    "l6 = l1*l2\n",
    "print(l6)"
   ]
  },
  {
   "cell_type": "code",
   "execution_count": 80,
   "metadata": {},
   "outputs": [
    {
     "name": "stdout",
     "output_type": "stream",
     "text": [
      "None\n"
     ]
    }
   ],
   "source": [
    "x = None\n",
    "\n",
    "print(x)"
   ]
  },
  {
   "cell_type": "code",
   "execution_count": 7,
   "metadata": {},
   "outputs": [
    {
     "data": {
      "text/plain": [
       "['G:\\\\Jupiter_Workspace\\\\DS_ALGO_Python',\n",
       " 'G:\\\\Jupiter_Workspace\\\\PYTHONPATH_folder',\n",
       " 'G:\\\\Jupiter_Workspace\\\\DS_ALGO_Python',\n",
       " 'C:\\\\Users\\\\uksuj\\\\Anaconda3\\\\python37.zip',\n",
       " 'C:\\\\Users\\\\uksuj\\\\Anaconda3\\\\DLLs',\n",
       " 'C:\\\\Users\\\\uksuj\\\\Anaconda3\\\\lib',\n",
       " 'C:\\\\Users\\\\uksuj\\\\Anaconda3',\n",
       " '',\n",
       " 'C:\\\\Users\\\\uksuj\\\\Anaconda3\\\\lib\\\\site-packages',\n",
       " 'C:\\\\Users\\\\uksuj\\\\Anaconda3\\\\lib\\\\site-packages\\\\win32',\n",
       " 'C:\\\\Users\\\\uksuj\\\\Anaconda3\\\\lib\\\\site-packages\\\\win32\\\\lib',\n",
       " 'C:\\\\Users\\\\uksuj\\\\Anaconda3\\\\lib\\\\site-packages\\\\Pythonwin',\n",
       " 'C:\\\\Users\\\\uksuj\\\\Anaconda3\\\\lib\\\\site-packages\\\\IPython\\\\extensions',\n",
       " 'C:\\\\Users\\\\uksuj\\\\.ipython']"
      ]
     },
     "execution_count": 7,
     "metadata": {},
     "output_type": "execute_result"
    }
   ],
   "source": [
    "import sys\n",
    "sys.path"
   ]
  },
  {
   "cell_type": "code",
   "execution_count": 8,
   "metadata": {},
   "outputs": [
    {
     "name": "stdout",
     "output_type": "stream",
     "text": [
      "Hello, Jonathan\n"
     ]
    }
   ],
   "source": [
    "import mymodule\n",
    "\n",
    "mymodule.greeting(\"Jonathan\")"
   ]
  },
  {
   "cell_type": "code",
   "execution_count": 9,
   "metadata": {},
   "outputs": [
    {
     "name": "stdout",
     "output_type": "stream",
     "text": [
      "36\n"
     ]
    }
   ],
   "source": [
    "a = mymodule.person1[\"age\"]\n",
    "print(a)"
   ]
  },
  {
   "cell_type": "code",
   "execution_count": 20,
   "metadata": {},
   "outputs": [
    {
     "name": "stdout",
     "output_type": "stream",
     "text": [
      "File1 __name__ = File1\n",
      "File1 is being imported\n",
      "File2 __name__ = __main__\n",
      "File2 is being run directly\n"
     ]
    }
   ],
   "source": [
    "# File2.py \n",
    "  \n",
    "import File1 \n",
    "  \n",
    "print (\"File2 __name__ = %s\" %__name__) \n",
    "  \n",
    "if __name__ == \"__main__\": \n",
    "    print (\"File2 is being run directly\")\n",
    "else: \n",
    "    print (\"File2 is being imported\")"
   ]
  },
  {
   "cell_type": "code",
   "execution_count": 21,
   "metadata": {},
   "outputs": [
    {
     "data": {
      "text/plain": [
       "['__builtins__',\n",
       " '__cached__',\n",
       " '__doc__',\n",
       " '__file__',\n",
       " '__loader__',\n",
       " '__name__',\n",
       " '__package__',\n",
       " '__spec__',\n",
       " 'greeting',\n",
       " 'person1']"
      ]
     },
     "execution_count": 21,
     "metadata": {},
     "output_type": "execute_result"
    }
   ],
   "source": [
    "dir(mymodule)"
   ]
  },
  {
   "cell_type": "code",
   "execution_count": 22,
   "metadata": {},
   "outputs": [
    {
     "data": {
      "text/plain": [
       "['File1',\n",
       " 'In',\n",
       " 'Out',\n",
       " '_',\n",
       " '_2',\n",
       " '_21',\n",
       " '_5',\n",
       " '_7',\n",
       " '__',\n",
       " '___',\n",
       " '__builtin__',\n",
       " '__builtins__',\n",
       " '__doc__',\n",
       " '__loader__',\n",
       " '__name__',\n",
       " '__package__',\n",
       " '__spec__',\n",
       " '_dh',\n",
       " '_i',\n",
       " '_i1',\n",
       " '_i10',\n",
       " '_i11',\n",
       " '_i12',\n",
       " '_i13',\n",
       " '_i14',\n",
       " '_i15',\n",
       " '_i16',\n",
       " '_i17',\n",
       " '_i18',\n",
       " '_i19',\n",
       " '_i2',\n",
       " '_i20',\n",
       " '_i21',\n",
       " '_i22',\n",
       " '_i3',\n",
       " '_i4',\n",
       " '_i5',\n",
       " '_i6',\n",
       " '_i7',\n",
       " '_i8',\n",
       " '_i9',\n",
       " '_ih',\n",
       " '_ii',\n",
       " '_iii',\n",
       " '_oh',\n",
       " 'a',\n",
       " 'exit',\n",
       " 'get_ipython',\n",
       " 'main',\n",
       " 'myFunction',\n",
       " 'mymodule',\n",
       " 'quit',\n",
       " 'sys']"
      ]
     },
     "execution_count": 22,
     "metadata": {},
     "output_type": "execute_result"
    }
   ],
   "source": [
    "dir()"
   ]
  },
  {
   "cell_type": "code",
   "execution_count": null,
   "metadata": {},
   "outputs": [],
   "source": []
  }
 ],
 "metadata": {
  "kernelspec": {
   "display_name": "Python 3",
   "language": "python",
   "name": "python3"
  },
  "language_info": {
   "codemirror_mode": {
    "name": "ipython",
    "version": 3
   },
   "file_extension": ".py",
   "mimetype": "text/x-python",
   "name": "python",
   "nbconvert_exporter": "python",
   "pygments_lexer": "ipython3",
   "version": "3.7.6"
  }
 },
 "nbformat": 4,
 "nbformat_minor": 4
}
