{
 "cells": [
  {
   "cell_type": "markdown",
   "metadata": {},
   "source": [
    "## Self Play Book"
   ]
  },
  {
   "cell_type": "code",
   "execution_count": 20,
   "metadata": {},
   "outputs": [
    {
     "ename": "TypeError",
     "evalue": "unsupported operand type(s) for ** or pow(): 'list' and 'int'",
     "output_type": "error",
     "traceback": [
      "\u001b[1;31m---------------------------------------------------------------------------\u001b[0m",
      "\u001b[1;31mTypeError\u001b[0m                                 Traceback (most recent call last)",
      "\u001b[1;32m<ipython-input-20-f1fc0206daa2>\u001b[0m in \u001b[0;36m<module>\u001b[1;34m\u001b[0m\n\u001b[0;32m      2\u001b[0m \"\"\"This gives out error because python expects a number but first_list is a list/iterable data type\n\u001b[0;32m      3\u001b[0m on which we can not do these operations\"\"\"\n\u001b[1;32m----> 4\u001b[1;33m \u001b[0mprint\u001b[0m\u001b[1;33m(\u001b[0m\u001b[0mfirst_list\u001b[0m\u001b[1;33m**\u001b[0m\u001b[1;36m2\u001b[0m\u001b[1;33m)\u001b[0m\u001b[1;33m\u001b[0m\u001b[1;33m\u001b[0m\u001b[0m\n\u001b[0m",
      "\u001b[1;31mTypeError\u001b[0m: unsupported operand type(s) for ** or pow(): 'list' and 'int'"
     ]
    }
   ],
   "source": [
    "first_list = [2, 4, 5]\n",
    "\"\"\"This gives out error because python expects a number but first_list is a list/iterable data type\n",
    "on which we can not do these operations\"\"\"\n",
    "print(first_list**2)"
   ]
  },
  {
   "cell_type": "code",
   "execution_count": 4,
   "metadata": {},
   "outputs": [],
   "source": [
    "first_list = [2, 4, 5]"
   ]
  },
  {
   "cell_type": "code",
   "execution_count": 5,
   "metadata": {},
   "outputs": [
    {
     "name": "stdout",
     "output_type": "stream",
     "text": [
      "<map object at 0x00000273584075C0>\n"
     ]
    }
   ],
   "source": [
    "\"\"\"Here creating a temporary function(lambda) which takes an argument. This function is only to be \n",
    "used here, on the fly purpose. Here the map function takes two arguments, first one is a function and \n",
    "second one is any iterable data type on which this function has to be applied. Map function will run \n",
    "through each element of first_list/iterable data type and substitute that element in the lambda function.\"\"\"\n",
    "print(map(lambda x: x**2, first_list))"
   ]
  },
  {
   "cell_type": "code",
   "execution_count": 1,
   "metadata": {},
   "outputs": [
    {
     "name": "stdout",
     "output_type": "stream",
     "text": [
      "[4, 16, 25]\n"
     ]
    }
   ],
   "source": [
    "first_list = [2,4,5]\n",
    "\"\"\" The map function just maps each element of first_list to the output after applying lambda \n",
    "function to it, e.g. 2 is mapped to 4, 4 to 16 and 5 to 25. To print the output of the map function,\n",
    "we would need to pass that output to list function, so that the output gets printed as a list.\"\"\"\n",
    "print(list(map(lambda x: x**2, first_list)))"
   ]
  },
  {
   "cell_type": "code",
   "execution_count": 10,
   "metadata": {},
   "outputs": [
    {
     "name": "stdout",
     "output_type": "stream",
     "text": [
      "[4, 16, 25]\n"
     ]
    }
   ],
   "source": [
    "\"\"\"Creating an explicit function like squareit is good if some other piece of code also uses this function.\n",
    "It is programmers decision to either use a lambda function, so that the function becomes private for that\n",
    "whole program except that particular statement. Below statement also works like lambda function.\"\"\"\n",
    "def squareit(n):\n",
    "    return n**2\n",
    "print(list(map(squareit, first_list)))\n"
   ]
  },
  {
   "cell_type": "code",
   "execution_count": 11,
   "metadata": {},
   "outputs": [
    {
     "name": "stdout",
     "output_type": "stream",
     "text": [
      "[7, 10, 15, 14]\n"
     ]
    }
   ],
   "source": [
    "\"\"\"[VM] Number of iterable data types you pass to map function is equal to the number of arguments of the function which\n",
    "forms the firt argument to map function. Here two arguments for lambda function hense there are two lists.\n",
    "Number of arguments to the function = number of iterable data types to pass. In additional to this, sums_list & sums_list2,\n",
    "must have same lenght also.\"\"\"\n",
    "sums_list = [3,5,9,7]\n",
    "sums_list2 = (4,5,6,7)\n",
    "print(list(map(lambda x,y : x+y, sums_list,sums_list2)))\n"
   ]
  },
  {
   "cell_type": "code",
   "execution_count": 13,
   "metadata": {},
   "outputs": [
    {
     "name": "stdout",
     "output_type": "stream",
     "text": [
      "['Nikola Tesla', 'James Watt', 'Albert Einstein']\n"
     ]
    }
   ],
   "source": [
    "#Slightly complicated example. Here you have to capitalize the first letters of first name and surname after joining.\n",
    "list_of_names = ['nikola', 'james', 'albert']\n",
    "list_of_names2 = ['tesla','watt','einstein']\n",
    "#it is assumed that x comes from first iterable data type and y from the next iterable data type\n",
    "proper = lambda x, y: x[0].upper()+x[1:] +' '+ y[0].upper()+y[1:]\n",
    "print(list(map(proper, list_of_names,list_of_names2)))\n"
   ]
  },
  {
   "cell_type": "code",
   "execution_count": 15,
   "metadata": {},
   "outputs": [
    {
     "name": "stdout",
     "output_type": "stream",
     "text": [
      "[3, 6, 9]\n"
     ]
    }
   ],
   "source": [
    "#Filter\n",
    "#here the body of filter function is a condition, checks whether the element is divisible by 3\n",
    "#Pulling out the numbers which are multiple of 3 from the given list\n",
    "divby3 = lambda x:  x % 3 == 0\n",
    "my_list = [3,4,5,6,7,8,9]\n",
    "div = filter(divby3, my_list)\n",
    "print(list(div))"
   ]
  },
  {
   "cell_type": "code",
   "execution_count": 16,
   "metadata": {},
   "outputs": [
    {
     "name": "stdout",
     "output_type": "stream",
     "text": [
      "6\n"
     ]
    }
   ],
   "source": [
    "#Reduce - pairwise operations of elements\n",
    "\"\"\" range(1,4) => 0,1,2,3. First x = 0, y = 1 then x = x+y = 1 & y =2, then x = x+y = 3, y = 3, then \n",
    "x = x+y = 6, no y value as list ended.\"\"\"\n",
    "from functools import reduce\n",
    "q  = reduce(lambda x, y: x+y, range(1,4))\n",
    "print(q)\n"
   ]
  },
  {
   "cell_type": "code",
   "execution_count": 19,
   "metadata": {},
   "outputs": [
    {
     "name": "stdout",
     "output_type": "stream",
     "text": [
      "94\n"
     ]
    }
   ],
   "source": [
    "#you do not have to import reduce again as it is done in previous cell already\n",
    "list_of_nums = [22,45,32,20,87,94,30]\n",
    "#final value or x have the largest element of list\n",
    "print(reduce(lambda x,y: x if x>y else y,list_of_nums))\n"
   ]
  },
  {
   "cell_type": "markdown",
   "metadata": {},
   "source": [
    "#### Quiz related trials"
   ]
  },
  {
   "cell_type": "code",
   "execution_count": 8,
   "metadata": {},
   "outputs": [
    {
     "data": {
      "text/plain": [
       "3"
      ]
     },
     "execution_count": 8,
     "metadata": {},
     "output_type": "execute_result"
    }
   ],
   "source": [
    "#Using the function Map, count the number of words that start with ‘S’ in input_list - \n",
    "# - ['San Jose', 'San Francisco', 'Santa Fe', 'Houston']\n",
    "input_list = ['San Jose', 'San Francisco', 'Santa Fe', 'Houston']\n",
    "#sum(w.startswith('S') for w in input_list) - traditional way\n",
    "sum(map(lambda x: x[0] == 'S', input_list))"
   ]
  }
 ],
 "metadata": {
  "anaconda-cloud": {},
  "kernelspec": {
   "display_name": "Python 3",
   "language": "python",
   "name": "python3"
  },
  "language_info": {
   "codemirror_mode": {
    "name": "ipython",
    "version": 3
   },
   "file_extension": ".py",
   "mimetype": "text/x-python",
   "name": "python",
   "nbconvert_exporter": "python",
   "pygments_lexer": "ipython3",
   "version": "3.7.3"
  }
 },
 "nbformat": 4,
 "nbformat_minor": 4
}
