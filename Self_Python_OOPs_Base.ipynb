{
 "cells": [
  {
   "cell_type": "markdown",
   "metadata": {},
   "source": [
    "### Python OOPs Basic concepts practice\n",
    "Reference: https://www.programiz.com/python-programming/object-oriented-programming,\n",
    "https://pynative.com/python-object-oriented-programming-oop-exercise/, https://www.w3resource.com/python-exercises/oop/index.php "
   ]
  },
  {
   "cell_type": "code",
   "execution_count": 4,
   "metadata": {},
   "outputs": [
    {
     "name": "stdout",
     "output_type": "stream",
     "text": [
      "Rendering Square...\n",
      "Rendering Circle...\n"
     ]
    }
   ],
   "source": [
    "# Polymorphism is another important concept of object-oriented programming. It simply means more than one form.\n",
    "# That is, the same entity (method or operator or object) can perform different operations in different scenarios.\n",
    "# Let's see an example,\n",
    "\n",
    "class Polygon:\n",
    "    # method to render a shape\n",
    "    def render(self):\n",
    "        print(\"Rendering Polygon...\")\n",
    "\n",
    "class Square(Polygon):\n",
    "    # renders Square\n",
    "    def render(self):\n",
    "        print(\"Rendering Square...\")\n",
    "\n",
    "class Circle(Polygon):\n",
    "    # renders circle\n",
    "    def render(self):\n",
    "        print(\"Rendering Circle...\")\n",
    "    \n",
    "# create an object of Square\n",
    "s1 = Square()\n",
    "s1.render()\n",
    "\n",
    "# create an object of Circle\n",
    "c1 = Circle()\n",
    "c1.render()\n",
    "\n",
    "# In the above example, we have created a superclass: Polygon and two subclasses: Square and Circle. Notice the use of the render() method.\n",
    "# The main purpose of the render() method is to render the shape. However, the process of rendering a square is different from the process \n",
    "# of rendering a circle.\n",
    "# Hence, the render() method behaves differently in different classes. Or, we can say render() is polymorphic."
   ]
  },
  {
   "cell_type": "markdown",
   "metadata": {},
   "source": [
    "Key Points to Remember:<br>\n",
    "Object-Oriented Programming makes the program easy to understand as well as efficient.<br>\n",
    "Since the class is sharable, the code can be reused.<br>\n",
    "Data is safe and secure with data abstraction.<br>\n",
    "Polymorphism allows the same interface for different objects, so programmers can write efficient code.<br>"
   ]
  },
  {
   "cell_type": "code",
   "execution_count": 5,
   "metadata": {},
   "outputs": [
    {
     "name": "stdout",
     "output_type": "stream",
     "text": [
      "Selling Price: 900\n",
      "Selling Price: 900\n",
      "Selling Price: 1000\n"
     ]
    }
   ],
   "source": [
    "# Encapsulation is one of the key features of object-oriented programming. Encapsulation refers to the bundling of attributes and \n",
    "# methods inside a single class.\n",
    "# It prevents outer classes from accessing and changing attributes and methods of a class. This also helps to achieve data hiding.\n",
    "# In Python, we denote private attributes using underscore as the prefix i.e single _ or double __. For example,\n",
    "\n",
    "class Computer:\n",
    "\n",
    "    def __init__(self):\n",
    "        self.__maxprice = 900\n",
    "\n",
    "    def sell(self):\n",
    "        print(\"Selling Price: {}\".format(self.__maxprice))\n",
    "\n",
    "    def setMaxPrice(self, price):\n",
    "        self.__maxprice = price\n",
    "\n",
    "c = Computer()\n",
    "c.sell()\n",
    "\n",
    "# change the price\n",
    "c.__maxprice = 1000\n",
    "c.sell()\n",
    "\n",
    "# using setter function\n",
    "c.setMaxPrice(1000)\n",
    "c.sell()\n",
    "\n",
    "# In the above program, we defined a Computer class.\n",
    "# We used __init__() method to store the maximum selling price of Computer. Here, notice the code\n",
    "# c.__maxprice = 1000\n",
    "# Here, we have tried to modify the value of __maxprice outside of the class. However, since __maxprice is a private variable, \n",
    "# this modification is not seen on the output.\n",
    "# As shown, to change the value, we have to use a setter function i.e setMaxPrice() which takes price as a parameter."
   ]
  },
  {
   "cell_type": "code",
   "execution_count": 6,
   "metadata": {},
   "outputs": [
    {
     "name": "stdout",
     "output_type": "stream",
     "text": [
      "240 18\n"
     ]
    }
   ],
   "source": [
    "# OOP Exercise 1: Create a Class with instance attributes\n",
    "# Write a Python program to create a Vehicle class with max_speed and mileage instance attributes\n",
    "class Vehicle:\n",
    "    def __init__(self, max_speed, mileage):\n",
    "        self.max_speed = max_speed\n",
    "        self.mileage = mileage\n",
    "\n",
    "modelX = Vehicle(240, 18)\n",
    "print(modelX.max_speed, modelX.mileage)"
   ]
  },
  {
   "cell_type": "code",
   "execution_count": 7,
   "metadata": {},
   "outputs": [],
   "source": [
    "# OOP Exercise 2: Create a Vehicle class without any variables and methods\n",
    "class Vehicle:\n",
    "    pass"
   ]
  },
  {
   "cell_type": "code",
   "execution_count": 8,
   "metadata": {},
   "outputs": [
    {
     "name": "stdout",
     "output_type": "stream",
     "text": [
      "Vehicle Name: Benz Speed: 200 Mileage: 13\n",
      "Vehicle Name: School Volvo Speed: 180 Mileage: 12\n"
     ]
    }
   ],
   "source": [
    "# OOP Exercise 3: Create a child class Bus that will inherit all of the variables and methods of the Vehicle class\n",
    "class Vehicle:\n",
    "\n",
    "    def __init__(self, name, max_speed, mileage):\n",
    "        self.name = name\n",
    "        self.max_speed = max_speed\n",
    "        self.mileage = mileage\n",
    "\n",
    "class Bus(Vehicle):\n",
    "    pass\n",
    "\n",
    "# Parent class object\n",
    "bus = Vehicle(\"Benz\", 200, 13)\n",
    "print(\"Vehicle Name:\", bus.name, \"Speed:\", bus.max_speed, \"Mileage:\", bus.mileage)\n",
    "School_bus = Bus(\"School Volvo\", 180, 12)\n",
    "print(\"Vehicle Name:\", School_bus.name, \"Speed:\", School_bus.max_speed, \"Mileage:\", School_bus.mileage)"
   ]
  },
  {
   "cell_type": "code",
   "execution_count": 9,
   "metadata": {},
   "outputs": [
    {
     "name": "stdout",
     "output_type": "stream",
     "text": [
      "The seating capacity of a School Volvo is 50 passengers\n"
     ]
    }
   ],
   "source": [
    "# OOP Exercise 4: Class Inheritance\n",
    "# Create a Bus class that inherits from the Vehicle class. Give the capacity argument of Bus.seating_capacity() a default value of 50.\n",
    "class Vehicle:\n",
    "    def __init__(self, name, max_speed, mileage):\n",
    "        self.name = name\n",
    "        self.max_speed = max_speed\n",
    "        self.mileage = mileage\n",
    "\n",
    "    def seating_capacity(self, capacity):\n",
    "        return f\"The seating capacity of a {self.name} is {capacity} passengers\"\n",
    "\n",
    "class Bus(Vehicle):\n",
    "    # assign default value to capacity\n",
    "    def seating_capacity(self, capacity=50):\n",
    "        return super().seating_capacity(capacity=50)\n",
    "\n",
    "School_bus = Bus(\"School Volvo\", 180, 12)\n",
    "print(School_bus.seating_capacity())"
   ]
  },
  {
   "cell_type": "code",
   "execution_count": 10,
   "metadata": {},
   "outputs": [
    {
     "name": "stdout",
     "output_type": "stream",
     "text": [
      "Area of the circle: 3.141592653589793\n",
      "Perimeter of the circle: 6.283185307179586\n"
     ]
    }
   ],
   "source": [
    "# Write a Python program to create a class representing a Circle. Include methods to calculate its area and perimeter.\n",
    "import math\n",
    "class Circle:\n",
    "    def __init__(self, radius):\n",
    "        self.radius = radius\n",
    "    \n",
    "    def calculate_circle_area(self):\n",
    "        return math.pi * self.radius**2\n",
    "    \n",
    "    def calculate_circle_perimeter(self):\n",
    "        return 2 * math.pi * self.radius\n",
    "\n",
    "# Example usage\n",
    "radius = float(input(\"Input the radius of the circle: \"))\n",
    "circle = Circle(radius)\n",
    "area = circle.calculate_circle_area()\n",
    "perimeter = circle.calculate_circle_perimeter()\n",
    "print(\"Area of the circle:\", area)\n",
    "print(\"Perimeter of the circle:\", perimeter)"
   ]
  },
  {
   "cell_type": "code",
   "execution_count": 11,
   "metadata": {},
   "outputs": [
    {
     "name": "stdout",
     "output_type": "stream",
     "text": [
      "7 + 5 = 12\n",
      "34 - 21 = 13\n",
      "54 * 2 = 108\n",
      "144 / 2 = 72.0\n",
      "45 / 0 = Cannot divide by zero.\n"
     ]
    }
   ],
   "source": [
    "# Write a Python program to create a calculator class. Include methods for basic arithmetic operations.\n",
    "class Calculator:\n",
    "    def add(self, x, y):\n",
    "        return x + y\n",
    "\n",
    "    def subtract(self, x, y):\n",
    "        return x - y\n",
    "\n",
    "    def multiply(self, x, y):\n",
    "        return x * y\n",
    "\n",
    "    def divide(self, x, y):\n",
    "        if y != 0:\n",
    "            return x / y\n",
    "        else:\n",
    "            return (\"Cannot divide by zero.\")\n",
    "\n",
    "# Example usage\n",
    "calculator = Calculator()\n",
    "\n",
    "# Addition\n",
    "result = calculator.add(7, 5)\n",
    "print(\"7 + 5 =\", result)\n",
    "\n",
    "# Subtraction\n",
    "result = calculator.subtract(34, 21)\n",
    "print(\"34 - 21 =\", result)\n",
    "\n",
    "# Multiplication\n",
    "result = calculator.multiply(54, 2)\n",
    "print(\"54 * 2 =\", result)\n",
    "\n",
    "# Division\n",
    "result = calculator.divide(144, 2)\n",
    "print(\"144 / 2 =\", result)\n",
    "\n",
    "# Division by zero (raises an error)\n",
    "result = calculator.divide(45, 0)\n",
    "print(\"45 / 0 =\", result)"
   ]
  },
  {
   "cell_type": "code",
   "execution_count": null,
   "metadata": {},
   "outputs": [],
   "source": []
  }
 ],
 "metadata": {
  "kernelspec": {
   "display_name": "Python 3",
   "language": "python",
   "name": "python3"
  },
  "language_info": {
   "codemirror_mode": {
    "name": "ipython",
    "version": 3
   },
   "file_extension": ".py",
   "mimetype": "text/x-python",
   "name": "python",
   "nbconvert_exporter": "python",
   "pygments_lexer": "ipython3",
   "version": "3.11.4"
  },
  "orig_nbformat": 4
 },
 "nbformat": 4,
 "nbformat_minor": 2
}
